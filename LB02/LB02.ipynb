{
 "cells": [
  {
   "cell_type": "markdown",
   "metadata": {},
   "source": [
    "# LB02: Линейные модели и задача классификации"
   ]
  },
  {
   "cell_type": "markdown",
   "metadata": {},
   "source": [
    "<div style=\"text-align: right\"> ПСА 5 (Введение в машинное обучение). Мехмат, БГУ</div>\n",
    "    \n",
    "<div style=\"text-align: right\"> Тишуров Алексей, 2021 </div>"
   ]
  },
  {
   "cell_type": "markdown",
   "metadata": {},
   "source": [
    "Данный материал использует лицензию [Creative Commons CC BY-NC-SA 4.0.](https://creativecommons.org/licenses/by-nc-sa/4.0/) со всеми вытекающими. На прилагаемые к материалу датасеты лицензия не распостраняется. "
   ]
  },
  {
   "cell_type": "markdown",
   "metadata": {},
   "source": [
    "# Введение"
   ]
  },
  {
   "cell_type": "markdown",
   "metadata": {},
   "source": [
    "В данной лабораторной работе вам предлагается на практике познакомиться с задачей классификации, алгоритмом \"логистическая регрессия\" и пакетом для машинного обучения scikit-learn. Также вы разберетесь с тем, как проверять и оценивать качество предсказаний, а также делать простейшую инженерию признаков\n",
    "\n",
    "Мы будем решать задачу предсказания оттока пользователей для телеком-оператора. Необходимо предсказать, перестанет ли пользоваться услугами абонент с некоторым набором характеристик.\n",
    "\n",
    "Звездочками отмечены опциональные задания.\n",
    "\n",
    "В тексте заданий присутствуют вопросы, на которые нужно усно, вычислительно или графически ответить. Также вы должны знать значения **всех** параметров алгоритмов/функций/классовой, которые используете не по умолчанию. Для этого достаточно не забывать про официальную документацию sklearn: https://scikit-learn.org/stable/index.html"
   ]
  },
  {
   "cell_type": "code",
   "execution_count": null,
   "metadata": {},
   "outputs": [],
   "source": []
  },
  {
   "cell_type": "markdown",
   "metadata": {},
   "source": [
    "# Задание 1. Смотрим на данные"
   ]
  },
  {
   "cell_type": "markdown",
   "metadata": {},
   "source": [
    "Загрузите датасет из файла dataset.csv и проведите минимальный анализ того, что в нем происходит:\n",
    "1. Сколько данных?\n",
    "2. Сколько признаков?\n",
    "3. Какие есть признаки? Что они означают? Колонки в датасете имеют довольно \"говорящие\" названия, однако их описание \"кто-то потерял\". Придется разобраться.\n",
    "4. В какой колонке находится целевая переменная?\n",
    "5. Есть ли какие-то явные взаимосвязи между признаками?\n",
    "6. Какое типы признаков есть в данных?\n",
    "7. Есть ли пропуски в данных?\n",
    "8. Как выглядят распределения признаков? Есть ли в них явные выбросы?\n",
    "9. Сбалансированы ли классы в целевой переменной?\n",
    "\n",
    "Полезные функции: df.info(), df.describe(), df.corr(), pd.plotting.scatter() и все ваши навыки из прошлой лабы."
   ]
  },
  {
   "cell_type": "code",
   "execution_count": 2,
   "metadata": {},
   "outputs": [],
   "source": [
    "import pandas as pd\n",
    "import numpy as np\n",
    "#для отображения графиков внутри юпитера\n",
    "%matplotlib inline \n",
    "import matplotlib.pyplot as plt"
   ]
  },
  {
   "cell_type": "code",
   "execution_count": 25,
   "metadata": {},
   "outputs": [
    {
     "data": {
      "text/html": [
       "<div>\n",
       "<style scoped>\n",
       "    .dataframe tbody tr th:only-of-type {\n",
       "        vertical-align: middle;\n",
       "    }\n",
       "\n",
       "    .dataframe tbody tr th {\n",
       "        vertical-align: top;\n",
       "    }\n",
       "\n",
       "    .dataframe thead th {\n",
       "        text-align: right;\n",
       "    }\n",
       "</style>\n",
       "<table border=\"1\" class=\"dataframe\">\n",
       "  <thead>\n",
       "    <tr style=\"text-align: right;\">\n",
       "      <th></th>\n",
       "      <th>CustomerID</th>\n",
       "      <th>Gender</th>\n",
       "      <th>Senior Citizen</th>\n",
       "      <th>Partner</th>\n",
       "      <th>Dependents</th>\n",
       "      <th>Tenure</th>\n",
       "      <th>Phone Service</th>\n",
       "      <th>Multiple Lines</th>\n",
       "      <th>Internet Service</th>\n",
       "      <th>Online Security</th>\n",
       "      <th>...</th>\n",
       "      <th>Device Protection</th>\n",
       "      <th>Tech Support</th>\n",
       "      <th>Streaming TV</th>\n",
       "      <th>Streaming Movies</th>\n",
       "      <th>Contract</th>\n",
       "      <th>Paperless Billing</th>\n",
       "      <th>Payment Method</th>\n",
       "      <th>Monthly Charges</th>\n",
       "      <th>Total Charges</th>\n",
       "      <th>Churn</th>\n",
       "    </tr>\n",
       "  </thead>\n",
       "  <tbody>\n",
       "    <tr>\n",
       "      <th>0</th>\n",
       "      <td>7590-VHVEG</td>\n",
       "      <td>0</td>\n",
       "      <td>0</td>\n",
       "      <td>Yes</td>\n",
       "      <td>No</td>\n",
       "      <td>1</td>\n",
       "      <td>No</td>\n",
       "      <td>No phone service</td>\n",
       "      <td>DSL</td>\n",
       "      <td>No</td>\n",
       "      <td>...</td>\n",
       "      <td>No</td>\n",
       "      <td>No</td>\n",
       "      <td>No</td>\n",
       "      <td>No</td>\n",
       "      <td>Month-to-month</td>\n",
       "      <td>Yes</td>\n",
       "      <td>Electronic check</td>\n",
       "      <td>29.85</td>\n",
       "      <td>29.85</td>\n",
       "      <td>No</td>\n",
       "    </tr>\n",
       "    <tr>\n",
       "      <th>1</th>\n",
       "      <td>5575-GNVDE</td>\n",
       "      <td>1</td>\n",
       "      <td>0</td>\n",
       "      <td>No</td>\n",
       "      <td>No</td>\n",
       "      <td>34</td>\n",
       "      <td>Yes</td>\n",
       "      <td>No</td>\n",
       "      <td>DSL</td>\n",
       "      <td>Yes</td>\n",
       "      <td>...</td>\n",
       "      <td>Yes</td>\n",
       "      <td>No</td>\n",
       "      <td>No</td>\n",
       "      <td>No</td>\n",
       "      <td>One year</td>\n",
       "      <td>No</td>\n",
       "      <td>Mailed check</td>\n",
       "      <td>56.95</td>\n",
       "      <td>1889.50</td>\n",
       "      <td>No</td>\n",
       "    </tr>\n",
       "    <tr>\n",
       "      <th>2</th>\n",
       "      <td>3668-QPYBK</td>\n",
       "      <td>1</td>\n",
       "      <td>0</td>\n",
       "      <td>No</td>\n",
       "      <td>No</td>\n",
       "      <td>2</td>\n",
       "      <td>Yes</td>\n",
       "      <td>No</td>\n",
       "      <td>DSL</td>\n",
       "      <td>Yes</td>\n",
       "      <td>...</td>\n",
       "      <td>No</td>\n",
       "      <td>No</td>\n",
       "      <td>No</td>\n",
       "      <td>No</td>\n",
       "      <td>Month-to-month</td>\n",
       "      <td>Yes</td>\n",
       "      <td>Mailed check</td>\n",
       "      <td>53.85</td>\n",
       "      <td>108.15</td>\n",
       "      <td>Yes</td>\n",
       "    </tr>\n",
       "    <tr>\n",
       "      <th>3</th>\n",
       "      <td>7795-CFOCW</td>\n",
       "      <td>1</td>\n",
       "      <td>0</td>\n",
       "      <td>No</td>\n",
       "      <td>No</td>\n",
       "      <td>45</td>\n",
       "      <td>No</td>\n",
       "      <td>No phone service</td>\n",
       "      <td>DSL</td>\n",
       "      <td>Yes</td>\n",
       "      <td>...</td>\n",
       "      <td>Yes</td>\n",
       "      <td>Yes</td>\n",
       "      <td>No</td>\n",
       "      <td>No</td>\n",
       "      <td>One year</td>\n",
       "      <td>No</td>\n",
       "      <td>Bank transfer (automatic)</td>\n",
       "      <td>42.30</td>\n",
       "      <td>1840.75</td>\n",
       "      <td>No</td>\n",
       "    </tr>\n",
       "    <tr>\n",
       "      <th>4</th>\n",
       "      <td>9237-HQITU</td>\n",
       "      <td>0</td>\n",
       "      <td>0</td>\n",
       "      <td>No</td>\n",
       "      <td>No</td>\n",
       "      <td>2</td>\n",
       "      <td>Yes</td>\n",
       "      <td>No</td>\n",
       "      <td>Fiber optic</td>\n",
       "      <td>No</td>\n",
       "      <td>...</td>\n",
       "      <td>No</td>\n",
       "      <td>No</td>\n",
       "      <td>No</td>\n",
       "      <td>No</td>\n",
       "      <td>Month-to-month</td>\n",
       "      <td>Yes</td>\n",
       "      <td>Electronic check</td>\n",
       "      <td>70.70</td>\n",
       "      <td>151.65</td>\n",
       "      <td>Yes</td>\n",
       "    </tr>\n",
       "  </tbody>\n",
       "</table>\n",
       "<p>5 rows × 21 columns</p>\n",
       "</div>"
      ],
      "text/plain": [
       "   CustomerID  Gender  Senior Citizen Partner Dependents  Tenure  \\\n",
       "0  7590-VHVEG       0               0     Yes         No       1   \n",
       "1  5575-GNVDE       1               0      No         No      34   \n",
       "2  3668-QPYBK       1               0      No         No       2   \n",
       "3  7795-CFOCW       1               0      No         No      45   \n",
       "4  9237-HQITU       0               0      No         No       2   \n",
       "\n",
       "  Phone Service    Multiple Lines Internet Service Online Security  ...  \\\n",
       "0            No  No phone service              DSL              No  ...   \n",
       "1           Yes                No              DSL             Yes  ...   \n",
       "2           Yes                No              DSL             Yes  ...   \n",
       "3            No  No phone service              DSL             Yes  ...   \n",
       "4           Yes                No      Fiber optic              No  ...   \n",
       "\n",
       "  Device Protection Tech Support Streaming TV Streaming Movies  \\\n",
       "0                No           No           No               No   \n",
       "1               Yes           No           No               No   \n",
       "2                No           No           No               No   \n",
       "3               Yes          Yes           No               No   \n",
       "4                No           No           No               No   \n",
       "\n",
       "         Contract Paperless Billing             Payment Method  \\\n",
       "0  Month-to-month               Yes           Electronic check   \n",
       "1        One year                No               Mailed check   \n",
       "2  Month-to-month               Yes               Mailed check   \n",
       "3        One year                No  Bank transfer (automatic)   \n",
       "4  Month-to-month               Yes           Electronic check   \n",
       "\n",
       "  Monthly Charges  Total Charges  Churn  \n",
       "0           29.85          29.85     No  \n",
       "1           56.95        1889.50     No  \n",
       "2           53.85         108.15    Yes  \n",
       "3           42.30        1840.75     No  \n",
       "4           70.70         151.65    Yes  \n",
       "\n",
       "[5 rows x 21 columns]"
      ]
     },
     "execution_count": 25,
     "metadata": {},
     "output_type": "execute_result"
    }
   ],
   "source": [
    "df = pd.read_csv('dataset.csv')\n",
    "df.head()"
   ]
  },
  {
   "cell_type": "code",
   "execution_count": 153,
   "metadata": {},
   "outputs": [
    {
     "data": {
      "text/plain": [
       "Index(['CustomerID', 'Gender', 'Senior Citizen', 'Partner', 'Dependents',\n",
       "       'Tenure', 'Phone Service', 'Multiple Lines', 'Internet Service',\n",
       "       'Online Security', 'Online Backup', 'Device Protection', 'Tech Support',\n",
       "       'Streaming TV', 'Streaming Movies', 'Contract', 'Paperless Billing',\n",
       "       'Payment Method', 'Monthly Charges', 'Total Charges', 'Churn'],\n",
       "      dtype='object')"
      ]
     },
     "execution_count": 153,
     "metadata": {},
     "output_type": "execute_result"
    }
   ],
   "source": [
    "df.columns"
   ]
  },
  {
   "cell_type": "code",
   "execution_count": 44,
   "metadata": {},
   "outputs": [
    {
     "name": "stdout",
     "output_type": "stream",
     "text": [
      "<class 'pandas.core.frame.DataFrame'>\n",
      "RangeIndex: 6499 entries, 0 to 6498\n",
      "Data columns (total 21 columns):\n",
      " #   Column             Non-Null Count  Dtype  \n",
      "---  ------             --------------  -----  \n",
      " 0   CustomerID         6499 non-null   object \n",
      " 1   Gender             6499 non-null   int64  \n",
      " 2   Senior Citizen     6499 non-null   int64  \n",
      " 3   Partner            6499 non-null   object \n",
      " 4   Dependents         6499 non-null   object \n",
      " 5   Tenure             6499 non-null   int64  \n",
      " 6   Phone Service      6499 non-null   object \n",
      " 7   Multiple Lines     6499 non-null   object \n",
      " 8   Internet Service   6499 non-null   object \n",
      " 9   Online Security    6499 non-null   object \n",
      " 10  Online Backup      6499 non-null   object \n",
      " 11  Device Protection  6499 non-null   object \n",
      " 12  Tech Support       6499 non-null   object \n",
      " 13  Streaming TV       6499 non-null   object \n",
      " 14  Streaming Movies   6499 non-null   object \n",
      " 15  Contract           6499 non-null   object \n",
      " 16  Paperless Billing  6499 non-null   object \n",
      " 17  Payment Method     6499 non-null   object \n",
      " 18  Monthly Charges    6499 non-null   float64\n",
      " 19  Total Charges      6490 non-null   float64\n",
      " 20  Churn              6499 non-null   object \n",
      "dtypes: float64(2), int64(3), object(16)\n",
      "memory usage: 1.0+ MB\n"
     ]
    }
   ],
   "source": [
    "df.info()"
   ]
  },
  {
   "cell_type": "code",
   "execution_count": 36,
   "metadata": {},
   "outputs": [
    {
     "data": {
      "text/plain": [
       "<bound method NDFrame.describe of       CustomerID  Gender  Senior Citizen Partner Dependents  Tenure  \\\n",
       "0     7590-VHVEG       0               0     Yes         No       1   \n",
       "1     5575-GNVDE       1               0      No         No      34   \n",
       "2     3668-QPYBK       1               0      No         No       2   \n",
       "3     7795-CFOCW       1               0      No         No      45   \n",
       "4     9237-HQITU       0               0      No         No       2   \n",
       "...          ...     ...             ...     ...        ...     ...   \n",
       "6494  4310-KEDTB       0               0      No        Yes      26   \n",
       "6495  7254-IQWOZ       1               0      No         No       1   \n",
       "6496  2474-BRUCM       1               1     Yes         No      40   \n",
       "6497  4062-HBMOS       1               0      No         No      52   \n",
       "6498  0742-NXBGR       0               0      No         No       1   \n",
       "\n",
       "     Phone Service    Multiple Lines Internet Service Online Security  ...  \\\n",
       "0               No  No phone service              DSL              No  ...   \n",
       "1              Yes                No              DSL             Yes  ...   \n",
       "2              Yes                No              DSL             Yes  ...   \n",
       "3               No  No phone service              DSL             Yes  ...   \n",
       "4              Yes                No      Fiber optic              No  ...   \n",
       "...            ...               ...              ...             ...  ...   \n",
       "6494            No  No phone service              DSL              No  ...   \n",
       "6495           Yes                No      Fiber optic              No  ...   \n",
       "6496           Yes               Yes      Fiber optic             Yes  ...   \n",
       "6497           Yes               Yes      Fiber optic              No  ...   \n",
       "6498           Yes                No      Fiber optic              No  ...   \n",
       "\n",
       "     Device Protection Tech Support Streaming TV Streaming Movies  \\\n",
       "0                   No           No           No               No   \n",
       "1                  Yes           No           No               No   \n",
       "2                   No           No           No               No   \n",
       "3                  Yes          Yes           No               No   \n",
       "4                   No           No           No               No   \n",
       "...                ...          ...          ...              ...   \n",
       "6494               Yes           No           No               No   \n",
       "6495                No           No           No               No   \n",
       "6496                No           No          Yes              Yes   \n",
       "6497               Yes           No          Yes              Yes   \n",
       "6498               Yes           No           No               No   \n",
       "\n",
       "            Contract Paperless Billing             Payment Method  \\\n",
       "0     Month-to-month               Yes           Electronic check   \n",
       "1           One year                No               Mailed check   \n",
       "2     Month-to-month               Yes               Mailed check   \n",
       "3           One year                No  Bank transfer (automatic)   \n",
       "4     Month-to-month               Yes           Electronic check   \n",
       "...              ...               ...                        ...   \n",
       "6494  Month-to-month               Yes               Mailed check   \n",
       "6495  Month-to-month               Yes           Electronic check   \n",
       "6496  Month-to-month                No           Electronic check   \n",
       "6497  Month-to-month               Yes           Electronic check   \n",
       "6498  Month-to-month               Yes           Electronic check   \n",
       "\n",
       "     Monthly Charges  Total Charges  Churn  \n",
       "0              29.85          29.85     No  \n",
       "1              56.95        1889.50     No  \n",
       "2              53.85         108.15    Yes  \n",
       "3              42.30        1840.75     No  \n",
       "4              70.70         151.65    Yes  \n",
       "...              ...            ...    ...  \n",
       "6494           29.80         786.50     No  \n",
       "6495           69.65          69.65    Yes  \n",
       "6496          101.85        4086.30    Yes  \n",
       "6497          103.05        5364.80     No  \n",
       "6498           82.30          82.30    Yes  \n",
       "\n",
       "[6499 rows x 21 columns]>"
      ]
     },
     "execution_count": 36,
     "metadata": {},
     "output_type": "execute_result"
    }
   ],
   "source": [
    "df.describe"
   ]
  },
  {
   "cell_type": "code",
   "execution_count": 42,
   "metadata": {},
   "outputs": [
    {
     "data": {
      "image/png": "[encoded data removed]",
      "text/plain": [
       "<Figure size 432x288 with 1 Axes>"
      ]
     },
     "metadata": {
      "needs_background": "light"
     },
     "output_type": "display_data"
    },
    {
     "data": {
      "image/png": "[encoded data removed]",
      "text/plain": [
       "<Figure size 432x288 with 1 Axes>"
      ]
     },
     "metadata": {
      "needs_background": "light"
     },
     "output_type": "display_data"
    },
    {
     "data": {
      "image/png": "[encoded data removed]",
      "text/plain": [
       "<Figure size 432x288 with 1 Axes>"
      ]
     },
     "metadata": {
      "needs_background": "light"
     },
     "output_type": "display_data"
    },
    {
     "data": {
      "image/png": "[encoded data removed]",
      "text/plain": [
       "<Figure size 432x288 with 1 Axes>"
      ]
     },
     "metadata": {
      "needs_background": "light"
     },
     "output_type": "display_data"
    },
    {
     "data": {
      "image/png": "[encoded data removed]",
      "text/plain": [
       "<Figure size 432x288 with 1 Axes>"
      ]
     },
     "metadata": {
      "needs_background": "light"
     },
     "output_type": "display_data"
    }
   ],
   "source": [
    "corr = df.corr().abs().unstack().sort_values(kind=\"quicksort\").drop_duplicates()[-6:-1]\n",
    "for i in corr.index:\n",
    "    df.plot.scatter(x = i[0], y = i[1] )\n",
    "plt.show()"
   ]
  },
  {
   "cell_type": "code",
   "execution_count": 349,
   "metadata": {},
   "outputs": [
    {
     "data": {
      "text/html": [
       "<div>\n",
       "<style scoped>\n",
       "    .dataframe tbody tr th:only-of-type {\n",
       "        vertical-align: middle;\n",
       "    }\n",
       "\n",
       "    .dataframe tbody tr th {\n",
       "        vertical-align: top;\n",
       "    }\n",
       "\n",
       "    .dataframe thead th {\n",
       "        text-align: right;\n",
       "    }\n",
       "</style>\n",
       "<table border=\"1\" class=\"dataframe\">\n",
       "  <thead>\n",
       "    <tr style=\"text-align: right;\">\n",
       "      <th></th>\n",
       "      <th>Gender</th>\n",
       "      <th>Senior Citizen</th>\n",
       "      <th>Tenure</th>\n",
       "      <th>Monthly Charges</th>\n",
       "      <th>Total Charges</th>\n",
       "    </tr>\n",
       "  </thead>\n",
       "  <tbody>\n",
       "  </tbody>\n",
       "</table>\n",
       "</div>"
      ],
      "text/plain": [
       "Empty DataFrame\n",
       "Columns: [Gender, Senior Citizen, Tenure, Monthly Charges, Total Charges]\n",
       "Index: []"
      ]
     },
     "execution_count": 349,
     "metadata": {},
     "output_type": "execute_result"
    }
   ],
   "source": [
    "numerics = ['int16', 'int32', 'int64', 'float16', 'float32', 'float64']\n",
    "newdf = df.select_dtypes(include=numerics)\n",
    "newdf[newdf.apply(lambda x: np.abs(x - x.mean()) / x.std() > 3).all(axis=1)]"
   ]
  },
  {
   "cell_type": "code",
   "execution_count": null,
   "metadata": {},
   "outputs": [],
   "source": []
  },
  {
   "cell_type": "markdown",
   "metadata": {},
   "source": [
    "# Задание 2. Готовим данные к обучению"
   ]
  },
  {
   "cell_type": "markdown",
   "metadata": {},
   "source": [
    "## Подготовка признаков"
   ]
  },
  {
   "cell_type": "markdown",
   "metadata": {},
   "source": [
    "Преобразуйте датафрейм в X - матрицу признаков и y - вектор с целевой переменной. Для этого нужно:\n",
    "1. Отделить от фрейма столбец с целевой переменной и преобразовать записи в нем из строк названий классов в числа 0 и 1. Если в данных есть пропуски, то заполнить их нулями\n",
    "2. Убрать столбец CustomerID (но не забыть про него, он может понадобиться для некоторых описательных заданий)\n",
    "3. Для категориальных признаков провести dummy кодирование с помощью pd.get_dummies(). Обратите внимание на параметр drop_first. Стоит ли его использовать?\n",
    "4. Преобразовать фреймы в np.array с именами X и y соответственно\n",
    "5. Преобразуйте матрицу признаков при помощи StandardScaler. Зачем мы это делаем?"
   ]
  },
  {
   "cell_type": "code",
   "execution_count": 405,
   "metadata": {},
   "outputs": [
    {
     "data": {
      "text/plain": [
       "6499"
      ]
     },
     "execution_count": 405,
     "metadata": {},
     "output_type": "execute_result"
    }
   ],
   "source": [
    "Y = df['Churn'].values\n",
    "Y = np.where(Y=='Yes', 1,Y ) \n",
    "Y = np.where(Y != 1, 0,Y ) \n",
    "Y = Y.astype('int') \n",
    "Y.size"
   ]
  },
  {
   "cell_type": "code",
   "execution_count": 61,
   "metadata": {},
   "outputs": [
    {
     "data": {
      "text/html": [
       "<div>\n",
       "<style scoped>\n",
       "    .dataframe tbody tr th:only-of-type {\n",
       "        vertical-align: middle;\n",
       "    }\n",
       "\n",
       "    .dataframe tbody tr th {\n",
       "        vertical-align: top;\n",
       "    }\n",
       "\n",
       "    .dataframe thead th {\n",
       "        text-align: right;\n",
       "    }\n",
       "</style>\n",
       "<table border=\"1\" class=\"dataframe\">\n",
       "  <thead>\n",
       "    <tr style=\"text-align: right;\">\n",
       "      <th></th>\n",
       "      <th>CustomerID</th>\n",
       "      <th>Gender</th>\n",
       "      <th>Senior Citizen</th>\n",
       "      <th>Partner</th>\n",
       "      <th>Dependents</th>\n",
       "      <th>Tenure</th>\n",
       "      <th>Phone Service</th>\n",
       "      <th>Multiple Lines</th>\n",
       "      <th>Internet Service</th>\n",
       "      <th>Online Security</th>\n",
       "      <th>...</th>\n",
       "      <th>Device Protection</th>\n",
       "      <th>Tech Support</th>\n",
       "      <th>Streaming TV</th>\n",
       "      <th>Streaming Movies</th>\n",
       "      <th>Contract</th>\n",
       "      <th>Paperless Billing</th>\n",
       "      <th>Payment Method</th>\n",
       "      <th>Monthly Charges</th>\n",
       "      <th>Total Charges</th>\n",
       "      <th>Churn</th>\n",
       "    </tr>\n",
       "  </thead>\n",
       "  <tbody>\n",
       "    <tr>\n",
       "      <th>488</th>\n",
       "      <td>4472-LVYGI</td>\n",
       "      <td>0</td>\n",
       "      <td>0</td>\n",
       "      <td>Yes</td>\n",
       "      <td>Yes</td>\n",
       "      <td>0</td>\n",
       "      <td>No</td>\n",
       "      <td>No phone service</td>\n",
       "      <td>DSL</td>\n",
       "      <td>Yes</td>\n",
       "      <td>...</td>\n",
       "      <td>Yes</td>\n",
       "      <td>Yes</td>\n",
       "      <td>Yes</td>\n",
       "      <td>No</td>\n",
       "      <td>Two year</td>\n",
       "      <td>Yes</td>\n",
       "      <td>Bank transfer (automatic)</td>\n",
       "      <td>52.55</td>\n",
       "      <td>NaN</td>\n",
       "      <td>No</td>\n",
       "    </tr>\n",
       "    <tr>\n",
       "      <th>753</th>\n",
       "      <td>3115-CZMZD</td>\n",
       "      <td>1</td>\n",
       "      <td>0</td>\n",
       "      <td>No</td>\n",
       "      <td>Yes</td>\n",
       "      <td>0</td>\n",
       "      <td>Yes</td>\n",
       "      <td>No</td>\n",
       "      <td>No</td>\n",
       "      <td>No internet service</td>\n",
       "      <td>...</td>\n",
       "      <td>No internet service</td>\n",
       "      <td>No internet service</td>\n",
       "      <td>No internet service</td>\n",
       "      <td>No internet service</td>\n",
       "      <td>Two year</td>\n",
       "      <td>No</td>\n",
       "      <td>Mailed check</td>\n",
       "      <td>20.25</td>\n",
       "      <td>NaN</td>\n",
       "      <td>No</td>\n",
       "    </tr>\n",
       "    <tr>\n",
       "      <th>936</th>\n",
       "      <td>5709-LVOEQ</td>\n",
       "      <td>0</td>\n",
       "      <td>0</td>\n",
       "      <td>Yes</td>\n",
       "      <td>Yes</td>\n",
       "      <td>0</td>\n",
       "      <td>Yes</td>\n",
       "      <td>No</td>\n",
       "      <td>DSL</td>\n",
       "      <td>Yes</td>\n",
       "      <td>...</td>\n",
       "      <td>Yes</td>\n",
       "      <td>No</td>\n",
       "      <td>Yes</td>\n",
       "      <td>Yes</td>\n",
       "      <td>Two year</td>\n",
       "      <td>No</td>\n",
       "      <td>Mailed check</td>\n",
       "      <td>80.85</td>\n",
       "      <td>NaN</td>\n",
       "      <td>No</td>\n",
       "    </tr>\n",
       "    <tr>\n",
       "      <th>1082</th>\n",
       "      <td>4367-NUYAO</td>\n",
       "      <td>1</td>\n",
       "      <td>0</td>\n",
       "      <td>Yes</td>\n",
       "      <td>Yes</td>\n",
       "      <td>0</td>\n",
       "      <td>Yes</td>\n",
       "      <td>Yes</td>\n",
       "      <td>No</td>\n",
       "      <td>No internet service</td>\n",
       "      <td>...</td>\n",
       "      <td>No internet service</td>\n",
       "      <td>No internet service</td>\n",
       "      <td>No internet service</td>\n",
       "      <td>No internet service</td>\n",
       "      <td>Two year</td>\n",
       "      <td>No</td>\n",
       "      <td>Mailed check</td>\n",
       "      <td>25.75</td>\n",
       "      <td>NaN</td>\n",
       "      <td>No</td>\n",
       "    </tr>\n",
       "    <tr>\n",
       "      <th>1340</th>\n",
       "      <td>1371-DWPAZ</td>\n",
       "      <td>0</td>\n",
       "      <td>0</td>\n",
       "      <td>Yes</td>\n",
       "      <td>Yes</td>\n",
       "      <td>0</td>\n",
       "      <td>No</td>\n",
       "      <td>No phone service</td>\n",
       "      <td>DSL</td>\n",
       "      <td>Yes</td>\n",
       "      <td>...</td>\n",
       "      <td>Yes</td>\n",
       "      <td>Yes</td>\n",
       "      <td>Yes</td>\n",
       "      <td>No</td>\n",
       "      <td>Two year</td>\n",
       "      <td>No</td>\n",
       "      <td>Credit card (automatic)</td>\n",
       "      <td>56.05</td>\n",
       "      <td>NaN</td>\n",
       "      <td>No</td>\n",
       "    </tr>\n",
       "    <tr>\n",
       "      <th>3331</th>\n",
       "      <td>7644-OMVMY</td>\n",
       "      <td>1</td>\n",
       "      <td>0</td>\n",
       "      <td>Yes</td>\n",
       "      <td>Yes</td>\n",
       "      <td>0</td>\n",
       "      <td>Yes</td>\n",
       "      <td>No</td>\n",
       "      <td>No</td>\n",
       "      <td>No internet service</td>\n",
       "      <td>...</td>\n",
       "      <td>No internet service</td>\n",
       "      <td>No internet service</td>\n",
       "      <td>No internet service</td>\n",
       "      <td>No internet service</td>\n",
       "      <td>Two year</td>\n",
       "      <td>No</td>\n",
       "      <td>Mailed check</td>\n",
       "      <td>19.85</td>\n",
       "      <td>NaN</td>\n",
       "      <td>No</td>\n",
       "    </tr>\n",
       "    <tr>\n",
       "      <th>3826</th>\n",
       "      <td>3213-VVOLG</td>\n",
       "      <td>1</td>\n",
       "      <td>0</td>\n",
       "      <td>Yes</td>\n",
       "      <td>Yes</td>\n",
       "      <td>0</td>\n",
       "      <td>Yes</td>\n",
       "      <td>Yes</td>\n",
       "      <td>No</td>\n",
       "      <td>No internet service</td>\n",
       "      <td>...</td>\n",
       "      <td>No internet service</td>\n",
       "      <td>No internet service</td>\n",
       "      <td>No internet service</td>\n",
       "      <td>No internet service</td>\n",
       "      <td>Two year</td>\n",
       "      <td>No</td>\n",
       "      <td>Mailed check</td>\n",
       "      <td>25.35</td>\n",
       "      <td>NaN</td>\n",
       "      <td>No</td>\n",
       "    </tr>\n",
       "    <tr>\n",
       "      <th>4380</th>\n",
       "      <td>2520-SGTTA</td>\n",
       "      <td>0</td>\n",
       "      <td>0</td>\n",
       "      <td>Yes</td>\n",
       "      <td>Yes</td>\n",
       "      <td>0</td>\n",
       "      <td>Yes</td>\n",
       "      <td>No</td>\n",
       "      <td>No</td>\n",
       "      <td>No internet service</td>\n",
       "      <td>...</td>\n",
       "      <td>No internet service</td>\n",
       "      <td>No internet service</td>\n",
       "      <td>No internet service</td>\n",
       "      <td>No internet service</td>\n",
       "      <td>Two year</td>\n",
       "      <td>No</td>\n",
       "      <td>Mailed check</td>\n",
       "      <td>20.00</td>\n",
       "      <td>NaN</td>\n",
       "      <td>No</td>\n",
       "    </tr>\n",
       "    <tr>\n",
       "      <th>5218</th>\n",
       "      <td>2923-ARZLG</td>\n",
       "      <td>1</td>\n",
       "      <td>0</td>\n",
       "      <td>Yes</td>\n",
       "      <td>Yes</td>\n",
       "      <td>0</td>\n",
       "      <td>Yes</td>\n",
       "      <td>No</td>\n",
       "      <td>No</td>\n",
       "      <td>No internet service</td>\n",
       "      <td>...</td>\n",
       "      <td>No internet service</td>\n",
       "      <td>No internet service</td>\n",
       "      <td>No internet service</td>\n",
       "      <td>No internet service</td>\n",
       "      <td>One year</td>\n",
       "      <td>Yes</td>\n",
       "      <td>Mailed check</td>\n",
       "      <td>19.70</td>\n",
       "      <td>NaN</td>\n",
       "      <td>No</td>\n",
       "    </tr>\n",
       "  </tbody>\n",
       "</table>\n",
       "<p>9 rows × 21 columns</p>\n",
       "</div>"
      ],
      "text/plain": [
       "      CustomerID  Gender  Senior Citizen Partner Dependents  Tenure  \\\n",
       "488   4472-LVYGI       0               0     Yes        Yes       0   \n",
       "753   3115-CZMZD       1               0      No        Yes       0   \n",
       "936   5709-LVOEQ       0               0     Yes        Yes       0   \n",
       "1082  4367-NUYAO       1               0     Yes        Yes       0   \n",
       "1340  1371-DWPAZ       0               0     Yes        Yes       0   \n",
       "3331  7644-OMVMY       1               0     Yes        Yes       0   \n",
       "3826  3213-VVOLG       1               0     Yes        Yes       0   \n",
       "4380  2520-SGTTA       0               0     Yes        Yes       0   \n",
       "5218  2923-ARZLG       1               0     Yes        Yes       0   \n",
       "\n",
       "     Phone Service    Multiple Lines Internet Service      Online Security  \\\n",
       "488             No  No phone service              DSL                  Yes   \n",
       "753            Yes                No               No  No internet service   \n",
       "936            Yes                No              DSL                  Yes   \n",
       "1082           Yes               Yes               No  No internet service   \n",
       "1340            No  No phone service              DSL                  Yes   \n",
       "3331           Yes                No               No  No internet service   \n",
       "3826           Yes               Yes               No  No internet service   \n",
       "4380           Yes                No               No  No internet service   \n",
       "5218           Yes                No               No  No internet service   \n",
       "\n",
       "      ...    Device Protection         Tech Support         Streaming TV  \\\n",
       "488   ...                  Yes                  Yes                  Yes   \n",
       "753   ...  No internet service  No internet service  No internet service   \n",
       "936   ...                  Yes                   No                  Yes   \n",
       "1082  ...  No internet service  No internet service  No internet service   \n",
       "1340  ...                  Yes                  Yes                  Yes   \n",
       "3331  ...  No internet service  No internet service  No internet service   \n",
       "3826  ...  No internet service  No internet service  No internet service   \n",
       "4380  ...  No internet service  No internet service  No internet service   \n",
       "5218  ...  No internet service  No internet service  No internet service   \n",
       "\n",
       "         Streaming Movies  Contract Paperless Billing  \\\n",
       "488                    No  Two year               Yes   \n",
       "753   No internet service  Two year                No   \n",
       "936                   Yes  Two year                No   \n",
       "1082  No internet service  Two year                No   \n",
       "1340                   No  Two year                No   \n",
       "3331  No internet service  Two year                No   \n",
       "3826  No internet service  Two year                No   \n",
       "4380  No internet service  Two year                No   \n",
       "5218  No internet service  One year               Yes   \n",
       "\n",
       "                 Payment Method Monthly Charges  Total Charges  Churn  \n",
       "488   Bank transfer (automatic)           52.55            NaN     No  \n",
       "753                Mailed check           20.25            NaN     No  \n",
       "936                Mailed check           80.85            NaN     No  \n",
       "1082               Mailed check           25.75            NaN     No  \n",
       "1340    Credit card (automatic)           56.05            NaN     No  \n",
       "3331               Mailed check           19.85            NaN     No  \n",
       "3826               Mailed check           25.35            NaN     No  \n",
       "4380               Mailed check           20.00            NaN     No  \n",
       "5218               Mailed check           19.70            NaN     No  \n",
       "\n",
       "[9 rows x 21 columns]"
      ]
     },
     "execution_count": 61,
     "metadata": {},
     "output_type": "execute_result"
    }
   ],
   "source": [
    "df[df['Total Charges'].isna()]"
   ]
  },
  {
   "cell_type": "code",
   "execution_count": 65,
   "metadata": {},
   "outputs": [
    {
     "data": {
      "text/plain": [
       "array([[ 488,    4],\n",
       "       [ 753,    4],\n",
       "       [ 936,    4],\n",
       "       [1082,    4],\n",
       "       [1340,    4],\n",
       "       [3331,    4],\n",
       "       [3826,    4],\n",
       "       [4380,    4],\n",
       "       [5218,    4]])"
      ]
     },
     "execution_count": 65,
     "metadata": {},
     "output_type": "execute_result"
    }
   ],
   "source": [
    "df1 = df.drop(['CustomerID','Churn'],axis = 1)\n",
    "X = pd.get_dummies(df1).values\n",
    "np.argwhere(np.isnan(X))"
   ]
  },
  {
   "cell_type": "code",
   "execution_count": 67,
   "metadata": {},
   "outputs": [],
   "source": [
    "X[np.isnan(X)]= 0"
   ]
  },
  {
   "cell_type": "code",
   "execution_count": 81,
   "metadata": {},
   "outputs": [
    {
     "data": {
      "text/plain": [
       "array([0, 0, 1, ..., 1, 0, 1])"
      ]
     },
     "execution_count": 81,
     "metadata": {},
     "output_type": "execute_result"
    }
   ],
   "source": [
    " "
   ]
  },
  {
   "cell_type": "markdown",
   "metadata": {},
   "source": [
    "## Разделение обучающей выборки"
   ]
  },
  {
   "cell_type": "markdown",
   "metadata": {},
   "source": [
    "\n",
    "Разделите данные для обучения на тренировочные и тестовые с помощью train_test_split. Сравните, какое среднее значение получается y_train и y_test при параметре shuffle=True и shuffle=False. Как лучше? Почему?\n",
    "\n",
    "Используйте test_size=0.2, random_state=42\n",
    "\n",
    "Что означает random_state? Почему он равен 42?\n",
    "\n",
    "Обратите внимание, что вы перемешиваете данные! Дальше по лабе это будет важно."
   ]
  },
  {
   "cell_type": "code",
   "execution_count": 6,
   "metadata": {},
   "outputs": [],
   "source": [
    "from sklearn.model_selection import train_test_split\n",
    "from sklearn.preprocessing import StandardScaler"
   ]
  },
  {
   "cell_type": "code",
   "execution_count": 103,
   "metadata": {},
   "outputs": [],
   "source": [
    "X_train, X_test, y_train, y_test = train_test_split(X, Y, test_size=0.2, random_state=42)"
   ]
  },
  {
   "cell_type": "code",
   "execution_count": 112,
   "metadata": {},
   "outputs": [],
   "source": [
    "scaler = StandardScaler()\n",
    "X_new = scaler.fit_transform(X)\n",
    "X_train, X_test, y_train, y_test = train_test_split(X_new, Y, test_size=0.2, random_state=42)"
   ]
  },
  {
   "cell_type": "code",
   "execution_count": 111,
   "metadata": {},
   "outputs": [
    {
     "data": {
      "text/plain": [
       "[array([[ 0.,  0.,  1., ...,  0.,  1.,  0.],\n",
       "        [ 1.,  0., 34., ...,  0.,  0.,  1.],\n",
       "        [ 1.,  0.,  2., ...,  0.,  0.,  1.],\n",
       "        ...,\n",
       "        [ 0.,  1., 66., ...,  0.,  0.,  0.],\n",
       "        [ 0.,  0., 72., ...,  0.,  1.,  0.],\n",
       "        [ 0.,  1., 47., ...,  0.,  1.,  0.]]),\n",
       " array([[ 0.,  0., 51., ...,  0.,  1.,  0.],\n",
       "        [ 0.,  0., 70., ...,  0.,  1.,  0.],\n",
       "        [ 1.,  0.,  9., ...,  0.,  1.,  0.],\n",
       "        ...,\n",
       "        [ 1.,  1., 40., ...,  0.,  1.,  0.],\n",
       "        [ 1.,  0., 52., ...,  0.,  1.,  0.],\n",
       "        [ 0.,  0.,  1., ...,  0.,  1.,  0.]]),\n",
       " array([0, 0, 1, ..., 0, 0, 1]),\n",
       " array([0, 0, 0, ..., 1, 0, 1])]"
      ]
     },
     "execution_count": 111,
     "metadata": {},
     "output_type": "execute_result"
    }
   ],
   "source": [
    "train_test_split(X, Y, test_size=0.2, random_state=42, shuffle = False)"
   ]
  },
  {
   "cell_type": "code",
   "execution_count": 102,
   "metadata": {},
   "outputs": [
    {
     "data": {
      "text/plain": [
       "[array([[ 0.,  0., 64., ...,  0.,  0.,  1.],\n",
       "        [ 1.,  0., 51., ...,  1.,  0.,  0.],\n",
       "        [ 1.,  0., 72., ...,  1.,  0.,  0.],\n",
       "        ...,\n",
       "        [ 1.,  0., 12., ...,  0.,  1.,  0.],\n",
       "        [ 1.,  1., 12., ...,  0.,  1.,  0.],\n",
       "        [ 1.,  0., 26., ...,  1.,  0.,  0.]]),\n",
       " array([[ 1.,  0., 70., ...,  1.,  0.,  0.],\n",
       "        [ 1.,  0., 11., ...,  0.,  1.,  0.],\n",
       "        [ 0.,  0., 17., ...,  0.,  0.,  0.],\n",
       "        ...,\n",
       "        [ 0.,  0.,  7., ...,  0.,  0.,  0.],\n",
       "        [ 1.,  0., 10., ...,  0.,  0.,  1.],\n",
       "        [ 0.,  0., 63., ...,  0.,  1.,  0.]]),\n",
       " array([0, 0, 0, ..., 0, 1, 0]),\n",
       " array([0, 0, 0, ..., 1, 0, 1])]"
      ]
     },
     "execution_count": 102,
     "metadata": {},
     "output_type": "execute_result"
    }
   ],
   "source": [
    "train_test_split(X, Y, test_size=0.2, random_state=42)"
   ]
  },
  {
   "cell_type": "code",
   "execution_count": 76,
   "metadata": {},
   "outputs": [
    {
     "data": {
      "text/plain": [
       "array([[ 0.,  0., 64., ...,  0.,  0.,  1.],\n",
       "       [ 1.,  0., 51., ...,  1.,  0.,  0.],\n",
       "       [ 1.,  0., 72., ...,  1.,  0.,  0.],\n",
       "       ...,\n",
       "       [ 1.,  0., 12., ...,  0.,  1.,  0.],\n",
       "       [ 1.,  1., 12., ...,  0.,  1.,  0.],\n",
       "       [ 1.,  0., 26., ...,  1.,  0.,  0.]])"
      ]
     },
     "execution_count": 76,
     "metadata": {},
     "output_type": "execute_result"
    }
   ],
   "source": [
    "X_train"
   ]
  },
  {
   "cell_type": "markdown",
   "metadata": {},
   "source": [
    "# Задание 3. Обучение модели и оценка качества предсказаний"
   ]
  },
  {
   "cell_type": "code",
   "execution_count": 69,
   "metadata": {},
   "outputs": [],
   "source": [
    "from sklearn.linear_model import LogisticRegression\n",
    "from sklearn.metrics import accuracy_score, precision_score, recall_score, f1_score, \\\n",
    "    classification_report, roc_auc_score, plot_roc_curve"
   ]
  },
  {
   "cell_type": "markdown",
   "metadata": {},
   "source": [
    "## Обучение модели"
   ]
  },
  {
   "cell_type": "markdown",
   "metadata": {},
   "source": [
    "Обучите на тренировочных данных модель логистической регрессии с параметрами по умолчанию.\n"
   ]
  },
  {
   "cell_type": "code",
   "execution_count": 113,
   "metadata": {},
   "outputs": [],
   "source": [
    "lR = LogisticRegression()"
   ]
  },
  {
   "cell_type": "code",
   "execution_count": 114,
   "metadata": {},
   "outputs": [
    {
     "data": {
      "text/plain": [
       "LogisticRegression()"
      ]
     },
     "execution_count": 114,
     "metadata": {},
     "output_type": "execute_result"
    }
   ],
   "source": [
    "lR.fit(X_train, y_train)"
   ]
  },
  {
   "cell_type": "code",
   "execution_count": null,
   "metadata": {},
   "outputs": [],
   "source": []
  },
  {
   "cell_type": "markdown",
   "metadata": {},
   "source": [
    "## Простые метрики"
   ]
  },
  {
   "cell_type": "markdown",
   "metadata": {},
   "source": [
    "Проверьте качество модели на тестовых данных по метрикам на ваш выбор из тех, которые мы обсуждали на лекции. Поясните выбор метрик. Хорошее ли получилось качество классификации?"
   ]
  },
  {
   "cell_type": "code",
   "execution_count": 115,
   "metadata": {},
   "outputs": [
    {
     "data": {
      "text/plain": [
       "0.627831715210356"
      ]
     },
     "execution_count": 115,
     "metadata": {},
     "output_type": "execute_result"
    }
   ],
   "source": [
    "y_pred= lR.predict(X_test)\n",
    "precision_score(y_test,y_pred)"
   ]
  },
  {
   "cell_type": "code",
   "execution_count": 116,
   "metadata": {},
   "outputs": [
    {
     "name": "stdout",
     "output_type": "stream",
     "text": [
      "              precision    recall  f1-score   support\n",
      "\n",
      "           0       0.85      0.88      0.86       955\n",
      "           1       0.63      0.56      0.59       345\n",
      "\n",
      "    accuracy                           0.80      1300\n",
      "   macro avg       0.74      0.72      0.73      1300\n",
      "weighted avg       0.79      0.80      0.79      1300\n",
      "\n"
     ]
    }
   ],
   "source": [
    "print(classification_report(y_test,y_pred))"
   ]
  },
  {
   "cell_type": "code",
   "execution_count": null,
   "metadata": {},
   "outputs": [],
   "source": []
  },
  {
   "cell_type": "markdown",
   "metadata": {},
   "source": [
    "## Тестируем масштабирование данных"
   ]
  },
  {
   "cell_type": "markdown",
   "metadata": {},
   "source": [
    "Проверьте, что будет, если не делать масштабирование данных с разными solver.  Почему так получается?\n",
    "\n",
    "ВНИМАНИЕ! Для нас solver не принципиален. Тут важно понять, как будет вести себя модель в разных случаях при наличии/отсутствии стандартизации данных. "
   ]
  },
  {
   "cell_type": "code",
   "execution_count": 126,
   "metadata": {},
   "outputs": [
    {
     "name": "stderr",
     "output_type": "stream",
     "text": [
      "/Users/natalliazzz/opt/anaconda3/lib/python3.8/site-packages/sklearn/linear_model/_sag.py:328: ConvergenceWarning: The max_iter was reached which means the coef_ did not converge\n",
      "  warnings.warn(\"The max_iter was reached which means \"\n"
     ]
    },
    {
     "data": {
      "text/plain": [
       "0.5454545454545454"
      ]
     },
     "execution_count": 126,
     "metadata": {},
     "output_type": "execute_result"
    }
   ],
   "source": [
    "X_train1, X_test1, y_train1, y_test1 = train_test_split(X, Y, test_size=0.2, random_state=42)\n",
    "lR1 = LogisticRegression(solver = 'sag')\n",
    "lR1.fit(X_train1, y_train1)\n",
    "y_pred1= lR1.predict(X_test1)\n",
    "precision_score(y_test1,y_pred1)"
   ]
  },
  {
   "cell_type": "code",
   "execution_count": 127,
   "metadata": {},
   "outputs": [
    {
     "data": {
      "text/plain": [
       "0.627831715210356"
      ]
     },
     "execution_count": 127,
     "metadata": {},
     "output_type": "execute_result"
    }
   ],
   "source": [
    "X_train2, X_test2, y_train2, y_test2 = train_test_split(X_new, Y, test_size=0.2, random_state=42)\n",
    "lR2 = LogisticRegression(solver = 'sag')\n",
    "lR2.fit(X_train2, y_train2)\n",
    "y_pred2= lR2.predict(X_test2)\n",
    "precision_score(y_test2,y_pred2)"
   ]
  },
  {
   "cell_type": "markdown",
   "metadata": {},
   "source": [
    "## Шатаем параметры"
   ]
  },
  {
   "cell_type": "markdown",
   "metadata": {},
   "source": [
    "Разберитесь, что означают параметры LogisticRegression и попробуйте улучшить качество, изменяя значения параметров, влияющих на модель. Удобно презентуйте полученные результаты(таблица, график и т.д.)."
   ]
  },
  {
   "cell_type": "code",
   "execution_count": 130,
   "metadata": {},
   "outputs": [
    {
     "data": {
      "text/plain": [
       "0.627831715210356"
      ]
     },
     "execution_count": 130,
     "metadata": {},
     "output_type": "execute_result"
    }
   ],
   "source": [
    "X_train3, X_test3, y_train3, y_test3 = train_test_split(X_new, Y, test_size=0.2, random_state=42)\n",
    "lR3 = LogisticRegression(solver = 'saga', max_iter = 200)\n",
    "lR3.fit(X_train3, y_train3)\n",
    "y_pred3= lR3.predict(X_test3)\n",
    "precision_score(y_test3,y_pred3)"
   ]
  },
  {
   "cell_type": "code",
   "execution_count": 132,
   "metadata": {},
   "outputs": [
    {
     "data": {
      "text/plain": [
       "0.6298701298701299"
      ]
     },
     "execution_count": 132,
     "metadata": {},
     "output_type": "execute_result"
    }
   ],
   "source": [
    "X_train4, X_test4, y_train4, y_test4 = train_test_split(X_new, Y, test_size=0.2, random_state=42)\n",
    "lR4 = LogisticRegression(solver = 'saga', max_iter = 200,penalty = 'l1')\n",
    "lR4.fit(X_train4, y_train4)\n",
    "y_pred4= lR4.predict(X_test4)\n",
    "precision_score(y_test4,y_pred4)"
   ]
  },
  {
   "cell_type": "code",
   "execution_count": 134,
   "metadata": {},
   "outputs": [
    {
     "data": {
      "text/plain": [
       "0.6360655737704918"
      ]
     },
     "execution_count": 134,
     "metadata": {},
     "output_type": "execute_result"
    }
   ],
   "source": [
    "X_train5, X_test5, y_train5, y_test5 = train_test_split(X_new, Y, test_size=0.2, random_state=42)\n",
    "lR5 = LogisticRegression(solver = 'saga', max_iter = 200,penalty = 'l1', C = 0.5)\n",
    "lR5.fit(X_train5, y_train5)\n",
    "y_pred5= lR5.predict(X_test5)\n",
    "precision_score(y_test5,y_pred5)"
   ]
  },
  {
   "cell_type": "code",
   "execution_count": 138,
   "metadata": {},
   "outputs": [
    {
     "data": {
      "text/plain": [
       "0.6360655737704918"
      ]
     },
     "execution_count": 138,
     "metadata": {},
     "output_type": "execute_result"
    }
   ],
   "source": [
    "X_train6, X_test6, y_train6, y_test6 = train_test_split(X_new, Y, test_size=0.2, random_state=42)\n",
    "lR6 = LogisticRegression(solver = 'liblinear', max_iter = 200,penalty = 'l1', C = 0.5, tol = 1e-7)\n",
    "lR6.fit(X_train6, y_train6)\n",
    "y_pred6= lR6.predict(X_test6)\n",
    "precision_score(y_test6,y_pred6)"
   ]
  },
  {
   "cell_type": "markdown",
   "metadata": {},
   "source": [
    "## ROC-кривая"
   ]
  },
  {
   "cell_type": "markdown",
   "metadata": {},
   "source": [
    "Самостоятельно прочитайте про метрику ROC-AUC и разберитесь с тем, что она такое. Ссылки для ознакомления (**обратите особое внимание на то, от чего считается эта метрика. Вид предсказаний для остальных метрик и для roc_auc отличаются!**):\n",
    "1. https://dyakonov.org/2017/07/28/auc-roc-%D0%BF%D0%BB%D0%BE%D1%89%D0%B0%D0%B4%D1%8C-%D0%BF%D0%BE%D0%B4-%D0%BA%D1%80%D0%B8%D0%B2%D0%BE%D0%B9-%D0%BE%D1%88%D0%B8%D0%B1%D0%BE%D0%BA/\n",
    "2. https://ru.wikipedia.org/wiki/ROC-%D0%BA%D1%80%D0%B8%D0%B2%D0%B0%D1%8F\n",
    "\n",
    "Нарисуйте ROC-кривую для вашего классификатора и вычислите ROC-AUC. Будьте готовы ответить на вопросы.\n"
   ]
  },
  {
   "cell_type": "markdown",
   "metadata": {},
   "source": [
    "Вспомните курс \"Нейронные сети и генетические алгоритмы\", найдите в sklearn реализацию **линейного** варианта SVM и обучите на данных с параметрами по вашему выбору и сравните качество с логистической регрессией. \n",
    "\n",
    "\n",
    "Можно ли вычислять ROC-AUC для SVM без дополнительных модификаций и калибровок?"
   ]
  },
  {
   "cell_type": "code",
   "execution_count": 139,
   "metadata": {},
   "outputs": [
    {
     "data": {
      "text/plain": [
       "0.7209499962060855"
      ]
     },
     "execution_count": 139,
     "metadata": {},
     "output_type": "execute_result"
    }
   ],
   "source": [
    "roc_auc_score(y_test, y_pred)"
   ]
  },
  {
   "cell_type": "code",
   "execution_count": 140,
   "metadata": {},
   "outputs": [
    {
     "data": {
      "text/plain": [
       "<sklearn.metrics._plot.roc_curve.RocCurveDisplay at 0x7fa8faa0f370>"
      ]
     },
     "execution_count": 140,
     "metadata": {},
     "output_type": "execute_result"
    },
    {
     "data": {
      "image/png": "[encoded data removed]",
      "text/plain": [
       "<Figure size 432x288 with 1 Axes>"
      ]
     },
     "metadata": {
      "needs_background": "light"
     },
     "output_type": "display_data"
    }
   ],
   "source": [
    "plot_roc_curve(lR, X_test, y_test) "
   ]
  },
  {
   "cell_type": "code",
   "execution_count": 141,
   "metadata": {},
   "outputs": [],
   "source": [
    "from sklearn import svm"
   ]
  },
  {
   "cell_type": "code",
   "execution_count": 142,
   "metadata": {},
   "outputs": [
    {
     "data": {
      "text/plain": [
       "SVC(kernel='linear')"
      ]
     },
     "execution_count": 142,
     "metadata": {},
     "output_type": "execute_result"
    }
   ],
   "source": [
    "clf = svm.SVC(kernel='linear')\n",
    "clf.fit(X_train,y_train)"
   ]
  },
  {
   "cell_type": "code",
   "execution_count": 293,
   "metadata": {},
   "outputs": [
    {
     "data": {
      "text/plain": [
       "0.6314102564102564"
      ]
     },
     "execution_count": 293,
     "metadata": {},
     "output_type": "execute_result"
    }
   ],
   "source": [
    "precision_score(y_test,clf.predict(X_test))"
   ]
  },
  {
   "cell_type": "code",
   "execution_count": 404,
   "metadata": {},
   "outputs": [
    {
     "ename": "ValueError",
     "evalue": "X.shape[1] = 108 should be equal to 44, the number of features at training time",
     "output_type": "error",
     "traceback": [
      "\u001b[0;31m---------------------------------------------------------------------------\u001b[0m",
      "\u001b[0;31mValueError\u001b[0m                                Traceback (most recent call last)",
      "\u001b[0;32m<ipython-input-404-e20a3541cae7>\u001b[0m in \u001b[0;36m<module>\u001b[0;34m\u001b[0m\n\u001b[0;32m----> 1\u001b[0;31m \u001b[0mroc_auc_score\u001b[0m\u001b[0;34m(\u001b[0m\u001b[0my_test\u001b[0m\u001b[0;34m,\u001b[0m \u001b[0mclf\u001b[0m\u001b[0;34m.\u001b[0m\u001b[0mpredict\u001b[0m\u001b[0;34m(\u001b[0m\u001b[0mX_test\u001b[0m\u001b[0;34m)\u001b[0m\u001b[0;34m)\u001b[0m\u001b[0;34m\u001b[0m\u001b[0;34m\u001b[0m\u001b[0m\n\u001b[0m",
      "\u001b[0;32m~/opt/anaconda3/lib/python3.8/site-packages/sklearn/svm/_base.py\u001b[0m in \u001b[0;36mpredict\u001b[0;34m(self, X)\u001b[0m\n\u001b[1;32m    622\u001b[0m             \u001b[0my\u001b[0m \u001b[0;34m=\u001b[0m \u001b[0mnp\u001b[0m\u001b[0;34m.\u001b[0m\u001b[0margmax\u001b[0m\u001b[0;34m(\u001b[0m\u001b[0mself\u001b[0m\u001b[0;34m.\u001b[0m\u001b[0mdecision_function\u001b[0m\u001b[0;34m(\u001b[0m\u001b[0mX\u001b[0m\u001b[0;34m)\u001b[0m\u001b[0;34m,\u001b[0m \u001b[0maxis\u001b[0m\u001b[0;34m=\u001b[0m\u001b[0;36m1\u001b[0m\u001b[0;34m)\u001b[0m\u001b[0;34m\u001b[0m\u001b[0;34m\u001b[0m\u001b[0m\n\u001b[1;32m    623\u001b[0m         \u001b[0;32melse\u001b[0m\u001b[0;34m:\u001b[0m\u001b[0;34m\u001b[0m\u001b[0;34m\u001b[0m\u001b[0m\n\u001b[0;32m--> 624\u001b[0;31m             \u001b[0my\u001b[0m \u001b[0;34m=\u001b[0m \u001b[0msuper\u001b[0m\u001b[0;34m(\u001b[0m\u001b[0;34m)\u001b[0m\u001b[0;34m.\u001b[0m\u001b[0mpredict\u001b[0m\u001b[0;34m(\u001b[0m\u001b[0mX\u001b[0m\u001b[0;34m)\u001b[0m\u001b[0;34m\u001b[0m\u001b[0;34m\u001b[0m\u001b[0m\n\u001b[0m\u001b[1;32m    625\u001b[0m         \u001b[0;32mreturn\u001b[0m \u001b[0mself\u001b[0m\u001b[0;34m.\u001b[0m\u001b[0mclasses_\u001b[0m\u001b[0;34m.\u001b[0m\u001b[0mtake\u001b[0m\u001b[0;34m(\u001b[0m\u001b[0mnp\u001b[0m\u001b[0;34m.\u001b[0m\u001b[0masarray\u001b[0m\u001b[0;34m(\u001b[0m\u001b[0my\u001b[0m\u001b[0;34m,\u001b[0m \u001b[0mdtype\u001b[0m\u001b[0;34m=\u001b[0m\u001b[0mnp\u001b[0m\u001b[0;34m.\u001b[0m\u001b[0mintp\u001b[0m\u001b[0;34m)\u001b[0m\u001b[0;34m)\u001b[0m\u001b[0;34m\u001b[0m\u001b[0;34m\u001b[0m\u001b[0m\n\u001b[1;32m    626\u001b[0m \u001b[0;34m\u001b[0m\u001b[0m\n",
      "\u001b[0;32m~/opt/anaconda3/lib/python3.8/site-packages/sklearn/svm/_base.py\u001b[0m in \u001b[0;36mpredict\u001b[0;34m(self, X)\u001b[0m\n\u001b[1;32m    340\u001b[0m         \u001b[0my_pred\u001b[0m \u001b[0;34m:\u001b[0m \u001b[0mndarray\u001b[0m \u001b[0mof\u001b[0m \u001b[0mshape\u001b[0m \u001b[0;34m(\u001b[0m\u001b[0mn_samples\u001b[0m\u001b[0;34m,\u001b[0m\u001b[0;34m)\u001b[0m\u001b[0;34m\u001b[0m\u001b[0;34m\u001b[0m\u001b[0m\n\u001b[1;32m    341\u001b[0m         \"\"\"\n\u001b[0;32m--> 342\u001b[0;31m         \u001b[0mX\u001b[0m \u001b[0;34m=\u001b[0m \u001b[0mself\u001b[0m\u001b[0;34m.\u001b[0m\u001b[0m_validate_for_predict\u001b[0m\u001b[0;34m(\u001b[0m\u001b[0mX\u001b[0m\u001b[0;34m)\u001b[0m\u001b[0;34m\u001b[0m\u001b[0;34m\u001b[0m\u001b[0m\n\u001b[0m\u001b[1;32m    343\u001b[0m         \u001b[0mpredict\u001b[0m \u001b[0;34m=\u001b[0m \u001b[0mself\u001b[0m\u001b[0;34m.\u001b[0m\u001b[0m_sparse_predict\u001b[0m \u001b[0;32mif\u001b[0m \u001b[0mself\u001b[0m\u001b[0;34m.\u001b[0m\u001b[0m_sparse\u001b[0m \u001b[0;32melse\u001b[0m \u001b[0mself\u001b[0m\u001b[0;34m.\u001b[0m\u001b[0m_dense_predict\u001b[0m\u001b[0;34m\u001b[0m\u001b[0;34m\u001b[0m\u001b[0m\n\u001b[1;32m    344\u001b[0m         \u001b[0;32mreturn\u001b[0m \u001b[0mpredict\u001b[0m\u001b[0;34m(\u001b[0m\u001b[0mX\u001b[0m\u001b[0;34m)\u001b[0m\u001b[0;34m\u001b[0m\u001b[0;34m\u001b[0m\u001b[0m\n",
      "\u001b[0;32m~/opt/anaconda3/lib/python3.8/site-packages/sklearn/svm/_base.py\u001b[0m in \u001b[0;36m_validate_for_predict\u001b[0;34m(self, X)\u001b[0m\n\u001b[1;32m    491\u001b[0m                                  (X.shape[1], self.shape_fit_[0]))\n\u001b[1;32m    492\u001b[0m         \u001b[0;32melif\u001b[0m \u001b[0;32mnot\u001b[0m \u001b[0mcallable\u001b[0m\u001b[0;34m(\u001b[0m\u001b[0mself\u001b[0m\u001b[0;34m.\u001b[0m\u001b[0mkernel\u001b[0m\u001b[0;34m)\u001b[0m \u001b[0;32mand\u001b[0m \u001b[0mX\u001b[0m\u001b[0;34m.\u001b[0m\u001b[0mshape\u001b[0m\u001b[0;34m[\u001b[0m\u001b[0;36m1\u001b[0m\u001b[0;34m]\u001b[0m \u001b[0;34m!=\u001b[0m \u001b[0mself\u001b[0m\u001b[0;34m.\u001b[0m\u001b[0mshape_fit_\u001b[0m\u001b[0;34m[\u001b[0m\u001b[0;36m1\u001b[0m\u001b[0;34m]\u001b[0m\u001b[0;34m:\u001b[0m\u001b[0;34m\u001b[0m\u001b[0;34m\u001b[0m\u001b[0m\n\u001b[0;32m--> 493\u001b[0;31m             raise ValueError(\"X.shape[1] = %d should be equal to %d, \"\n\u001b[0m\u001b[1;32m    494\u001b[0m                              \u001b[0;34m\"the number of features at training time\"\u001b[0m \u001b[0;34m%\u001b[0m\u001b[0;34m\u001b[0m\u001b[0;34m\u001b[0m\u001b[0m\n\u001b[1;32m    495\u001b[0m                              (X.shape[1], self.shape_fit_[1]))\n",
      "\u001b[0;31mValueError\u001b[0m: X.shape[1] = 108 should be equal to 44, the number of features at training time"
     ]
    }
   ],
   "source": [
    "roc_auc_score(y_test, clf.predict(X_test))"
   ]
  },
  {
   "cell_type": "code",
   "execution_count": null,
   "metadata": {},
   "outputs": [],
   "source": [
    "plot_roc_curve(, X_test, y_test) "
   ]
  },
  {
   "cell_type": "markdown",
   "metadata": {},
   "source": [
    "## Задание 3.5 * (Нужно выполнить, если нужна общая оценка 10)"
   ]
  },
  {
   "cell_type": "markdown",
   "metadata": {},
   "source": [
    "Метрика Lift показывает во сколько раз полученная модель лучше случайного угадывания. [Теория](https://en.wikipedia.org/wiki/Lift_(data_mining))\n",
    "\n",
    "Вам необходимо:\n",
    "1. Разобраться с метрикой lift (и уметь ее объяснить):\n",
    "\n",
    "    a. https://www.kdnuggets.com/2016/03/lift-analysis-data-scientist-secret-weapon.html\n",
    "    \n",
    "    b. https://stats.stackexchange.com/questions/17119/lift-measure-in-data-mining\n",
    "\n",
    "\n",
    "2. Реализовать lift-score.\n",
    "\n",
    "def lift_score(y_true, y_proba, top_ratio):\n",
    "\n",
    "    pass\n",
    "\n",
    "    a. y_true — вектор целевой переменной \n",
    "    b .y_proba — предсказание модели\n",
    "    c. top_ratio — доля выборки, для которой рассчитывается lift-score\n",
    "\n",
    "\n",
    "3.  Нарисовать Cumulative Lift Chart, т.е. изменение lift при варьировании параметра top_ratio"
   ]
  },
  {
   "cell_type": "code",
   "execution_count": 307,
   "metadata": {},
   "outputs": [],
   "source": [
    "def P(arr):\n",
    "    return np.count_nonzero(arr == 1)/arr.size\n",
    "\n",
    "\n",
    "def lift_score(y_true, y_proba, top_ratio):\n",
    "    y_t = np.random.choice(y_true, int(top_ratio/100* y_true.size))\n",
    "    y_p = np.random.choice(y_proba, int(top_ratio/100* y_proba.size))\n",
    "    return P(np.in1d(y_t, y_p))/(P(y_t)*P(y_p))"
   ]
  },
  {
   "cell_type": "code",
   "execution_count": 312,
   "metadata": {},
   "outputs": [
    {
     "data": {
      "text/plain": [
       "17.139959432048677"
      ]
     },
     "execution_count": 312,
     "metadata": {},
     "output_type": "execute_result"
    }
   ],
   "source": [
    "lift_score(y_test,y_pred,10)"
   ]
  },
  {
   "cell_type": "code",
   "execution_count": 280,
   "metadata": {},
   "outputs": [],
   "source": [
    "lift_score(y_test,y_pred,x)"
   ]
  },
  {
   "cell_type": "code",
   "execution_count": 331,
   "metadata": {},
   "outputs": [
    {
     "data": {
      "text/plain": [
       "<BarContainer object of 10 artists>"
      ]
     },
     "execution_count": 331,
     "metadata": {},
     "output_type": "execute_result"
    },
    {
     "data": {
      "image/png": "[encoded data removed]",
      "text/plain": [
       "<Figure size 432x288 with 1 Axes>"
      ]
     },
     "metadata": {
      "needs_background": "light"
     },
     "output_type": "display_data"
    }
   ],
   "source": [
    "x_l = np.arange(1, 101,10)\n",
    "plt.bar(x_l,[lift_score(y_test,y_pred,x) for x in x_l],8)"
   ]
  },
  {
   "cell_type": "code",
   "execution_count": null,
   "metadata": {},
   "outputs": [],
   "source": []
  },
  {
   "cell_type": "code",
   "execution_count": null,
   "metadata": {},
   "outputs": [],
   "source": []
  },
  {
   "cell_type": "markdown",
   "metadata": {},
   "source": [
    "# Задание 4. Анализ предсказаний"
   ]
  },
  {
   "cell_type": "markdown",
   "metadata": {},
   "source": [
    "Произведите анализ модели и предсказаний по трем направлениям. Задание считается выполненным, если есть **четкие ответы** на каждый из трех вопросов и **сопутствующий код**:\n",
    "\n",
    "1. Важность признаков. Hint: используйте атрибут coef_ у логистической регрессии. \n",
    "- Как связаны веса модели и наличие/отсутсвие стандартизации данных? Какой вариант для наших объяснений правильный?\n",
    "- Какие признаки получились самыми важными, а какие лишними?\n",
    "- Как правильно посчитать значимость закодированных категориальных признаков?\n",
    "2. Ищем крайних.\n",
    "- Найдите 10 людей с самой высокой и самой низкой вероятностью уйти в отток.\n",
    "- Попробуйте описать причины такого поведения\n",
    "3. Подумайте, какую пользу может извлечь телеком-оператор из вашей модели. Опишите хотя бы один пример использования."
   ]
  },
  {
   "cell_type": "code",
   "execution_count": 147,
   "metadata": {},
   "outputs": [
    {
     "data": {
      "text/plain": [
       "array([[-3.79212296e-03,  8.06918060e-02, -1.46764860e+00,\n",
       "        -7.01905235e-01,  6.79980631e-01, -2.67329618e-02,\n",
       "         2.67329618e-02,  4.18066631e-02, -4.18066631e-02,\n",
       "        -8.39420969e-05,  8.39420969e-05, -9.31456034e-02,\n",
       "        -8.39420969e-05,  9.42785143e-02, -2.94891323e-01,\n",
       "         3.61270892e-01, -9.56099264e-02,  1.23137465e-01,\n",
       "        -9.56099264e-02, -4.86821245e-02,  6.34427815e-02,\n",
       "        -9.56099264e-02,  1.69532370e-02,  2.25511000e-02,\n",
       "        -9.56099264e-02,  5.96716329e-02,  1.04750622e-01,\n",
       "        -9.56099264e-02, -2.83778875e-02, -5.12087298e-02,\n",
       "        -9.56099264e-02,  1.32897308e-01, -7.32675561e-02,\n",
       "        -9.56099264e-02,  1.54554656e-01,  2.72122549e-01,\n",
       "        -1.12757057e-02, -3.05885692e-01, -9.16651600e-02,\n",
       "         9.16651600e-02, -2.39574552e-02, -7.53672909e-02,\n",
       "         1.11560399e-01, -2.79545035e-02]])"
      ]
     },
     "execution_count": 147,
     "metadata": {},
     "output_type": "execute_result"
    }
   ],
   "source": [
    "lR.coef_"
   ]
  },
  {
   "cell_type": "code",
   "execution_count": 190,
   "metadata": {},
   "outputs": [
    {
     "data": {
      "text/plain": [
       "array([[8.50799744e-04, 4.58461043e-04, 4.30014141e-02, 6.00694386e-03,\n",
       "        7.31318310e-06, 8.58296321e-04, 7.07084318e-04, 5.30110750e-04,\n",
       "        1.03526989e-03, 1.82271362e-04, 1.38310928e-03, 1.73194974e-03,\n",
       "        1.82271362e-04, 3.48840465e-04, 1.17224746e-03, 1.20436517e-03,\n",
       "        1.59749835e-03, 7.15042674e-04, 1.59749835e-03, 6.82924960e-04,\n",
       "        2.08193701e-04, 1.59749835e-03, 1.76075987e-04, 9.09712916e-05,\n",
       "        1.59749835e-03, 5.88535772e-05, 6.35266647e-04, 1.59749835e-03,\n",
       "        6.03148933e-04, 3.67021580e-04, 1.59749835e-03, 3.99139294e-04,\n",
       "        4.52291376e-04, 1.59749835e-03, 4.84409090e-04, 9.21232004e-05,\n",
       "        7.41630432e-04, 9.15873406e-04, 1.82060045e-03, 2.55219812e-04,\n",
       "        4.79045938e-04, 5.96985817e-04, 7.14882026e-04, 1.20423091e-03]])"
      ]
     },
     "execution_count": 190,
     "metadata": {},
     "output_type": "execute_result"
    }
   ],
   "source": [
    "lR1.coef_"
   ]
  },
  {
   "cell_type": "code",
   "execution_count": 184,
   "metadata": {},
   "outputs": [
    {
     "data": {
      "text/plain": [
       "44"
      ]
     },
     "execution_count": 184,
     "metadata": {},
     "output_type": "execute_result"
    }
   ],
   "source": [
    "lR.coef_[0].size"
   ]
  },
  {
   "cell_type": "code",
   "execution_count": 186,
   "metadata": {},
   "outputs": [
    {
     "data": {
      "text/plain": [
       "44"
      ]
     },
     "execution_count": 186,
     "metadata": {},
     "output_type": "execute_result"
    }
   ],
   "source": [
    "pd.get_dummies(df1).columns.size"
   ]
  },
  {
   "cell_type": "code",
   "execution_count": 254,
   "metadata": {},
   "outputs": [
    {
     "name": "stdout",
     "output_type": "stream",
     "text": [
      "['Phone Service_Yes' 'Multiple Lines_No phone service' 'Phone Service_No'\n",
      " 'Gender' 'Contract_One year' 'Online Backup_Yes' 'Device Protection_No'\n",
      " 'Payment Method_Bank transfer (automatic)' 'Partner_Yes' 'Partner_No']\n",
      "['Online Security_No' 'Streaming TV_Yes' 'Streaming Movies_Yes'\n",
      " 'Contract_Month-to-month' 'Internet Service_DSL' 'Contract_Two year'\n",
      " 'Internet Service_Fiber optic' 'Total Charges' 'Monthly Charges' 'Tenure']\n"
     ]
    }
   ],
   "source": [
    "attr_weight = pd.DataFrame({'attribute':pd.get_dummies(df1).columns,'weight': abs(lR.coef_[0])}).sort_values(by = \"weight\")\n",
    "print(attr_weight[\"attribute\"].values[:10])\n",
    "print(attr_weight[\"attribute\"].values[-10:])"
   ]
  },
  {
   "cell_type": "code",
   "execution_count": 209,
   "metadata": {},
   "outputs": [
    {
     "data": {
      "text/plain": [
       "array([0, 1])"
      ]
     },
     "execution_count": 209,
     "metadata": {},
     "output_type": "execute_result"
    }
   ],
   "source": [
    "lR.classes_"
   ]
  },
  {
   "cell_type": "code",
   "execution_count": 233,
   "metadata": {},
   "outputs": [
    {
     "data": {
      "text/plain": [
       "Index(['Gender', 'Senior Citizen', 'Tenure', 'Monthly Charges',\n",
       "       'Total Charges', 'Partner_No', 'Partner_Yes', 'Dependents_No',\n",
       "       'Dependents_Yes', 'Phone Service_No', 'Phone Service_Yes',\n",
       "       'Multiple Lines_No', 'Multiple Lines_No phone service',\n",
       "       'Multiple Lines_Yes', 'Internet Service_DSL',\n",
       "       'Internet Service_Fiber optic', 'Internet Service_No',\n",
       "       'Online Security_No', 'Online Security_No internet service',\n",
       "       'Online Security_Yes', 'Online Backup_No',\n",
       "       'Online Backup_No internet service', 'Online Backup_Yes',\n",
       "       'Device Protection_No', 'Device Protection_No internet service',\n",
       "       'Device Protection_Yes', 'Tech Support_No',\n",
       "       'Tech Support_No internet service', 'Tech Support_Yes',\n",
       "       'Streaming TV_No', 'Streaming TV_No internet service',\n",
       "       'Streaming TV_Yes', 'Streaming Movies_No',\n",
       "       'Streaming Movies_No internet service', 'Streaming Movies_Yes',\n",
       "       'Contract_Month-to-month', 'Contract_One year', 'Contract_Two year',\n",
       "       'Paperless Billing_No', 'Paperless Billing_Yes',\n",
       "       'Payment Method_Bank transfer (automatic)',\n",
       "       'Payment Method_Credit card (automatic)',\n",
       "       'Payment Method_Electronic check', 'Payment Method_Mailed check'],\n",
       "      dtype='object')"
      ]
     },
     "execution_count": 233,
     "metadata": {},
     "output_type": "execute_result"
    }
   ],
   "source": [
    "pd.get_dummies(df1).columns"
   ]
  },
  {
   "cell_type": "code",
   "execution_count": 236,
   "metadata": {},
   "outputs": [
    {
     "data": {
      "text/plain": [
       "array([0.01192323, 0.41323097, 0.39424432, ..., 0.15640276, 0.44277745,\n",
       "       0.20062556])"
      ]
     },
     "execution_count": 236,
     "metadata": {},
     "output_type": "execute_result"
    }
   ],
   "source": [
    "lR.predict_proba(X_test)[:,1]"
   ]
  },
  {
   "cell_type": "code",
   "execution_count": 237,
   "metadata": {},
   "outputs": [
    {
     "data": {
      "text/plain": [
       "array([[ 0.98761325, -0.44046641,  1.53078024, ...,  1.90324272,\n",
       "        -0.71094556, -0.54421569],\n",
       "       [ 0.98761325, -0.44046641, -0.86927171, ..., -0.52541906,\n",
       "         1.40657745, -0.54421569],\n",
       "       [-1.0125421 , -0.44046641, -0.62519863, ..., -0.52541906,\n",
       "        -0.71094556, -0.54421569],\n",
       "       ...,\n",
       "       [-1.0125421 , -0.44046641, -1.0319871 , ..., -0.52541906,\n",
       "        -0.71094556, -0.54421569],\n",
       "       [ 0.98761325, -0.44046641, -0.90995056, ..., -0.52541906,\n",
       "        -0.71094556,  1.83750673],\n",
       "       [-1.0125421 , -0.44046641,  1.24602831, ..., -0.52541906,\n",
       "         1.40657745, -0.54421569]])"
      ]
     },
     "execution_count": 237,
     "metadata": {},
     "output_type": "execute_result"
    }
   ],
   "source": [
    "X_test"
   ]
  },
  {
   "cell_type": "code",
   "execution_count": 259,
   "metadata": {},
   "outputs": [
    {
     "data": {
      "text/html": [
       "<div>\n",
       "<style scoped>\n",
       "    .dataframe tbody tr th:only-of-type {\n",
       "        vertical-align: middle;\n",
       "    }\n",
       "\n",
       "    .dataframe tbody tr th {\n",
       "        vertical-align: top;\n",
       "    }\n",
       "\n",
       "    .dataframe thead th {\n",
       "        text-align: right;\n",
       "    }\n",
       "</style>\n",
       "<table border=\"1\" class=\"dataframe\">\n",
       "  <thead>\n",
       "    <tr style=\"text-align: right;\">\n",
       "      <th></th>\n",
       "      <th>Gender</th>\n",
       "      <th>Senior Citizen</th>\n",
       "      <th>Tenure</th>\n",
       "      <th>Monthly Charges</th>\n",
       "      <th>Total Charges</th>\n",
       "      <th>Partner_No</th>\n",
       "      <th>Partner_Yes</th>\n",
       "      <th>Dependents_No</th>\n",
       "      <th>Dependents_Yes</th>\n",
       "      <th>Phone Service_No</th>\n",
       "      <th>...</th>\n",
       "      <th>Contract_Month-to-month</th>\n",
       "      <th>Contract_One year</th>\n",
       "      <th>Contract_Two year</th>\n",
       "      <th>Paperless Billing_No</th>\n",
       "      <th>Paperless Billing_Yes</th>\n",
       "      <th>Payment Method_Bank transfer (automatic)</th>\n",
       "      <th>Payment Method_Credit card (automatic)</th>\n",
       "      <th>Payment Method_Electronic check</th>\n",
       "      <th>Payment Method_Mailed check</th>\n",
       "      <th>probability</th>\n",
       "    </tr>\n",
       "  </thead>\n",
       "  <tbody>\n",
       "    <tr>\n",
       "      <th>211</th>\n",
       "      <td>0.987613</td>\n",
       "      <td>2.270321</td>\n",
       "      <td>-1.194702</td>\n",
       "      <td>0.991132</td>\n",
       "      <td>-0.881204</td>\n",
       "      <td>-1.034285</td>\n",
       "      <td>1.034285</td>\n",
       "      <td>0.651849</td>\n",
       "      <td>-0.651849</td>\n",
       "      <td>-0.323297</td>\n",
       "      <td>...</td>\n",
       "      <td>0.904098</td>\n",
       "      <td>-0.513956</td>\n",
       "      <td>-0.563193</td>\n",
       "      <td>-0.833194</td>\n",
       "      <td>0.833194</td>\n",
       "      <td>-0.530185</td>\n",
       "      <td>-0.525419</td>\n",
       "      <td>1.406577</td>\n",
       "      <td>-0.544216</td>\n",
       "      <td>0.856561</td>\n",
       "    </tr>\n",
       "    <tr>\n",
       "      <th>536</th>\n",
       "      <td>-1.012542</td>\n",
       "      <td>2.270321</td>\n",
       "      <td>-1.235381</td>\n",
       "      <td>0.966243</td>\n",
       "      <td>-0.929092</td>\n",
       "      <td>0.966852</td>\n",
       "      <td>-0.966852</td>\n",
       "      <td>0.651849</td>\n",
       "      <td>-0.651849</td>\n",
       "      <td>-0.323297</td>\n",
       "      <td>...</td>\n",
       "      <td>0.904098</td>\n",
       "      <td>-0.513956</td>\n",
       "      <td>-0.563193</td>\n",
       "      <td>-0.833194</td>\n",
       "      <td>0.833194</td>\n",
       "      <td>-0.530185</td>\n",
       "      <td>-0.525419</td>\n",
       "      <td>1.406577</td>\n",
       "      <td>-0.544216</td>\n",
       "      <td>0.849696</td>\n",
       "    </tr>\n",
       "    <tr>\n",
       "      <th>972</th>\n",
       "      <td>0.987613</td>\n",
       "      <td>2.270321</td>\n",
       "      <td>-1.031987</td>\n",
       "      <td>1.235044</td>\n",
       "      <td>-0.695599</td>\n",
       "      <td>-1.034285</td>\n",
       "      <td>1.034285</td>\n",
       "      <td>0.651849</td>\n",
       "      <td>-0.651849</td>\n",
       "      <td>-0.323297</td>\n",
       "      <td>...</td>\n",
       "      <td>0.904098</td>\n",
       "      <td>-0.513956</td>\n",
       "      <td>-0.563193</td>\n",
       "      <td>-0.833194</td>\n",
       "      <td>0.833194</td>\n",
       "      <td>-0.530185</td>\n",
       "      <td>-0.525419</td>\n",
       "      <td>1.406577</td>\n",
       "      <td>-0.544216</td>\n",
       "      <td>0.829684</td>\n",
       "    </tr>\n",
       "    <tr>\n",
       "      <th>485</th>\n",
       "      <td>-1.012542</td>\n",
       "      <td>-0.440466</td>\n",
       "      <td>-1.276060</td>\n",
       "      <td>0.991132</td>\n",
       "      <td>-0.962684</td>\n",
       "      <td>0.966852</td>\n",
       "      <td>-0.966852</td>\n",
       "      <td>0.651849</td>\n",
       "      <td>-0.651849</td>\n",
       "      <td>-0.323297</td>\n",
       "      <td>...</td>\n",
       "      <td>0.904098</td>\n",
       "      <td>-0.513956</td>\n",
       "      <td>-0.563193</td>\n",
       "      <td>-0.833194</td>\n",
       "      <td>0.833194</td>\n",
       "      <td>-0.530185</td>\n",
       "      <td>-0.525419</td>\n",
       "      <td>1.406577</td>\n",
       "      <td>-0.544216</td>\n",
       "      <td>0.822426</td>\n",
       "    </tr>\n",
       "    <tr>\n",
       "      <th>699</th>\n",
       "      <td>-1.012542</td>\n",
       "      <td>2.270321</td>\n",
       "      <td>-1.276060</td>\n",
       "      <td>0.815251</td>\n",
       "      <td>-0.965019</td>\n",
       "      <td>0.966852</td>\n",
       "      <td>-0.966852</td>\n",
       "      <td>0.651849</td>\n",
       "      <td>-0.651849</td>\n",
       "      <td>-0.323297</td>\n",
       "      <td>...</td>\n",
       "      <td>0.904098</td>\n",
       "      <td>-0.513956</td>\n",
       "      <td>-0.563193</td>\n",
       "      <td>-0.833194</td>\n",
       "      <td>0.833194</td>\n",
       "      <td>-0.530185</td>\n",
       "      <td>-0.525419</td>\n",
       "      <td>1.406577</td>\n",
       "      <td>-0.544216</td>\n",
       "      <td>0.817009</td>\n",
       "    </tr>\n",
       "  </tbody>\n",
       "</table>\n",
       "<p>5 rows × 45 columns</p>\n",
       "</div>"
      ],
      "text/plain": [
       "       Gender  Senior Citizen    Tenure  Monthly Charges  Total Charges  \\\n",
       "211  0.987613        2.270321 -1.194702         0.991132      -0.881204   \n",
       "536 -1.012542        2.270321 -1.235381         0.966243      -0.929092   \n",
       "972  0.987613        2.270321 -1.031987         1.235044      -0.695599   \n",
       "485 -1.012542       -0.440466 -1.276060         0.991132      -0.962684   \n",
       "699 -1.012542        2.270321 -1.276060         0.815251      -0.965019   \n",
       "\n",
       "     Partner_No  Partner_Yes  Dependents_No  Dependents_Yes  Phone Service_No  \\\n",
       "211   -1.034285     1.034285       0.651849       -0.651849         -0.323297   \n",
       "536    0.966852    -0.966852       0.651849       -0.651849         -0.323297   \n",
       "972   -1.034285     1.034285       0.651849       -0.651849         -0.323297   \n",
       "485    0.966852    -0.966852       0.651849       -0.651849         -0.323297   \n",
       "699    0.966852    -0.966852       0.651849       -0.651849         -0.323297   \n",
       "\n",
       "     ...  Contract_Month-to-month  Contract_One year  Contract_Two year  \\\n",
       "211  ...                 0.904098          -0.513956          -0.563193   \n",
       "536  ...                 0.904098          -0.513956          -0.563193   \n",
       "972  ...                 0.904098          -0.513956          -0.563193   \n",
       "485  ...                 0.904098          -0.513956          -0.563193   \n",
       "699  ...                 0.904098          -0.513956          -0.563193   \n",
       "\n",
       "     Paperless Billing_No  Paperless Billing_Yes  \\\n",
       "211             -0.833194               0.833194   \n",
       "536             -0.833194               0.833194   \n",
       "972             -0.833194               0.833194   \n",
       "485             -0.833194               0.833194   \n",
       "699             -0.833194               0.833194   \n",
       "\n",
       "     Payment Method_Bank transfer (automatic)  \\\n",
       "211                                 -0.530185   \n",
       "536                                 -0.530185   \n",
       "972                                 -0.530185   \n",
       "485                                 -0.530185   \n",
       "699                                 -0.530185   \n",
       "\n",
       "     Payment Method_Credit card (automatic)  Payment Method_Electronic check  \\\n",
       "211                               -0.525419                         1.406577   \n",
       "536                               -0.525419                         1.406577   \n",
       "972                               -0.525419                         1.406577   \n",
       "485                               -0.525419                         1.406577   \n",
       "699                               -0.525419                         1.406577   \n",
       "\n",
       "     Payment Method_Mailed check  probability  \n",
       "211                    -0.544216     0.856561  \n",
       "536                    -0.544216     0.849696  \n",
       "972                    -0.544216     0.829684  \n",
       "485                    -0.544216     0.822426  \n",
       "699                    -0.544216     0.817009  \n",
       "\n",
       "[5 rows x 45 columns]"
      ]
     },
     "execution_count": 259,
     "metadata": {},
     "output_type": "execute_result"
    }
   ],
   "source": [
    "prob_df = pd.DataFrame(np.delete(np.append(X_test,lR.predict_proba(X_test), axis = 1),-2, axis = 1)\n",
    "             ,columns = np.append(pd.get_dummies(df1).columns.to_list(),'probability')).sort_values(by = 'probability',ascending = False)\n",
    "prob_df.head()"
   ]
  },
  {
   "cell_type": "code",
   "execution_count": null,
   "metadata": {},
   "outputs": [],
   "source": []
  },
  {
   "cell_type": "code",
   "execution_count": 263,
   "metadata": {},
   "outputs": [
    {
     "data": {
      "text/html": [
       "<div>\n",
       "<style scoped>\n",
       "    .dataframe tbody tr th:only-of-type {\n",
       "        vertical-align: middle;\n",
       "    }\n",
       "\n",
       "    .dataframe tbody tr th {\n",
       "        vertical-align: top;\n",
       "    }\n",
       "\n",
       "    .dataframe thead th {\n",
       "        text-align: right;\n",
       "    }\n",
       "</style>\n",
       "<table border=\"1\" class=\"dataframe\">\n",
       "  <thead>\n",
       "    <tr style=\"text-align: right;\">\n",
       "      <th></th>\n",
       "      <th>Online Security_No</th>\n",
       "      <th>Streaming TV_Yes</th>\n",
       "      <th>Streaming Movies_Yes</th>\n",
       "      <th>Contract_Month-to-month</th>\n",
       "      <th>Internet Service_DSL</th>\n",
       "      <th>Contract_Two year</th>\n",
       "      <th>Internet Service_Fiber optic</th>\n",
       "      <th>Total Charges</th>\n",
       "      <th>Monthly Charges</th>\n",
       "      <th>Tenure</th>\n",
       "    </tr>\n",
       "  </thead>\n",
       "  <tbody>\n",
       "    <tr>\n",
       "      <th>211</th>\n",
       "      <td>1.012854</td>\n",
       "      <td>1.269700</td>\n",
       "      <td>1.255756</td>\n",
       "      <td>0.904098</td>\n",
       "      <td>-0.719548</td>\n",
       "      <td>-0.563193</td>\n",
       "      <td>1.127997</td>\n",
       "      <td>-0.881204</td>\n",
       "      <td>0.991132</td>\n",
       "      <td>-1.194702</td>\n",
       "    </tr>\n",
       "    <tr>\n",
       "      <th>536</th>\n",
       "      <td>1.012854</td>\n",
       "      <td>1.269700</td>\n",
       "      <td>1.255756</td>\n",
       "      <td>0.904098</td>\n",
       "      <td>-0.719548</td>\n",
       "      <td>-0.563193</td>\n",
       "      <td>1.127997</td>\n",
       "      <td>-0.929092</td>\n",
       "      <td>0.966243</td>\n",
       "      <td>-1.235381</td>\n",
       "    </tr>\n",
       "    <tr>\n",
       "      <th>972</th>\n",
       "      <td>1.012854</td>\n",
       "      <td>1.269700</td>\n",
       "      <td>1.255756</td>\n",
       "      <td>0.904098</td>\n",
       "      <td>-0.719548</td>\n",
       "      <td>-0.563193</td>\n",
       "      <td>1.127997</td>\n",
       "      <td>-0.695599</td>\n",
       "      <td>1.235044</td>\n",
       "      <td>-1.031987</td>\n",
       "    </tr>\n",
       "    <tr>\n",
       "      <th>485</th>\n",
       "      <td>1.012854</td>\n",
       "      <td>1.269700</td>\n",
       "      <td>1.255756</td>\n",
       "      <td>0.904098</td>\n",
       "      <td>-0.719548</td>\n",
       "      <td>-0.563193</td>\n",
       "      <td>1.127997</td>\n",
       "      <td>-0.962684</td>\n",
       "      <td>0.991132</td>\n",
       "      <td>-1.276060</td>\n",
       "    </tr>\n",
       "    <tr>\n",
       "      <th>699</th>\n",
       "      <td>1.012854</td>\n",
       "      <td>1.269700</td>\n",
       "      <td>1.255756</td>\n",
       "      <td>0.904098</td>\n",
       "      <td>-0.719548</td>\n",
       "      <td>-0.563193</td>\n",
       "      <td>1.127997</td>\n",
       "      <td>-0.965019</td>\n",
       "      <td>0.815251</td>\n",
       "      <td>-1.276060</td>\n",
       "    </tr>\n",
       "    <tr>\n",
       "      <th>164</th>\n",
       "      <td>1.012854</td>\n",
       "      <td>1.269700</td>\n",
       "      <td>-0.796333</td>\n",
       "      <td>0.904098</td>\n",
       "      <td>-0.719548</td>\n",
       "      <td>-0.563193</td>\n",
       "      <td>1.127997</td>\n",
       "      <td>-0.965239</td>\n",
       "      <td>0.798658</td>\n",
       "      <td>-1.276060</td>\n",
       "    </tr>\n",
       "    <tr>\n",
       "      <th>208</th>\n",
       "      <td>1.012854</td>\n",
       "      <td>1.269700</td>\n",
       "      <td>-0.796333</td>\n",
       "      <td>0.904098</td>\n",
       "      <td>-0.719548</td>\n",
       "      <td>-0.563193</td>\n",
       "      <td>1.127997</td>\n",
       "      <td>-0.966605</td>\n",
       "      <td>0.695784</td>\n",
       "      <td>-1.276060</td>\n",
       "    </tr>\n",
       "    <tr>\n",
       "      <th>184</th>\n",
       "      <td>1.012854</td>\n",
       "      <td>-0.787588</td>\n",
       "      <td>-0.796333</td>\n",
       "      <td>0.904098</td>\n",
       "      <td>-0.719548</td>\n",
       "      <td>-0.563193</td>\n",
       "      <td>1.127997</td>\n",
       "      <td>-0.971583</td>\n",
       "      <td>0.320790</td>\n",
       "      <td>-1.276060</td>\n",
       "    </tr>\n",
       "    <tr>\n",
       "      <th>230</th>\n",
       "      <td>1.012854</td>\n",
       "      <td>-0.787588</td>\n",
       "      <td>1.255756</td>\n",
       "      <td>0.904098</td>\n",
       "      <td>-0.719548</td>\n",
       "      <td>-0.563193</td>\n",
       "      <td>1.127997</td>\n",
       "      <td>-0.734125</td>\n",
       "      <td>0.639369</td>\n",
       "      <td>-0.991308</td>\n",
       "    </tr>\n",
       "    <tr>\n",
       "      <th>1034</th>\n",
       "      <td>1.012854</td>\n",
       "      <td>1.269700</td>\n",
       "      <td>1.255756</td>\n",
       "      <td>0.904098</td>\n",
       "      <td>-0.719548</td>\n",
       "      <td>-0.563193</td>\n",
       "      <td>1.127997</td>\n",
       "      <td>-0.927352</td>\n",
       "      <td>1.037592</td>\n",
       "      <td>-1.235381</td>\n",
       "    </tr>\n",
       "  </tbody>\n",
       "</table>\n",
       "</div>"
      ],
      "text/plain": [
       "      Online Security_No  Streaming TV_Yes  Streaming Movies_Yes  \\\n",
       "211             1.012854          1.269700              1.255756   \n",
       "536             1.012854          1.269700              1.255756   \n",
       "972             1.012854          1.269700              1.255756   \n",
       "485             1.012854          1.269700              1.255756   \n",
       "699             1.012854          1.269700              1.255756   \n",
       "164             1.012854          1.269700             -0.796333   \n",
       "208             1.012854          1.269700             -0.796333   \n",
       "184             1.012854         -0.787588             -0.796333   \n",
       "230             1.012854         -0.787588              1.255756   \n",
       "1034            1.012854          1.269700              1.255756   \n",
       "\n",
       "      Contract_Month-to-month  Internet Service_DSL  Contract_Two year  \\\n",
       "211                  0.904098             -0.719548          -0.563193   \n",
       "536                  0.904098             -0.719548          -0.563193   \n",
       "972                  0.904098             -0.719548          -0.563193   \n",
       "485                  0.904098             -0.719548          -0.563193   \n",
       "699                  0.904098             -0.719548          -0.563193   \n",
       "164                  0.904098             -0.719548          -0.563193   \n",
       "208                  0.904098             -0.719548          -0.563193   \n",
       "184                  0.904098             -0.719548          -0.563193   \n",
       "230                  0.904098             -0.719548          -0.563193   \n",
       "1034                 0.904098             -0.719548          -0.563193   \n",
       "\n",
       "      Internet Service_Fiber optic  Total Charges  Monthly Charges    Tenure  \n",
       "211                       1.127997      -0.881204         0.991132 -1.194702  \n",
       "536                       1.127997      -0.929092         0.966243 -1.235381  \n",
       "972                       1.127997      -0.695599         1.235044 -1.031987  \n",
       "485                       1.127997      -0.962684         0.991132 -1.276060  \n",
       "699                       1.127997      -0.965019         0.815251 -1.276060  \n",
       "164                       1.127997      -0.965239         0.798658 -1.276060  \n",
       "208                       1.127997      -0.966605         0.695784 -1.276060  \n",
       "184                       1.127997      -0.971583         0.320790 -1.276060  \n",
       "230                       1.127997      -0.734125         0.639369 -0.991308  \n",
       "1034                      1.127997      -0.927352         1.037592 -1.235381  "
      ]
     },
     "execution_count": 263,
     "metadata": {},
     "output_type": "execute_result"
    }
   ],
   "source": [
    "prob_df[attr_weight[\"attribute\"].values[-10:]][:10]"
   ]
  },
  {
   "cell_type": "code",
   "execution_count": 261,
   "metadata": {},
   "outputs": [
    {
     "data": {
      "text/html": [
       "<div>\n",
       "<style scoped>\n",
       "    .dataframe tbody tr th:only-of-type {\n",
       "        vertical-align: middle;\n",
       "    }\n",
       "\n",
       "    .dataframe tbody tr th {\n",
       "        vertical-align: top;\n",
       "    }\n",
       "\n",
       "    .dataframe thead th {\n",
       "        text-align: right;\n",
       "    }\n",
       "</style>\n",
       "<table border=\"1\" class=\"dataframe\">\n",
       "  <thead>\n",
       "    <tr style=\"text-align: right;\">\n",
       "      <th></th>\n",
       "      <th>Online Security_No</th>\n",
       "      <th>Streaming TV_Yes</th>\n",
       "      <th>Streaming Movies_Yes</th>\n",
       "      <th>Contract_Month-to-month</th>\n",
       "      <th>Internet Service_DSL</th>\n",
       "      <th>Contract_Two year</th>\n",
       "      <th>Internet Service_Fiber optic</th>\n",
       "      <th>Total Charges</th>\n",
       "      <th>Monthly Charges</th>\n",
       "      <th>Tenure</th>\n",
       "    </tr>\n",
       "  </thead>\n",
       "  <tbody>\n",
       "    <tr>\n",
       "      <th>927</th>\n",
       "      <td>-0.987309</td>\n",
       "      <td>-0.787588</td>\n",
       "      <td>-0.796333</td>\n",
       "      <td>-1.106074</td>\n",
       "      <td>-0.719548</td>\n",
       "      <td>1.775589</td>\n",
       "      <td>-0.886527</td>\n",
       "      <td>-0.218194</td>\n",
       "      <td>-1.343450</td>\n",
       "      <td>1.612138</td>\n",
       "    </tr>\n",
       "    <tr>\n",
       "      <th>476</th>\n",
       "      <td>-0.987309</td>\n",
       "      <td>-0.787588</td>\n",
       "      <td>-0.796333</td>\n",
       "      <td>-1.106074</td>\n",
       "      <td>-0.719548</td>\n",
       "      <td>1.775589</td>\n",
       "      <td>-0.886527</td>\n",
       "      <td>-0.469045</td>\n",
       "      <td>-1.501080</td>\n",
       "      <td>1.246028</td>\n",
       "    </tr>\n",
       "    <tr>\n",
       "      <th>360</th>\n",
       "      <td>-0.987309</td>\n",
       "      <td>-0.787588</td>\n",
       "      <td>-0.796333</td>\n",
       "      <td>-1.106074</td>\n",
       "      <td>-0.719548</td>\n",
       "      <td>1.775589</td>\n",
       "      <td>-0.886527</td>\n",
       "      <td>-0.381133</td>\n",
       "      <td>-1.491124</td>\n",
       "      <td>1.612138</td>\n",
       "    </tr>\n",
       "    <tr>\n",
       "      <th>102</th>\n",
       "      <td>-0.987309</td>\n",
       "      <td>-0.787588</td>\n",
       "      <td>-0.796333</td>\n",
       "      <td>-1.106074</td>\n",
       "      <td>-0.719548</td>\n",
       "      <td>1.775589</td>\n",
       "      <td>-0.886527</td>\n",
       "      <td>-0.419152</td>\n",
       "      <td>-1.489465</td>\n",
       "      <td>1.530780</td>\n",
       "    </tr>\n",
       "    <tr>\n",
       "      <th>53</th>\n",
       "      <td>-0.987309</td>\n",
       "      <td>-0.787588</td>\n",
       "      <td>-0.796333</td>\n",
       "      <td>-1.106074</td>\n",
       "      <td>-0.719548</td>\n",
       "      <td>1.775589</td>\n",
       "      <td>-0.886527</td>\n",
       "      <td>-0.396948</td>\n",
       "      <td>-1.491124</td>\n",
       "      <td>1.530780</td>\n",
       "    </tr>\n",
       "    <tr>\n",
       "      <th>331</th>\n",
       "      <td>-0.987309</td>\n",
       "      <td>-0.787588</td>\n",
       "      <td>-0.796333</td>\n",
       "      <td>-1.106074</td>\n",
       "      <td>-0.719548</td>\n",
       "      <td>1.775589</td>\n",
       "      <td>-0.886527</td>\n",
       "      <td>-0.396574</td>\n",
       "      <td>-1.489465</td>\n",
       "      <td>1.571459</td>\n",
       "    </tr>\n",
       "    <tr>\n",
       "      <th>526</th>\n",
       "      <td>-0.987309</td>\n",
       "      <td>-0.787588</td>\n",
       "      <td>-0.796333</td>\n",
       "      <td>-1.106074</td>\n",
       "      <td>-0.719548</td>\n",
       "      <td>1.775589</td>\n",
       "      <td>-0.886527</td>\n",
       "      <td>-0.343113</td>\n",
       "      <td>-1.467894</td>\n",
       "      <td>1.571459</td>\n",
       "    </tr>\n",
       "    <tr>\n",
       "      <th>19</th>\n",
       "      <td>-0.987309</td>\n",
       "      <td>-0.787588</td>\n",
       "      <td>-0.796333</td>\n",
       "      <td>-1.106074</td>\n",
       "      <td>-0.719548</td>\n",
       "      <td>1.775589</td>\n",
       "      <td>-0.886527</td>\n",
       "      <td>-0.429527</td>\n",
       "      <td>-1.507717</td>\n",
       "      <td>1.612138</td>\n",
       "    </tr>\n",
       "    <tr>\n",
       "      <th>246</th>\n",
       "      <td>-0.987309</td>\n",
       "      <td>-0.787588</td>\n",
       "      <td>-0.796333</td>\n",
       "      <td>-1.106074</td>\n",
       "      <td>-0.719548</td>\n",
       "      <td>1.775589</td>\n",
       "      <td>-0.886527</td>\n",
       "      <td>-0.314058</td>\n",
       "      <td>-1.476191</td>\n",
       "      <td>1.612138</td>\n",
       "    </tr>\n",
       "    <tr>\n",
       "      <th>1150</th>\n",
       "      <td>-0.987309</td>\n",
       "      <td>-0.787588</td>\n",
       "      <td>-0.796333</td>\n",
       "      <td>-1.106074</td>\n",
       "      <td>-0.719548</td>\n",
       "      <td>1.775589</td>\n",
       "      <td>-0.886527</td>\n",
       "      <td>-0.421575</td>\n",
       "      <td>-1.486146</td>\n",
       "      <td>1.612138</td>\n",
       "    </tr>\n",
       "  </tbody>\n",
       "</table>\n",
       "</div>"
      ],
      "text/plain": [
       "      Online Security_No  Streaming TV_Yes  Streaming Movies_Yes  \\\n",
       "927            -0.987309         -0.787588             -0.796333   \n",
       "476            -0.987309         -0.787588             -0.796333   \n",
       "360            -0.987309         -0.787588             -0.796333   \n",
       "102            -0.987309         -0.787588             -0.796333   \n",
       "53             -0.987309         -0.787588             -0.796333   \n",
       "331            -0.987309         -0.787588             -0.796333   \n",
       "526            -0.987309         -0.787588             -0.796333   \n",
       "19             -0.987309         -0.787588             -0.796333   \n",
       "246            -0.987309         -0.787588             -0.796333   \n",
       "1150           -0.987309         -0.787588             -0.796333   \n",
       "\n",
       "      Contract_Month-to-month  Internet Service_DSL  Contract_Two year  \\\n",
       "927                 -1.106074             -0.719548           1.775589   \n",
       "476                 -1.106074             -0.719548           1.775589   \n",
       "360                 -1.106074             -0.719548           1.775589   \n",
       "102                 -1.106074             -0.719548           1.775589   \n",
       "53                  -1.106074             -0.719548           1.775589   \n",
       "331                 -1.106074             -0.719548           1.775589   \n",
       "526                 -1.106074             -0.719548           1.775589   \n",
       "19                  -1.106074             -0.719548           1.775589   \n",
       "246                 -1.106074             -0.719548           1.775589   \n",
       "1150                -1.106074             -0.719548           1.775589   \n",
       "\n",
       "      Internet Service_Fiber optic  Total Charges  Monthly Charges    Tenure  \n",
       "927                      -0.886527      -0.218194        -1.343450  1.612138  \n",
       "476                      -0.886527      -0.469045        -1.501080  1.246028  \n",
       "360                      -0.886527      -0.381133        -1.491124  1.612138  \n",
       "102                      -0.886527      -0.419152        -1.489465  1.530780  \n",
       "53                       -0.886527      -0.396948        -1.491124  1.530780  \n",
       "331                      -0.886527      -0.396574        -1.489465  1.571459  \n",
       "526                      -0.886527      -0.343113        -1.467894  1.571459  \n",
       "19                       -0.886527      -0.429527        -1.507717  1.612138  \n",
       "246                      -0.886527      -0.314058        -1.476191  1.612138  \n",
       "1150                     -0.886527      -0.421575        -1.486146  1.612138  "
      ]
     },
     "execution_count": 261,
     "metadata": {},
     "output_type": "execute_result"
    }
   ],
   "source": [
    "prob_df[attr_weight[\"attribute\"].values[-10:]][-10:]"
   ]
  },
  {
   "cell_type": "code",
   "execution_count": 221,
   "metadata": {},
   "outputs": [
    {
     "data": {
      "text/plain": [
       "array(['Gender', 'Senior Citizen', 'Tenure', 'Monthly Charges',\n",
       "       'Total Charges', 'Partner_No', 'Partner_Yes', 'Dependents_No',\n",
       "       'Dependents_Yes', 'Phone Service_No', 'Phone Service_Yes',\n",
       "       'Multiple Lines_No', 'Multiple Lines_No phone service',\n",
       "       'Multiple Lines_Yes', 'Internet Service_DSL',\n",
       "       'Internet Service_Fiber optic', 'Internet Service_No',\n",
       "       'Online Security_No', 'Online Security_No internet service',\n",
       "       'Online Security_Yes', 'Online Backup_No',\n",
       "       'Online Backup_No internet service', 'Online Backup_Yes',\n",
       "       'Device Protection_No', 'Device Protection_No internet service',\n",
       "       'Device Protection_Yes', 'Tech Support_No',\n",
       "       'Tech Support_No internet service', 'Tech Support_Yes',\n",
       "       'Streaming TV_No', 'Streaming TV_No internet service',\n",
       "       'Streaming TV_Yes', 'Streaming Movies_No',\n",
       "       'Streaming Movies_No internet service', 'Streaming Movies_Yes',\n",
       "       'Contract_Month-to-month', 'Contract_One year',\n",
       "       'Contract_Two year', 'Paperless Billing_No',\n",
       "       'Paperless Billing_Yes',\n",
       "       'Payment Method_Bank transfer (automatic)',\n",
       "       'Payment Method_Credit card (automatic)',\n",
       "       'Payment Method_Electronic check', 'Payment Method_Mailed check',\n",
       "       'probability'], dtype='<U40')"
      ]
     },
     "execution_count": 221,
     "metadata": {},
     "output_type": "execute_result"
    }
   ],
   "source": [
    "np.append(pd.get_dummies(df1).columns.to_list(),'probability')"
   ]
  },
  {
   "cell_type": "code",
   "execution_count": null,
   "metadata": {},
   "outputs": [],
   "source": []
  },
  {
   "cell_type": "markdown",
   "metadata": {},
   "source": [
    "# Задание 5 (Нужно выполнить, если нужна общая оценка 10)"
   ]
  },
  {
   "cell_type": "markdown",
   "metadata": {},
   "source": [
    "Повторите весь процесс моделирования для датасета adult.csv (один из самых известных классических датасетов машинного обучения). Полная информация о датасете тут: https://archive.ics.uci.edu/ml/datasets/adult .\n",
    "\n",
    "Дополнительно необходимо ответить на следующие вопросы:\n",
    "1. Найдите людей с самыми уверенными предсказаниями зарплаты выше и ниже 50k. Какие признаки на это повлияли сильнее всего? Почему?\n",
    "2. Какая страна больше всего влияет на увеличение вероятности у вашей модели (при остальных фиксированных признаках)?\n",
    "3. От каких признаков можно отказаться без вреда для алгоритма?"
   ]
  },
  {
   "cell_type": "code",
   "execution_count": 350,
   "metadata": {},
   "outputs": [
    {
     "data": {
      "text/html": [
       "<div>\n",
       "<style scoped>\n",
       "    .dataframe tbody tr th:only-of-type {\n",
       "        vertical-align: middle;\n",
       "    }\n",
       "\n",
       "    .dataframe tbody tr th {\n",
       "        vertical-align: top;\n",
       "    }\n",
       "\n",
       "    .dataframe thead th {\n",
       "        text-align: right;\n",
       "    }\n",
       "</style>\n",
       "<table border=\"1\" class=\"dataframe\">\n",
       "  <thead>\n",
       "    <tr style=\"text-align: right;\">\n",
       "      <th></th>\n",
       "      <th>age</th>\n",
       "      <th>workclass</th>\n",
       "      <th>fnlwgt</th>\n",
       "      <th>education</th>\n",
       "      <th>educational-num</th>\n",
       "      <th>marital-status</th>\n",
       "      <th>occupation</th>\n",
       "      <th>relationship</th>\n",
       "      <th>race</th>\n",
       "      <th>gender</th>\n",
       "      <th>capital-gain</th>\n",
       "      <th>capital-loss</th>\n",
       "      <th>hours-per-week</th>\n",
       "      <th>native-country</th>\n",
       "      <th>income</th>\n",
       "    </tr>\n",
       "  </thead>\n",
       "  <tbody>\n",
       "    <tr>\n",
       "      <th>0</th>\n",
       "      <td>25</td>\n",
       "      <td>Private</td>\n",
       "      <td>226802</td>\n",
       "      <td>11th</td>\n",
       "      <td>7</td>\n",
       "      <td>Never-married</td>\n",
       "      <td>Machine-op-inspct</td>\n",
       "      <td>Own-child</td>\n",
       "      <td>Black</td>\n",
       "      <td>Male</td>\n",
       "      <td>0</td>\n",
       "      <td>0</td>\n",
       "      <td>40</td>\n",
       "      <td>United-States</td>\n",
       "      <td>&lt;=50K</td>\n",
       "    </tr>\n",
       "    <tr>\n",
       "      <th>1</th>\n",
       "      <td>38</td>\n",
       "      <td>Private</td>\n",
       "      <td>89814</td>\n",
       "      <td>HS-grad</td>\n",
       "      <td>9</td>\n",
       "      <td>Married-civ-spouse</td>\n",
       "      <td>Farming-fishing</td>\n",
       "      <td>Husband</td>\n",
       "      <td>White</td>\n",
       "      <td>Male</td>\n",
       "      <td>0</td>\n",
       "      <td>0</td>\n",
       "      <td>50</td>\n",
       "      <td>United-States</td>\n",
       "      <td>&lt;=50K</td>\n",
       "    </tr>\n",
       "    <tr>\n",
       "      <th>2</th>\n",
       "      <td>28</td>\n",
       "      <td>Local-gov</td>\n",
       "      <td>336951</td>\n",
       "      <td>Assoc-acdm</td>\n",
       "      <td>12</td>\n",
       "      <td>Married-civ-spouse</td>\n",
       "      <td>Protective-serv</td>\n",
       "      <td>Husband</td>\n",
       "      <td>White</td>\n",
       "      <td>Male</td>\n",
       "      <td>0</td>\n",
       "      <td>0</td>\n",
       "      <td>40</td>\n",
       "      <td>United-States</td>\n",
       "      <td>&gt;50K</td>\n",
       "    </tr>\n",
       "    <tr>\n",
       "      <th>3</th>\n",
       "      <td>44</td>\n",
       "      <td>Private</td>\n",
       "      <td>160323</td>\n",
       "      <td>Some-college</td>\n",
       "      <td>10</td>\n",
       "      <td>Married-civ-spouse</td>\n",
       "      <td>Machine-op-inspct</td>\n",
       "      <td>Husband</td>\n",
       "      <td>Black</td>\n",
       "      <td>Male</td>\n",
       "      <td>7688</td>\n",
       "      <td>0</td>\n",
       "      <td>40</td>\n",
       "      <td>United-States</td>\n",
       "      <td>&gt;50K</td>\n",
       "    </tr>\n",
       "    <tr>\n",
       "      <th>4</th>\n",
       "      <td>18</td>\n",
       "      <td>?</td>\n",
       "      <td>103497</td>\n",
       "      <td>Some-college</td>\n",
       "      <td>10</td>\n",
       "      <td>Never-married</td>\n",
       "      <td>?</td>\n",
       "      <td>Own-child</td>\n",
       "      <td>White</td>\n",
       "      <td>Female</td>\n",
       "      <td>0</td>\n",
       "      <td>0</td>\n",
       "      <td>30</td>\n",
       "      <td>United-States</td>\n",
       "      <td>&lt;=50K</td>\n",
       "    </tr>\n",
       "  </tbody>\n",
       "</table>\n",
       "</div>"
      ],
      "text/plain": [
       "   age  workclass  fnlwgt     education  educational-num      marital-status  \\\n",
       "0   25    Private  226802          11th                7       Never-married   \n",
       "1   38    Private   89814       HS-grad                9  Married-civ-spouse   \n",
       "2   28  Local-gov  336951    Assoc-acdm               12  Married-civ-spouse   \n",
       "3   44    Private  160323  Some-college               10  Married-civ-spouse   \n",
       "4   18          ?  103497  Some-college               10       Never-married   \n",
       "\n",
       "          occupation relationship   race  gender  capital-gain  capital-loss  \\\n",
       "0  Machine-op-inspct    Own-child  Black    Male             0             0   \n",
       "1    Farming-fishing      Husband  White    Male             0             0   \n",
       "2    Protective-serv      Husband  White    Male             0             0   \n",
       "3  Machine-op-inspct      Husband  Black    Male          7688             0   \n",
       "4                  ?    Own-child  White  Female             0             0   \n",
       "\n",
       "   hours-per-week native-country income  \n",
       "0              40  United-States  <=50K  \n",
       "1              50  United-States  <=50K  \n",
       "2              40  United-States   >50K  \n",
       "3              40  United-States   >50K  \n",
       "4              30  United-States  <=50K  "
      ]
     },
     "execution_count": 350,
     "metadata": {},
     "output_type": "execute_result"
    }
   ],
   "source": [
    "adult = pd.read_csv('adult.csv')\n",
    "adult.head()"
   ]
  },
  {
   "cell_type": "code",
   "execution_count": 374,
   "metadata": {},
   "outputs": [
    {
     "data": {
      "text/html": [
       "<div>\n",
       "<style scoped>\n",
       "    .dataframe tbody tr th:only-of-type {\n",
       "        vertical-align: middle;\n",
       "    }\n",
       "\n",
       "    .dataframe tbody tr th {\n",
       "        vertical-align: top;\n",
       "    }\n",
       "\n",
       "    .dataframe thead th {\n",
       "        text-align: right;\n",
       "    }\n",
       "</style>\n",
       "<table border=\"1\" class=\"dataframe\">\n",
       "  <thead>\n",
       "    <tr style=\"text-align: right;\">\n",
       "      <th></th>\n",
       "      <th>age</th>\n",
       "      <th>fnlwgt</th>\n",
       "      <th>educational-num</th>\n",
       "      <th>capital-gain</th>\n",
       "      <th>capital-loss</th>\n",
       "      <th>hours-per-week</th>\n",
       "    </tr>\n",
       "  </thead>\n",
       "  <tbody>\n",
       "  </tbody>\n",
       "</table>\n",
       "</div>"
      ],
      "text/plain": [
       "Empty DataFrame\n",
       "Columns: [age, fnlwgt, educational-num, capital-gain, capital-loss, hours-per-week]\n",
       "Index: []"
      ]
     },
     "execution_count": 374,
     "metadata": {},
     "output_type": "execute_result"
    }
   ],
   "source": [
    "numerics = ['int16', 'int32', 'int64', 'float16', 'float32', 'float64']\n",
    "newad = adult.select_dtypes(include=numerics)\n",
    "newad[pd.get_dummies(newad).apply(lambda x: np.abs(x - x.mean()) / x.std() > 3).all(axis=1)]"
   ]
  },
  {
   "cell_type": "code",
   "execution_count": 354,
   "metadata": {},
   "outputs": [
    {
     "name": "stdout",
     "output_type": "stream",
     "text": [
      "<class 'pandas.core.frame.DataFrame'>\n",
      "RangeIndex: 48842 entries, 0 to 48841\n",
      "Data columns (total 15 columns):\n",
      " #   Column           Non-Null Count  Dtype \n",
      "---  ------           --------------  ----- \n",
      " 0   age              48842 non-null  int64 \n",
      " 1   workclass        48842 non-null  object\n",
      " 2   fnlwgt           48842 non-null  int64 \n",
      " 3   education        48842 non-null  object\n",
      " 4   educational-num  48842 non-null  int64 \n",
      " 5   marital-status   48842 non-null  object\n",
      " 6   occupation       48842 non-null  object\n",
      " 7   relationship     48842 non-null  object\n",
      " 8   race             48842 non-null  object\n",
      " 9   gender           48842 non-null  object\n",
      " 10  capital-gain     48842 non-null  int64 \n",
      " 11  capital-loss     48842 non-null  int64 \n",
      " 12  hours-per-week   48842 non-null  int64 \n",
      " 13  native-country   48842 non-null  object\n",
      " 14  income           48842 non-null  object\n",
      "dtypes: int64(6), object(9)\n",
      "memory usage: 5.6+ MB\n"
     ]
    }
   ],
   "source": [
    "adult.info()"
   ]
  },
  {
   "cell_type": "code",
   "execution_count": 373,
   "metadata": {},
   "outputs": [
    {
     "data": {
      "image/png": "[encoded data removed]",
      "text/plain": [
       "<Figure size 432x288 with 1 Axes>"
      ]
     },
     "metadata": {
      "needs_background": "light"
     },
     "output_type": "display_data"
    },
    {
     "data": {
      "image/png": "[encoded data removed]",
      "text/plain": [
       "<Figure size 432x288 with 1 Axes>"
      ]
     },
     "metadata": {
      "needs_background": "light"
     },
     "output_type": "display_data"
    },
    {
     "data": {
      "image/png": "[encoded data removed]",
      "text/plain": [
       "<Figure size 432x288 with 1 Axes>"
      ]
     },
     "metadata": {
      "needs_background": "light"
     },
     "output_type": "display_data"
    },
    {
     "data": {
      "image/png": "[encoded data removed]",
      "text/plain": [
       "<Figure size 432x288 with 1 Axes>"
      ]
     },
     "metadata": {
      "needs_background": "light"
     },
     "output_type": "display_data"
    },
    {
     "data": {
      "image/png": "[encoded data removed]",
      "text/plain": [
       "<Figure size 432x288 with 1 Axes>"
      ]
     },
     "metadata": {
      "needs_background": "light"
     },
     "output_type": "display_data"
    }
   ],
   "source": [
    "corr = adult.corr().unstack().sort_values(kind=\"quicksort\").drop_duplicates()[-6:-1]\n",
    "for i in corr.index:\n",
    "    adult.plot.scatter(x = i[0], y = i[1] )\n",
    "plt.show()"
   ]
  },
  {
   "cell_type": "code",
   "execution_count": null,
   "metadata": {},
   "outputs": [],
   "source": []
  },
  {
   "cell_type": "code",
   "execution_count": null,
   "metadata": {},
   "outputs": [],
   "source": []
  },
  {
   "cell_type": "code",
   "execution_count": null,
   "metadata": {},
   "outputs": [],
   "source": []
  },
  {
   "cell_type": "code",
   "execution_count": null,
   "metadata": {},
   "outputs": [],
   "source": []
  },
  {
   "cell_type": "code",
   "execution_count": 342,
   "metadata": {},
   "outputs": [],
   "source": [
    "Y = adult[[\"income\"]]\n",
    "Y = pd.get_dummies(Y, drop_first = True).values.flatten()"
   ]
  },
  {
   "cell_type": "code",
   "execution_count": 324,
   "metadata": {},
   "outputs": [],
   "source": [
    "X = pd.get_dummies(adult.drop(['income'],axis = 1)).values\n"
   ]
  },
  {
   "cell_type": "code",
   "execution_count": 343,
   "metadata": {},
   "outputs": [],
   "source": [
    "scaler = StandardScaler()\n",
    "X_new = scaler.fit_transform(X)\n",
    "X_train, X_test, y_train, y_test = train_test_split(X_new, Y, test_size=0.2, random_state=42)"
   ]
  },
  {
   "cell_type": "code",
   "execution_count": 344,
   "metadata": {},
   "outputs": [
    {
     "data": {
      "text/plain": [
       "array([0, 0, 1, ..., 0, 0, 1], dtype=uint8)"
      ]
     },
     "execution_count": 344,
     "metadata": {},
     "output_type": "execute_result"
    }
   ],
   "source": [
    "Y"
   ]
  },
  {
   "cell_type": "code",
   "execution_count": 345,
   "metadata": {},
   "outputs": [],
   "source": [
    "lR = LogisticRegression()\n",
    "lR.fit(X_train, y_train)\n",
    "y_pred = lR.predict(X_test)"
   ]
  },
  {
   "cell_type": "code",
   "execution_count": 362,
   "metadata": {},
   "outputs": [
    {
     "name": "stdout",
     "output_type": "stream",
     "text": [
      "              precision    recall  f1-score   support\n",
      "\n",
      "           0       0.89      0.93      0.91      7479\n",
      "           1       0.74      0.61      0.67      2290\n",
      "\n",
      "    accuracy                           0.86      9769\n",
      "   macro avg       0.81      0.77      0.79      9769\n",
      "weighted avg       0.85      0.86      0.85      9769\n",
      "\n"
     ]
    }
   ],
   "source": [
    " print(classification_report(y_test,y_pred))"
   ]
  },
  {
   "cell_type": "code",
   "execution_count": 363,
   "metadata": {},
   "outputs": [
    {
     "data": {
      "text/plain": [
       "0.737427210164108"
      ]
     },
     "execution_count": 363,
     "metadata": {},
     "output_type": "execute_result"
    }
   ],
   "source": [
    "precision_score(y_test,y_pred)"
   ]
  },
  {
   "cell_type": "code",
   "execution_count": 364,
   "metadata": {},
   "outputs": [
    {
     "data": {
      "text/plain": [
       "<sklearn.metrics._plot.roc_curve.RocCurveDisplay at 0x7fa8cd729b50>"
      ]
     },
     "execution_count": 364,
     "metadata": {},
     "output_type": "execute_result"
    },
    {
     "data": {
      "image/png": "[encoded data removed]",
      "text/plain": [
       "<Figure size 432x288 with 1 Axes>"
      ]
     },
     "metadata": {
      "needs_background": "light"
     },
     "output_type": "display_data"
    }
   ],
   "source": [
    "plot_roc_curve(lR, X_test, y_test) "
   ]
  },
  {
   "cell_type": "code",
   "execution_count": 368,
   "metadata": {},
   "outputs": [
    {
     "name": "stdout",
     "output_type": "stream",
     "text": [
      "['native-country_Guatemala' 'native-country_Haiti' 'native-country_Greece'\n",
      " 'native-country_Iran' 'race_Other' 'native-country_Cuba'\n",
      " 'occupation_Craft-repair' 'native-country_Poland' 'native-country_Hong'\n",
      " 'native-country_?']\n",
      "['relationship_Own-child' 'capital-loss' 'occupation_Other-service'\n",
      " 'marital-status_Divorced' 'educational-num' 'hours-per-week' 'age'\n",
      " 'marital-status_Never-married' 'marital-status_Married-civ-spouse'\n",
      " 'capital-gain']\n"
     ]
    }
   ],
   "source": [
    "attr_weight = pd.DataFrame({'attribute':pd.get_dummies(adult.drop(['income'],axis = 1)).columns,'weight': abs(lR.coef_[0])}).sort_values(by = \"weight\")\n",
    "print(attr_weight[\"attribute\"].values[:10])\n",
    "print(attr_weight[\"attribute\"].values[-10:])"
   ]
  },
  {
   "cell_type": "code",
   "execution_count": 369,
   "metadata": {},
   "outputs": [
    {
     "data": {
      "text/html": [
       "<div>\n",
       "<style scoped>\n",
       "    .dataframe tbody tr th:only-of-type {\n",
       "        vertical-align: middle;\n",
       "    }\n",
       "\n",
       "    .dataframe tbody tr th {\n",
       "        vertical-align: top;\n",
       "    }\n",
       "\n",
       "    .dataframe thead th {\n",
       "        text-align: right;\n",
       "    }\n",
       "</style>\n",
       "<table border=\"1\" class=\"dataframe\">\n",
       "  <thead>\n",
       "    <tr style=\"text-align: right;\">\n",
       "      <th></th>\n",
       "      <th>attribute</th>\n",
       "      <th>weight</th>\n",
       "    </tr>\n",
       "  </thead>\n",
       "  <tbody>\n",
       "    <tr>\n",
       "      <th>79</th>\n",
       "      <td>native-country_Guatemala</td>\n",
       "      <td>0.000133</td>\n",
       "    </tr>\n",
       "    <tr>\n",
       "      <th>80</th>\n",
       "      <td>native-country_Haiti</td>\n",
       "      <td>0.000669</td>\n",
       "    </tr>\n",
       "    <tr>\n",
       "      <th>78</th>\n",
       "      <td>native-country_Greece</td>\n",
       "      <td>0.001939</td>\n",
       "    </tr>\n",
       "    <tr>\n",
       "      <th>86</th>\n",
       "      <td>native-country_Iran</td>\n",
       "      <td>0.003445</td>\n",
       "    </tr>\n",
       "    <tr>\n",
       "      <th>62</th>\n",
       "      <td>race_Other</td>\n",
       "      <td>0.003501</td>\n",
       "    </tr>\n",
       "  </tbody>\n",
       "</table>\n",
       "</div>"
      ],
      "text/plain": [
       "                   attribute    weight\n",
       "79  native-country_Guatemala  0.000133\n",
       "80      native-country_Haiti  0.000669\n",
       "78     native-country_Greece  0.001939\n",
       "86       native-country_Iran  0.003445\n",
       "62                race_Other  0.003501"
      ]
     },
     "execution_count": 369,
     "metadata": {},
     "output_type": "execute_result"
    }
   ],
   "source": [
    "attr_weight.head()"
   ]
  },
  {
   "cell_type": "code",
   "execution_count": 370,
   "metadata": {},
   "outputs": [
    {
     "data": {
      "text/html": [
       "<div>\n",
       "<style scoped>\n",
       "    .dataframe tbody tr th:only-of-type {\n",
       "        vertical-align: middle;\n",
       "    }\n",
       "\n",
       "    .dataframe tbody tr th {\n",
       "        vertical-align: top;\n",
       "    }\n",
       "\n",
       "    .dataframe thead th {\n",
       "        text-align: right;\n",
       "    }\n",
       "</style>\n",
       "<table border=\"1\" class=\"dataframe\">\n",
       "  <thead>\n",
       "    <tr style=\"text-align: right;\">\n",
       "      <th></th>\n",
       "      <th>age</th>\n",
       "      <th>fnlwgt</th>\n",
       "      <th>educational-num</th>\n",
       "      <th>capital-gain</th>\n",
       "      <th>capital-loss</th>\n",
       "      <th>hours-per-week</th>\n",
       "      <th>workclass_?</th>\n",
       "      <th>workclass_Federal-gov</th>\n",
       "      <th>workclass_Local-gov</th>\n",
       "      <th>workclass_Never-worked</th>\n",
       "      <th>...</th>\n",
       "      <th>native-country_Puerto-Rico</th>\n",
       "      <th>native-country_Scotland</th>\n",
       "      <th>native-country_South</th>\n",
       "      <th>native-country_Taiwan</th>\n",
       "      <th>native-country_Thailand</th>\n",
       "      <th>native-country_Trinadad&amp;Tobago</th>\n",
       "      <th>native-country_United-States</th>\n",
       "      <th>native-country_Vietnam</th>\n",
       "      <th>native-country_Yugoslavia</th>\n",
       "      <th>probability</th>\n",
       "    </tr>\n",
       "  </thead>\n",
       "  <tbody>\n",
       "    <tr>\n",
       "      <th>4762</th>\n",
       "      <td>1.849433</td>\n",
       "      <td>-0.071079</td>\n",
       "      <td>1.914436</td>\n",
       "      <td>13.274382</td>\n",
       "      <td>-0.217127</td>\n",
       "      <td>1.579946</td>\n",
       "      <td>-0.246558</td>\n",
       "      <td>-0.173795</td>\n",
       "      <td>-0.26194</td>\n",
       "      <td>-0.01431</td>\n",
       "      <td>...</td>\n",
       "      <td>-0.061494</td>\n",
       "      <td>-0.02074</td>\n",
       "      <td>-0.048581</td>\n",
       "      <td>-0.036505</td>\n",
       "      <td>-0.024791</td>\n",
       "      <td>-0.023518</td>\n",
       "      <td>0.338083</td>\n",
       "      <td>-0.041999</td>\n",
       "      <td>-0.021705</td>\n",
       "      <td>1.0</td>\n",
       "    </tr>\n",
       "    <tr>\n",
       "      <th>2470</th>\n",
       "      <td>0.609496</td>\n",
       "      <td>0.032034</td>\n",
       "      <td>2.303397</td>\n",
       "      <td>13.274382</td>\n",
       "      <td>-0.217127</td>\n",
       "      <td>0.772930</td>\n",
       "      <td>-0.246558</td>\n",
       "      <td>-0.173795</td>\n",
       "      <td>-0.26194</td>\n",
       "      <td>-0.01431</td>\n",
       "      <td>...</td>\n",
       "      <td>-0.061494</td>\n",
       "      <td>-0.02074</td>\n",
       "      <td>-0.048581</td>\n",
       "      <td>-0.036505</td>\n",
       "      <td>-0.024791</td>\n",
       "      <td>-0.023518</td>\n",
       "      <td>0.338083</td>\n",
       "      <td>-0.041999</td>\n",
       "      <td>-0.021705</td>\n",
       "      <td>1.0</td>\n",
       "    </tr>\n",
       "    <tr>\n",
       "      <th>7707</th>\n",
       "      <td>0.828308</td>\n",
       "      <td>0.006334</td>\n",
       "      <td>1.914436</td>\n",
       "      <td>13.274382</td>\n",
       "      <td>-0.217127</td>\n",
       "      <td>1.176438</td>\n",
       "      <td>-0.246558</td>\n",
       "      <td>-0.173795</td>\n",
       "      <td>-0.26194</td>\n",
       "      <td>-0.01431</td>\n",
       "      <td>...</td>\n",
       "      <td>-0.061494</td>\n",
       "      <td>-0.02074</td>\n",
       "      <td>-0.048581</td>\n",
       "      <td>-0.036505</td>\n",
       "      <td>-0.024791</td>\n",
       "      <td>-0.023518</td>\n",
       "      <td>0.338083</td>\n",
       "      <td>-0.041999</td>\n",
       "      <td>-0.021705</td>\n",
       "      <td>1.0</td>\n",
       "    </tr>\n",
       "    <tr>\n",
       "      <th>8209</th>\n",
       "      <td>0.828308</td>\n",
       "      <td>-0.089667</td>\n",
       "      <td>2.303397</td>\n",
       "      <td>13.274382</td>\n",
       "      <td>-0.217127</td>\n",
       "      <td>0.772930</td>\n",
       "      <td>-0.246558</td>\n",
       "      <td>-0.173795</td>\n",
       "      <td>-0.26194</td>\n",
       "      <td>-0.01431</td>\n",
       "      <td>...</td>\n",
       "      <td>-0.061494</td>\n",
       "      <td>-0.02074</td>\n",
       "      <td>-0.048581</td>\n",
       "      <td>-0.036505</td>\n",
       "      <td>-0.024791</td>\n",
       "      <td>-0.023518</td>\n",
       "      <td>0.338083</td>\n",
       "      <td>-0.041999</td>\n",
       "      <td>-0.021705</td>\n",
       "      <td>1.0</td>\n",
       "    </tr>\n",
       "    <tr>\n",
       "      <th>3006</th>\n",
       "      <td>1.265933</td>\n",
       "      <td>-0.620505</td>\n",
       "      <td>1.914436</td>\n",
       "      <td>13.274382</td>\n",
       "      <td>-0.217127</td>\n",
       "      <td>0.369421</td>\n",
       "      <td>-0.246558</td>\n",
       "      <td>-0.173795</td>\n",
       "      <td>-0.26194</td>\n",
       "      <td>-0.01431</td>\n",
       "      <td>...</td>\n",
       "      <td>-0.061494</td>\n",
       "      <td>-0.02074</td>\n",
       "      <td>-0.048581</td>\n",
       "      <td>-0.036505</td>\n",
       "      <td>-0.024791</td>\n",
       "      <td>-0.023518</td>\n",
       "      <td>0.338083</td>\n",
       "      <td>-0.041999</td>\n",
       "      <td>-0.021705</td>\n",
       "      <td>1.0</td>\n",
       "    </tr>\n",
       "  </tbody>\n",
       "</table>\n",
       "<p>5 rows × 109 columns</p>\n",
       "</div>"
      ],
      "text/plain": [
       "           age    fnlwgt  educational-num  capital-gain  capital-loss  \\\n",
       "4762  1.849433 -0.071079         1.914436     13.274382     -0.217127   \n",
       "2470  0.609496  0.032034         2.303397     13.274382     -0.217127   \n",
       "7707  0.828308  0.006334         1.914436     13.274382     -0.217127   \n",
       "8209  0.828308 -0.089667         2.303397     13.274382     -0.217127   \n",
       "3006  1.265933 -0.620505         1.914436     13.274382     -0.217127   \n",
       "\n",
       "      hours-per-week  workclass_?  workclass_Federal-gov  workclass_Local-gov  \\\n",
       "4762        1.579946    -0.246558              -0.173795             -0.26194   \n",
       "2470        0.772930    -0.246558              -0.173795             -0.26194   \n",
       "7707        1.176438    -0.246558              -0.173795             -0.26194   \n",
       "8209        0.772930    -0.246558              -0.173795             -0.26194   \n",
       "3006        0.369421    -0.246558              -0.173795             -0.26194   \n",
       "\n",
       "      workclass_Never-worked  ...  native-country_Puerto-Rico  \\\n",
       "4762                -0.01431  ...                   -0.061494   \n",
       "2470                -0.01431  ...                   -0.061494   \n",
       "7707                -0.01431  ...                   -0.061494   \n",
       "8209                -0.01431  ...                   -0.061494   \n",
       "3006                -0.01431  ...                   -0.061494   \n",
       "\n",
       "      native-country_Scotland  native-country_South  native-country_Taiwan  \\\n",
       "4762                 -0.02074             -0.048581              -0.036505   \n",
       "2470                 -0.02074             -0.048581              -0.036505   \n",
       "7707                 -0.02074             -0.048581              -0.036505   \n",
       "8209                 -0.02074             -0.048581              -0.036505   \n",
       "3006                 -0.02074             -0.048581              -0.036505   \n",
       "\n",
       "      native-country_Thailand  native-country_Trinadad&Tobago  \\\n",
       "4762                -0.024791                       -0.023518   \n",
       "2470                -0.024791                       -0.023518   \n",
       "7707                -0.024791                       -0.023518   \n",
       "8209                -0.024791                       -0.023518   \n",
       "3006                -0.024791                       -0.023518   \n",
       "\n",
       "      native-country_United-States  native-country_Vietnam  \\\n",
       "4762                      0.338083               -0.041999   \n",
       "2470                      0.338083               -0.041999   \n",
       "7707                      0.338083               -0.041999   \n",
       "8209                      0.338083               -0.041999   \n",
       "3006                      0.338083               -0.041999   \n",
       "\n",
       "      native-country_Yugoslavia  probability  \n",
       "4762                  -0.021705          1.0  \n",
       "2470                  -0.021705          1.0  \n",
       "7707                  -0.021705          1.0  \n",
       "8209                  -0.021705          1.0  \n",
       "3006                  -0.021705          1.0  \n",
       "\n",
       "[5 rows x 109 columns]"
      ]
     },
     "execution_count": 370,
     "metadata": {},
     "output_type": "execute_result"
    }
   ],
   "source": [
    "prob_ad = pd.DataFrame(np.delete(np.append(X_test,lR.predict_proba(X_test), axis = 1),-2, axis = 1)\n",
    "             ,columns = np.append(pd.get_dummies(adult.drop(['income'],axis = 1)).columns.to_list(),'probability')).sort_values(by = 'probability',ascending = False)\n",
    "prob_ad.head()"
   ]
  },
  {
   "cell_type": "code",
   "execution_count": 371,
   "metadata": {},
   "outputs": [
    {
     "data": {
      "text/html": [
       "<div>\n",
       "<style scoped>\n",
       "    .dataframe tbody tr th:only-of-type {\n",
       "        vertical-align: middle;\n",
       "    }\n",
       "\n",
       "    .dataframe tbody tr th {\n",
       "        vertical-align: top;\n",
       "    }\n",
       "\n",
       "    .dataframe thead th {\n",
       "        text-align: right;\n",
       "    }\n",
       "</style>\n",
       "<table border=\"1\" class=\"dataframe\">\n",
       "  <thead>\n",
       "    <tr style=\"text-align: right;\">\n",
       "      <th></th>\n",
       "      <th>relationship_Own-child</th>\n",
       "      <th>capital-loss</th>\n",
       "      <th>occupation_Other-service</th>\n",
       "      <th>marital-status_Divorced</th>\n",
       "      <th>educational-num</th>\n",
       "      <th>hours-per-week</th>\n",
       "      <th>age</th>\n",
       "      <th>marital-status_Never-married</th>\n",
       "      <th>marital-status_Married-civ-spouse</th>\n",
       "      <th>capital-gain</th>\n",
       "    </tr>\n",
       "  </thead>\n",
       "  <tbody>\n",
       "    <tr>\n",
       "      <th>4762</th>\n",
       "      <td>-0.428641</td>\n",
       "      <td>-0.217127</td>\n",
       "      <td>-0.334803</td>\n",
       "      <td>-0.396417</td>\n",
       "      <td>1.914436</td>\n",
       "      <td>1.579946</td>\n",
       "      <td>1.849433</td>\n",
       "      <td>-0.701782</td>\n",
       "      <td>1.087425</td>\n",
       "      <td>13.274382</td>\n",
       "    </tr>\n",
       "    <tr>\n",
       "      <th>2470</th>\n",
       "      <td>-0.428641</td>\n",
       "      <td>-0.217127</td>\n",
       "      <td>-0.334803</td>\n",
       "      <td>-0.396417</td>\n",
       "      <td>2.303397</td>\n",
       "      <td>0.772930</td>\n",
       "      <td>0.609496</td>\n",
       "      <td>-0.701782</td>\n",
       "      <td>1.087425</td>\n",
       "      <td>13.274382</td>\n",
       "    </tr>\n",
       "    <tr>\n",
       "      <th>7707</th>\n",
       "      <td>-0.428641</td>\n",
       "      <td>-0.217127</td>\n",
       "      <td>-0.334803</td>\n",
       "      <td>-0.396417</td>\n",
       "      <td>1.914436</td>\n",
       "      <td>1.176438</td>\n",
       "      <td>0.828308</td>\n",
       "      <td>-0.701782</td>\n",
       "      <td>1.087425</td>\n",
       "      <td>13.274382</td>\n",
       "    </tr>\n",
       "    <tr>\n",
       "      <th>8209</th>\n",
       "      <td>-0.428641</td>\n",
       "      <td>-0.217127</td>\n",
       "      <td>-0.334803</td>\n",
       "      <td>-0.396417</td>\n",
       "      <td>2.303397</td>\n",
       "      <td>0.772930</td>\n",
       "      <td>0.828308</td>\n",
       "      <td>-0.701782</td>\n",
       "      <td>1.087425</td>\n",
       "      <td>13.274382</td>\n",
       "    </tr>\n",
       "    <tr>\n",
       "      <th>3006</th>\n",
       "      <td>-0.428641</td>\n",
       "      <td>-0.217127</td>\n",
       "      <td>-0.334803</td>\n",
       "      <td>-0.396417</td>\n",
       "      <td>1.914436</td>\n",
       "      <td>0.369421</td>\n",
       "      <td>1.265933</td>\n",
       "      <td>-0.701782</td>\n",
       "      <td>1.087425</td>\n",
       "      <td>13.274382</td>\n",
       "    </tr>\n",
       "    <tr>\n",
       "      <th>6271</th>\n",
       "      <td>-0.428641</td>\n",
       "      <td>-0.217127</td>\n",
       "      <td>-0.334803</td>\n",
       "      <td>-0.396417</td>\n",
       "      <td>1.914436</td>\n",
       "      <td>0.772930</td>\n",
       "      <td>0.609496</td>\n",
       "      <td>-0.701782</td>\n",
       "      <td>1.087425</td>\n",
       "      <td>13.274382</td>\n",
       "    </tr>\n",
       "    <tr>\n",
       "      <th>3525</th>\n",
       "      <td>-0.428641</td>\n",
       "      <td>-0.217127</td>\n",
       "      <td>-0.334803</td>\n",
       "      <td>-0.396417</td>\n",
       "      <td>1.914436</td>\n",
       "      <td>1.579946</td>\n",
       "      <td>0.390683</td>\n",
       "      <td>-0.701782</td>\n",
       "      <td>1.087425</td>\n",
       "      <td>13.274382</td>\n",
       "    </tr>\n",
       "    <tr>\n",
       "      <th>8519</th>\n",
       "      <td>-0.428641</td>\n",
       "      <td>-0.217127</td>\n",
       "      <td>-0.334803</td>\n",
       "      <td>-0.396417</td>\n",
       "      <td>2.303397</td>\n",
       "      <td>1.176438</td>\n",
       "      <td>0.025996</td>\n",
       "      <td>-0.701782</td>\n",
       "      <td>1.087425</td>\n",
       "      <td>13.274382</td>\n",
       "    </tr>\n",
       "    <tr>\n",
       "      <th>7332</th>\n",
       "      <td>-0.428641</td>\n",
       "      <td>-0.217127</td>\n",
       "      <td>-0.334803</td>\n",
       "      <td>-0.396417</td>\n",
       "      <td>2.303397</td>\n",
       "      <td>-0.356894</td>\n",
       "      <td>-0.046942</td>\n",
       "      <td>-0.701782</td>\n",
       "      <td>1.087425</td>\n",
       "      <td>13.274382</td>\n",
       "    </tr>\n",
       "    <tr>\n",
       "      <th>7258</th>\n",
       "      <td>-0.428641</td>\n",
       "      <td>-0.217127</td>\n",
       "      <td>-0.334803</td>\n",
       "      <td>-0.396417</td>\n",
       "      <td>1.914436</td>\n",
       "      <td>0.772930</td>\n",
       "      <td>0.682433</td>\n",
       "      <td>-0.701782</td>\n",
       "      <td>1.087425</td>\n",
       "      <td>13.274382</td>\n",
       "    </tr>\n",
       "  </tbody>\n",
       "</table>\n",
       "</div>"
      ],
      "text/plain": [
       "      relationship_Own-child  capital-loss  occupation_Other-service  \\\n",
       "4762               -0.428641     -0.217127                 -0.334803   \n",
       "2470               -0.428641     -0.217127                 -0.334803   \n",
       "7707               -0.428641     -0.217127                 -0.334803   \n",
       "8209               -0.428641     -0.217127                 -0.334803   \n",
       "3006               -0.428641     -0.217127                 -0.334803   \n",
       "6271               -0.428641     -0.217127                 -0.334803   \n",
       "3525               -0.428641     -0.217127                 -0.334803   \n",
       "8519               -0.428641     -0.217127                 -0.334803   \n",
       "7332               -0.428641     -0.217127                 -0.334803   \n",
       "7258               -0.428641     -0.217127                 -0.334803   \n",
       "\n",
       "      marital-status_Divorced  educational-num  hours-per-week       age  \\\n",
       "4762                -0.396417         1.914436        1.579946  1.849433   \n",
       "2470                -0.396417         2.303397        0.772930  0.609496   \n",
       "7707                -0.396417         1.914436        1.176438  0.828308   \n",
       "8209                -0.396417         2.303397        0.772930  0.828308   \n",
       "3006                -0.396417         1.914436        0.369421  1.265933   \n",
       "6271                -0.396417         1.914436        0.772930  0.609496   \n",
       "3525                -0.396417         1.914436        1.579946  0.390683   \n",
       "8519                -0.396417         2.303397        1.176438  0.025996   \n",
       "7332                -0.396417         2.303397       -0.356894 -0.046942   \n",
       "7258                -0.396417         1.914436        0.772930  0.682433   \n",
       "\n",
       "      marital-status_Never-married  marital-status_Married-civ-spouse  \\\n",
       "4762                     -0.701782                           1.087425   \n",
       "2470                     -0.701782                           1.087425   \n",
       "7707                     -0.701782                           1.087425   \n",
       "8209                     -0.701782                           1.087425   \n",
       "3006                     -0.701782                           1.087425   \n",
       "6271                     -0.701782                           1.087425   \n",
       "3525                     -0.701782                           1.087425   \n",
       "8519                     -0.701782                           1.087425   \n",
       "7332                     -0.701782                           1.087425   \n",
       "7258                     -0.701782                           1.087425   \n",
       "\n",
       "      capital-gain  \n",
       "4762     13.274382  \n",
       "2470     13.274382  \n",
       "7707     13.274382  \n",
       "8209     13.274382  \n",
       "3006     13.274382  \n",
       "6271     13.274382  \n",
       "3525     13.274382  \n",
       "8519     13.274382  \n",
       "7332     13.274382  \n",
       "7258     13.274382  "
      ]
     },
     "execution_count": 371,
     "metadata": {},
     "output_type": "execute_result"
    }
   ],
   "source": [
    "prob_ad[attr_weight[\"attribute\"].values[-10:]][:10]"
   ]
  },
  {
   "cell_type": "code",
   "execution_count": 372,
   "metadata": {},
   "outputs": [
    {
     "data": {
      "text/html": [
       "<div>\n",
       "<style scoped>\n",
       "    .dataframe tbody tr th:only-of-type {\n",
       "        vertical-align: middle;\n",
       "    }\n",
       "\n",
       "    .dataframe tbody tr th {\n",
       "        vertical-align: top;\n",
       "    }\n",
       "\n",
       "    .dataframe thead th {\n",
       "        text-align: right;\n",
       "    }\n",
       "</style>\n",
       "<table border=\"1\" class=\"dataframe\">\n",
       "  <thead>\n",
       "    <tr style=\"text-align: right;\">\n",
       "      <th></th>\n",
       "      <th>relationship_Own-child</th>\n",
       "      <th>capital-loss</th>\n",
       "      <th>occupation_Other-service</th>\n",
       "      <th>marital-status_Divorced</th>\n",
       "      <th>educational-num</th>\n",
       "      <th>hours-per-week</th>\n",
       "      <th>age</th>\n",
       "      <th>marital-status_Never-married</th>\n",
       "      <th>marital-status_Married-civ-spouse</th>\n",
       "      <th>capital-gain</th>\n",
       "    </tr>\n",
       "  </thead>\n",
       "  <tbody>\n",
       "    <tr>\n",
       "      <th>5932</th>\n",
       "      <td>2.332956</td>\n",
       "      <td>-0.217127</td>\n",
       "      <td>-0.334803</td>\n",
       "      <td>-0.396417</td>\n",
       "      <td>-0.808297</td>\n",
       "      <td>-0.034087</td>\n",
       "      <td>-1.505691</td>\n",
       "      <td>1.424944</td>\n",
       "      <td>-0.919604</td>\n",
       "      <td>-0.144804</td>\n",
       "    </tr>\n",
       "    <tr>\n",
       "      <th>3591</th>\n",
       "      <td>2.332956</td>\n",
       "      <td>-0.217127</td>\n",
       "      <td>-0.334803</td>\n",
       "      <td>-0.396417</td>\n",
       "      <td>-2.364144</td>\n",
       "      <td>-0.034087</td>\n",
       "      <td>-1.141004</td>\n",
       "      <td>1.424944</td>\n",
       "      <td>-0.919604</td>\n",
       "      <td>-0.144804</td>\n",
       "    </tr>\n",
       "    <tr>\n",
       "      <th>4999</th>\n",
       "      <td>2.332956</td>\n",
       "      <td>-0.217127</td>\n",
       "      <td>2.986835</td>\n",
       "      <td>-0.396417</td>\n",
       "      <td>-1.586221</td>\n",
       "      <td>-2.777944</td>\n",
       "      <td>-1.578629</td>\n",
       "      <td>1.424944</td>\n",
       "      <td>-0.919604</td>\n",
       "      <td>-0.144804</td>\n",
       "    </tr>\n",
       "    <tr>\n",
       "      <th>1359</th>\n",
       "      <td>2.332956</td>\n",
       "      <td>-0.217127</td>\n",
       "      <td>2.986835</td>\n",
       "      <td>-0.396417</td>\n",
       "      <td>-1.197259</td>\n",
       "      <td>-2.939347</td>\n",
       "      <td>-1.505691</td>\n",
       "      <td>1.424944</td>\n",
       "      <td>-0.919604</td>\n",
       "      <td>-0.065093</td>\n",
       "    </tr>\n",
       "    <tr>\n",
       "      <th>6648</th>\n",
       "      <td>2.332956</td>\n",
       "      <td>-0.217127</td>\n",
       "      <td>-0.334803</td>\n",
       "      <td>-0.396417</td>\n",
       "      <td>-1.197259</td>\n",
       "      <td>-1.244612</td>\n",
       "      <td>-1.578629</td>\n",
       "      <td>1.424944</td>\n",
       "      <td>-0.919604</td>\n",
       "      <td>-0.144804</td>\n",
       "    </tr>\n",
       "    <tr>\n",
       "      <th>9350</th>\n",
       "      <td>-0.428641</td>\n",
       "      <td>-0.217127</td>\n",
       "      <td>-0.334803</td>\n",
       "      <td>-0.396417</td>\n",
       "      <td>-3.142068</td>\n",
       "      <td>-0.034087</td>\n",
       "      <td>1.120058</td>\n",
       "      <td>-0.701782</td>\n",
       "      <td>-0.919604</td>\n",
       "      <td>-0.144804</td>\n",
       "    </tr>\n",
       "    <tr>\n",
       "      <th>8761</th>\n",
       "      <td>-0.428641</td>\n",
       "      <td>-0.217127</td>\n",
       "      <td>2.986835</td>\n",
       "      <td>-0.396417</td>\n",
       "      <td>-3.142068</td>\n",
       "      <td>-1.244612</td>\n",
       "      <td>-0.995129</td>\n",
       "      <td>1.424944</td>\n",
       "      <td>-0.919604</td>\n",
       "      <td>-0.144804</td>\n",
       "    </tr>\n",
       "    <tr>\n",
       "      <th>3116</th>\n",
       "      <td>2.332956</td>\n",
       "      <td>-0.217127</td>\n",
       "      <td>-0.334803</td>\n",
       "      <td>-0.396417</td>\n",
       "      <td>-1.975183</td>\n",
       "      <td>-2.374435</td>\n",
       "      <td>-1.359816</td>\n",
       "      <td>1.424944</td>\n",
       "      <td>-0.919604</td>\n",
       "      <td>-0.144804</td>\n",
       "    </tr>\n",
       "    <tr>\n",
       "      <th>747</th>\n",
       "      <td>2.332956</td>\n",
       "      <td>-0.217127</td>\n",
       "      <td>2.986835</td>\n",
       "      <td>-0.396417</td>\n",
       "      <td>-3.531030</td>\n",
       "      <td>-2.051629</td>\n",
       "      <td>-1.141004</td>\n",
       "      <td>1.424944</td>\n",
       "      <td>-0.919604</td>\n",
       "      <td>-0.144804</td>\n",
       "    </tr>\n",
       "    <tr>\n",
       "      <th>8504</th>\n",
       "      <td>-0.428641</td>\n",
       "      <td>-0.217127</td>\n",
       "      <td>-0.334803</td>\n",
       "      <td>-0.396417</td>\n",
       "      <td>-0.419335</td>\n",
       "      <td>-0.437595</td>\n",
       "      <td>-1.359816</td>\n",
       "      <td>-0.701782</td>\n",
       "      <td>-0.919604</td>\n",
       "      <td>-0.144804</td>\n",
       "    </tr>\n",
       "  </tbody>\n",
       "</table>\n",
       "</div>"
      ],
      "text/plain": [
       "      relationship_Own-child  capital-loss  occupation_Other-service  \\\n",
       "5932                2.332956     -0.217127                 -0.334803   \n",
       "3591                2.332956     -0.217127                 -0.334803   \n",
       "4999                2.332956     -0.217127                  2.986835   \n",
       "1359                2.332956     -0.217127                  2.986835   \n",
       "6648                2.332956     -0.217127                 -0.334803   \n",
       "9350               -0.428641     -0.217127                 -0.334803   \n",
       "8761               -0.428641     -0.217127                  2.986835   \n",
       "3116                2.332956     -0.217127                 -0.334803   \n",
       "747                 2.332956     -0.217127                  2.986835   \n",
       "8504               -0.428641     -0.217127                 -0.334803   \n",
       "\n",
       "      marital-status_Divorced  educational-num  hours-per-week       age  \\\n",
       "5932                -0.396417        -0.808297       -0.034087 -1.505691   \n",
       "3591                -0.396417        -2.364144       -0.034087 -1.141004   \n",
       "4999                -0.396417        -1.586221       -2.777944 -1.578629   \n",
       "1359                -0.396417        -1.197259       -2.939347 -1.505691   \n",
       "6648                -0.396417        -1.197259       -1.244612 -1.578629   \n",
       "9350                -0.396417        -3.142068       -0.034087  1.120058   \n",
       "8761                -0.396417        -3.142068       -1.244612 -0.995129   \n",
       "3116                -0.396417        -1.975183       -2.374435 -1.359816   \n",
       "747                 -0.396417        -3.531030       -2.051629 -1.141004   \n",
       "8504                -0.396417        -0.419335       -0.437595 -1.359816   \n",
       "\n",
       "      marital-status_Never-married  marital-status_Married-civ-spouse  \\\n",
       "5932                      1.424944                          -0.919604   \n",
       "3591                      1.424944                          -0.919604   \n",
       "4999                      1.424944                          -0.919604   \n",
       "1359                      1.424944                          -0.919604   \n",
       "6648                      1.424944                          -0.919604   \n",
       "9350                     -0.701782                          -0.919604   \n",
       "8761                      1.424944                          -0.919604   \n",
       "3116                      1.424944                          -0.919604   \n",
       "747                       1.424944                          -0.919604   \n",
       "8504                     -0.701782                          -0.919604   \n",
       "\n",
       "      capital-gain  \n",
       "5932     -0.144804  \n",
       "3591     -0.144804  \n",
       "4999     -0.144804  \n",
       "1359     -0.065093  \n",
       "6648     -0.144804  \n",
       "9350     -0.144804  \n",
       "8761     -0.144804  \n",
       "3116     -0.144804  \n",
       "747      -0.144804  \n",
       "8504     -0.144804  "
      ]
     },
     "execution_count": 372,
     "metadata": {},
     "output_type": "execute_result"
    }
   ],
   "source": [
    "prob_ad[attr_weight[\"attribute\"].values[-10:]][-10:]"
   ]
  },
  {
   "cell_type": "code",
   "execution_count": 398,
   "metadata": {},
   "outputs": [
    {
     "data": {
      "text/plain": [
       "['native-country_?',\n",
       " 'native-country_Cambodia',\n",
       " 'native-country_Canada',\n",
       " 'native-country_China',\n",
       " 'native-country_Columbia',\n",
       " 'native-country_Cuba',\n",
       " 'native-country_Dominican-Republic',\n",
       " 'native-country_Ecuador',\n",
       " 'native-country_El-Salvador',\n",
       " 'native-country_England',\n",
       " 'native-country_France',\n",
       " 'native-country_Germany',\n",
       " 'native-country_Greece',\n",
       " 'native-country_Guatemala',\n",
       " 'native-country_Haiti',\n",
       " 'native-country_Holand-Netherlands',\n",
       " 'native-country_Honduras',\n",
       " 'native-country_Hong',\n",
       " 'native-country_Hungary',\n",
       " 'native-country_India',\n",
       " 'native-country_Iran',\n",
       " 'native-country_Ireland',\n",
       " 'native-country_Italy',\n",
       " 'native-country_Jamaica',\n",
       " 'native-country_Japan',\n",
       " 'native-country_Laos',\n",
       " 'native-country_Mexico',\n",
       " 'native-country_Nicaragua',\n",
       " 'native-country_Outlying-US(Guam-USVI-etc)',\n",
       " 'native-country_Peru',\n",
       " 'native-country_Philippines',\n",
       " 'native-country_Poland',\n",
       " 'native-country_Portugal',\n",
       " 'native-country_Puerto-Rico',\n",
       " 'native-country_Scotland',\n",
       " 'native-country_South',\n",
       " 'native-country_Taiwan',\n",
       " 'native-country_Thailand',\n",
       " 'native-country_Trinadad&Tobago',\n",
       " 'native-country_United-States',\n",
       " 'native-country_Vietnam',\n",
       " 'native-country_Yugoslavia',\n",
       " 'hello']"
      ]
     },
     "execution_count": 398,
     "metadata": {},
     "output_type": "execute_result"
    }
   ],
   "source": [
    "countries = [s for s in prob_ad.columns.to_list() if \"native-country\" in s]\n",
    "countries + ['hello']"
   ]
  },
  {
   "cell_type": "code",
   "execution_count": 403,
   "metadata": {},
   "outputs": [
    {
     "data": {
      "text/plain": [
       "native-country_Holand-Netherlands            0.004525\n",
       "native-country_Hungary                       0.019727\n",
       "native-country_Honduras                      0.020240\n",
       "native-country_Scotland                      0.020740\n",
       "native-country_Outlying-US(Guam-USVI-etc)    0.021705\n",
       "native-country_Laos                          0.021705\n",
       "native-country_Yugoslavia                    0.021705\n",
       "native-country_Trinadad&Tobago               0.023518\n",
       "native-country_Cambodia                      0.023950\n",
       "native-country_Thailand                      0.024791\n",
       "native-country_Hong                          0.024791\n",
       "native-country_Ireland                       0.027534\n",
       "native-country_France                        0.027904\n",
       "native-country_Ecuador                       0.030368\n",
       "native-country_Peru                          0.030703\n",
       "native-country_Greece                        0.031690\n",
       "native-country_Nicaragua                     0.031690\n",
       "native-country_Iran                          0.034777\n",
       "native-country_Taiwan                        0.036505\n",
       "native-country_Portugal                      0.037063\n",
       "native-country_Haiti                         0.039216\n",
       "native-country_Columbia                      0.041753\n",
       "native-country_Vietnam                       0.041999\n",
       "native-country_Poland                        0.042243\n",
       "native-country_Guatemala                     0.042485\n",
       "native-country_Japan                         0.043442\n",
       "native-country_Dominican-Republic            0.045971\n",
       "native-country_Italy                         0.046416\n",
       "native-country_Jamaica                       0.046637\n",
       "native-country_South                         0.048581\n",
       "native-country_China                         0.050041\n",
       "native-country_England                       0.051059\n",
       "native-country_Cuba                          0.053230\n",
       "native-country_India                         0.055688\n",
       "native-country_El-Salvador                   0.056423\n",
       "native-country_Canada                        0.061157\n",
       "native-country_Puerto-Rico                   0.061494\n",
       "native-country_Germany                       0.065081\n",
       "native-country_Philippines                   0.077952\n",
       "native-country_?                             0.133640\n",
       "native-country_Mexico                        0.140917\n",
       "native-country_United-States                 0.338083\n",
       "probability                                  1.000000\n",
       "dtype: float64"
      ]
     },
     "execution_count": 403,
     "metadata": {},
     "output_type": "execute_result"
    }
   ],
   "source": [
    "prob_ad[countries+ ['probability']][:10].mean().abs().sort_values()"
   ]
  },
  {
   "cell_type": "code",
   "execution_count": null,
   "metadata": {},
   "outputs": [],
   "source": []
  }
 ],
 "metadata": {
  "kernelspec": {
   "display_name": "Python 3 (ipykernel)",
   "language": "python",
   "name": "python3"
  },
  "language_info": {
   "codemirror_mode": {
    "name": "ipython",
    "version": 3
   },
   "file_extension": ".py",
   "mimetype": "text/x-python",
   "name": "python",
   "nbconvert_exporter": "python",
   "pygments_lexer": "ipython3",
   "version": "3.8.8"
  }
 },
 "nbformat": 4,
 "nbformat_minor": 4
}
