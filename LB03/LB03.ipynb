{
 "cells": [
  {
   "cell_type": "markdown",
   "metadata": {},
   "source": [
    "# LB03: Задача регрессии с помощью решающих деревьев и линейных моделей"
   ]
  },
  {
   "cell_type": "markdown",
   "metadata": {},
   "source": [
    "<div style=\"text-align: right\"> ПСА 5 (Введение в машинное обучение). Мехмат, БГУ</div>\n",
    "    \n",
    "<div style=\"text-align: right\"> Тишуров Алексей, октябрь 2021 </div>"
   ]
  },
  {
   "cell_type": "markdown",
   "metadata": {},
   "source": [
    "Данный материал использует лицензию [Creative Commons CC BY-NC-SA 4.0.](https://creativecommons.org/licenses/by-nc-sa/4.0/) со всеми вытекающими. На прилагаемый к материалу датасет лицензия не распостраняется. "
   ]
  },
  {
   "cell_type": "markdown",
   "metadata": {},
   "source": [
    "В рамках данной лабораторной работы вы попробуете на практике решающие деревья в применении к задаче регрессии, а также сравните их с линейными моделями. Кроме того, вы примените на практике кросс-валидацию и некоторые способы перебора гиперпараметров моделей."
   ]
  },
  {
   "cell_type": "code",
   "execution_count": 1,
   "metadata": {},
   "outputs": [],
   "source": [
    "import pandas as pd\n",
    "import numpy as np\n",
    "%matplotlib inline\n",
    "import matplotlib.pyplot as plt\n",
    "\n",
    "from sklearn.tree import DecisionTreeRegressor\n",
    "from sklearn.preprocessing import PowerTransformer, StandardScaler, QuantileTransformer\n",
    "from sklearn.linear_model import SGDRegressor, ElasticNet\n",
    "from sklearn.metrics import mean_absolute_error, mean_squared_error\n",
    "from sklearn.model_selection import cross_val_predict, cross_val_score, \\\n",
    "    GridSearchCV, RandomizedSearchCV, train_test_split, KFold\n",
    "from eli5.sklearn import explain_decision_tree, explain_linear_regressor_weights"
   ]
  },
  {
   "cell_type": "markdown",
   "metadata": {},
   "source": [
    "# Полезные ссылки по теме"
   ]
  },
  {
   "cell_type": "markdown",
   "metadata": {},
   "source": [
    "1. Официальная документация sklearn http://scikit-learn.org/stable/index.html\n",
    "2. Темы 3-4 курса по машинному обучению от ods.ai https://habr.com/company/ods/blog/322626/\n",
    "3. Лекция по решающим деревьям от ВШЭ https://www.hse.ru/mirror/pubs/share/215285956\n",
    "4. Неплохая статья по регуляризации https://craftappmobile.com/l1-vs-l2-regularization/\n",
    "5. Все еще книжка Elements of Statistical Learning https://web.stanford.edu/~hastie/ElemStatLearn/ (В этот раз нас больше всего интересуют разделы 7 и 9.2)\n",
    "6. Все еще курс Learning from Data https://work.caltech.edu/telecourse.html\n",
    "7. Что такое гистограмма https://ru.wikipedia.org/wiki/%D0%93%D0%B8%D1%81%D1%82%D0%BE%D0%B3%D1%80%D0%B0%D0%BC%D0%BC%D0%B0"
   ]
  },
  {
   "cell_type": "markdown",
   "metadata": {},
   "source": [
    "# Часть 1. Датасет"
   ]
  },
  {
   "cell_type": "markdown",
   "metadata": {},
   "source": [
    "В этот раз мы будем использовать датасет, где нужно предсказать цену поддержаной машины в Индии на основе информации о ней.\n",
    "\n",
    "Столбцы в данных:\n",
    "- Name: Детальное название машины (марка, модель и т.д.)\n",
    "- Year: Год выпуска\n",
    "- Kilometers_Driven - пробег\n",
    "- Fuel_Type - используемое топливо\n",
    "- Transmission - тип коробки передач\n",
    "- Owner_Type - какой по номеру текущий владелец\n",
    "- Mileage - расход топлива в километрах на литр. Обратите внимание, что величины могут быть разными. Нужно придумать, что с этим делать\n",
    "- Engine - объем двигателя\n",
    "- Power - лошадиные силы\n",
    "- Seats - число сидений\n",
    "- New_Price - цена аналогичной новой машины (очень много пропусков)\n",
    "- Price - цена машины в лахках рупи (сотни тысяч). Целевая переменная. Обратите внимание, что есть небольшое количество очень дорогих машин. Может ли это быть проблемой? \n",
    "\n",
    "\n",
    "P.S. Некоторые из цен указаны в другой шкале, их нужно найти и поправить\n"
   ]
  },
  {
   "cell_type": "code",
   "execution_count": 121,
   "metadata": {},
   "outputs": [],
   "source": [
    "train = pd.read_csv('train-data.csv', index_col=0)"
   ]
  },
  {
   "cell_type": "code",
   "execution_count": 3,
   "metadata": {},
   "outputs": [
    {
     "data": {
      "text/html": [
       "<div>\n",
       "<style scoped>\n",
       "    .dataframe tbody tr th:only-of-type {\n",
       "        vertical-align: middle;\n",
       "    }\n",
       "\n",
       "    .dataframe tbody tr th {\n",
       "        vertical-align: top;\n",
       "    }\n",
       "\n",
       "    .dataframe thead th {\n",
       "        text-align: right;\n",
       "    }\n",
       "</style>\n",
       "<table border=\"1\" class=\"dataframe\">\n",
       "  <thead>\n",
       "    <tr style=\"text-align: right;\">\n",
       "      <th></th>\n",
       "      <th>Name</th>\n",
       "      <th>Location</th>\n",
       "      <th>Year</th>\n",
       "      <th>Kilometers_Driven</th>\n",
       "      <th>Fuel_Type</th>\n",
       "      <th>Transmission</th>\n",
       "      <th>Owner_Type</th>\n",
       "      <th>Mileage</th>\n",
       "      <th>Engine</th>\n",
       "      <th>Power</th>\n",
       "      <th>Seats</th>\n",
       "      <th>New_Price</th>\n",
       "      <th>Price</th>\n",
       "    </tr>\n",
       "  </thead>\n",
       "  <tbody>\n",
       "    <tr>\n",
       "      <th>0</th>\n",
       "      <td>Maruti Wagon R LXI CNG</td>\n",
       "      <td>Mumbai</td>\n",
       "      <td>2010</td>\n",
       "      <td>72000</td>\n",
       "      <td>CNG</td>\n",
       "      <td>Manual</td>\n",
       "      <td>First</td>\n",
       "      <td>26.6 km/kg</td>\n",
       "      <td>998 CC</td>\n",
       "      <td>58.16 bhp</td>\n",
       "      <td>5.0</td>\n",
       "      <td>NaN</td>\n",
       "      <td>1.75</td>\n",
       "    </tr>\n",
       "    <tr>\n",
       "      <th>1</th>\n",
       "      <td>Hyundai Creta 1.6 CRDi SX Option</td>\n",
       "      <td>Pune</td>\n",
       "      <td>2015</td>\n",
       "      <td>41000</td>\n",
       "      <td>Diesel</td>\n",
       "      <td>Manual</td>\n",
       "      <td>First</td>\n",
       "      <td>19.67 kmpl</td>\n",
       "      <td>1582 CC</td>\n",
       "      <td>126.2 bhp</td>\n",
       "      <td>5.0</td>\n",
       "      <td>NaN</td>\n",
       "      <td>12.50</td>\n",
       "    </tr>\n",
       "    <tr>\n",
       "      <th>2</th>\n",
       "      <td>Honda Jazz V</td>\n",
       "      <td>Chennai</td>\n",
       "      <td>2011</td>\n",
       "      <td>46000</td>\n",
       "      <td>Petrol</td>\n",
       "      <td>Manual</td>\n",
       "      <td>First</td>\n",
       "      <td>18.2 kmpl</td>\n",
       "      <td>1199 CC</td>\n",
       "      <td>88.7 bhp</td>\n",
       "      <td>5.0</td>\n",
       "      <td>8.61 Lakh</td>\n",
       "      <td>4.50</td>\n",
       "    </tr>\n",
       "    <tr>\n",
       "      <th>3</th>\n",
       "      <td>Maruti Ertiga VDI</td>\n",
       "      <td>Chennai</td>\n",
       "      <td>2012</td>\n",
       "      <td>87000</td>\n",
       "      <td>Diesel</td>\n",
       "      <td>Manual</td>\n",
       "      <td>First</td>\n",
       "      <td>20.77 kmpl</td>\n",
       "      <td>1248 CC</td>\n",
       "      <td>88.76 bhp</td>\n",
       "      <td>7.0</td>\n",
       "      <td>NaN</td>\n",
       "      <td>6.00</td>\n",
       "    </tr>\n",
       "    <tr>\n",
       "      <th>4</th>\n",
       "      <td>Audi A4 New 2.0 TDI Multitronic</td>\n",
       "      <td>Coimbatore</td>\n",
       "      <td>2013</td>\n",
       "      <td>40670</td>\n",
       "      <td>Diesel</td>\n",
       "      <td>Automatic</td>\n",
       "      <td>Second</td>\n",
       "      <td>15.2 kmpl</td>\n",
       "      <td>1968 CC</td>\n",
       "      <td>140.8 bhp</td>\n",
       "      <td>5.0</td>\n",
       "      <td>NaN</td>\n",
       "      <td>17.74</td>\n",
       "    </tr>\n",
       "  </tbody>\n",
       "</table>\n",
       "</div>"
      ],
      "text/plain": [
       "                               Name    Location  Year  Kilometers_Driven  \\\n",
       "0            Maruti Wagon R LXI CNG      Mumbai  2010              72000   \n",
       "1  Hyundai Creta 1.6 CRDi SX Option        Pune  2015              41000   \n",
       "2                      Honda Jazz V     Chennai  2011              46000   \n",
       "3                 Maruti Ertiga VDI     Chennai  2012              87000   \n",
       "4   Audi A4 New 2.0 TDI Multitronic  Coimbatore  2013              40670   \n",
       "\n",
       "  Fuel_Type Transmission Owner_Type     Mileage   Engine      Power  Seats  \\\n",
       "0       CNG       Manual      First  26.6 km/kg   998 CC  58.16 bhp    5.0   \n",
       "1    Diesel       Manual      First  19.67 kmpl  1582 CC  126.2 bhp    5.0   \n",
       "2    Petrol       Manual      First   18.2 kmpl  1199 CC   88.7 bhp    5.0   \n",
       "3    Diesel       Manual      First  20.77 kmpl  1248 CC  88.76 bhp    7.0   \n",
       "4    Diesel    Automatic     Second   15.2 kmpl  1968 CC  140.8 bhp    5.0   \n",
       "\n",
       "   New_Price  Price  \n",
       "0        NaN   1.75  \n",
       "1        NaN  12.50  \n",
       "2  8.61 Lakh   4.50  \n",
       "3        NaN   6.00  \n",
       "4        NaN  17.74  "
      ]
     },
     "execution_count": 3,
     "metadata": {},
     "output_type": "execute_result"
    }
   ],
   "source": [
    "train.head()"
   ]
  },
  {
   "cell_type": "markdown",
   "metadata": {},
   "source": [
    "# Задание 1.1 Ознакомление с датасетом"
   ]
  },
  {
   "cell_type": "markdown",
   "metadata": {},
   "source": [
    "Сделайте с датасетом все то, что делали с прошлыми датасетами: посмотрите на признаки, определите типы, нарисуйте графики, найдите пропуски и т.д"
   ]
  },
  {
   "cell_type": "code",
   "execution_count": 4,
   "metadata": {},
   "outputs": [
    {
     "data": {
      "text/plain": [
       "Index(['Name', 'Location', 'Year', 'Kilometers_Driven', 'Fuel_Type',\n",
       "       'Transmission', 'Owner_Type', 'Mileage', 'Engine', 'Power', 'Seats',\n",
       "       'New_Price', 'Price'],\n",
       "      dtype='object')"
      ]
     },
     "execution_count": 4,
     "metadata": {},
     "output_type": "execute_result"
    }
   ],
   "source": [
    "train.columns"
   ]
  },
  {
   "cell_type": "code",
   "execution_count": 5,
   "metadata": {},
   "outputs": [
    {
     "name": "stdout",
     "output_type": "stream",
     "text": [
      "<class 'pandas.core.frame.DataFrame'>\n",
      "Int64Index: 6019 entries, 0 to 6018\n",
      "Data columns (total 13 columns):\n",
      " #   Column             Non-Null Count  Dtype  \n",
      "---  ------             --------------  -----  \n",
      " 0   Name               6019 non-null   object \n",
      " 1   Location           6019 non-null   object \n",
      " 2   Year               6019 non-null   int64  \n",
      " 3   Kilometers_Driven  6019 non-null   int64  \n",
      " 4   Fuel_Type          6019 non-null   object \n",
      " 5   Transmission       6019 non-null   object \n",
      " 6   Owner_Type         6019 non-null   object \n",
      " 7   Mileage            6017 non-null   object \n",
      " 8   Engine             5983 non-null   object \n",
      " 9   Power              5983 non-null   object \n",
      " 10  Seats              5977 non-null   float64\n",
      " 11  New_Price          824 non-null    object \n",
      " 12  Price              6019 non-null   float64\n",
      "dtypes: float64(2), int64(2), object(9)\n",
      "memory usage: 658.3+ KB\n"
     ]
    }
   ],
   "source": [
    "train.info()"
   ]
  },
  {
   "cell_type": "code",
   "execution_count": 6,
   "metadata": {},
   "outputs": [
    {
     "data": {
      "text/html": [
       "<div>\n",
       "<style scoped>\n",
       "    .dataframe tbody tr th:only-of-type {\n",
       "        vertical-align: middle;\n",
       "    }\n",
       "\n",
       "    .dataframe tbody tr th {\n",
       "        vertical-align: top;\n",
       "    }\n",
       "\n",
       "    .dataframe thead th {\n",
       "        text-align: right;\n",
       "    }\n",
       "</style>\n",
       "<table border=\"1\" class=\"dataframe\">\n",
       "  <thead>\n",
       "    <tr style=\"text-align: right;\">\n",
       "      <th></th>\n",
       "      <th>Year</th>\n",
       "      <th>Kilometers_Driven</th>\n",
       "      <th>Seats</th>\n",
       "      <th>Price</th>\n",
       "    </tr>\n",
       "  </thead>\n",
       "  <tbody>\n",
       "    <tr>\n",
       "      <th>count</th>\n",
       "      <td>6019.000000</td>\n",
       "      <td>6.019000e+03</td>\n",
       "      <td>5977.000000</td>\n",
       "      <td>6019.000000</td>\n",
       "    </tr>\n",
       "    <tr>\n",
       "      <th>mean</th>\n",
       "      <td>2013.358199</td>\n",
       "      <td>5.873838e+04</td>\n",
       "      <td>5.278735</td>\n",
       "      <td>9.479468</td>\n",
       "    </tr>\n",
       "    <tr>\n",
       "      <th>std</th>\n",
       "      <td>3.269742</td>\n",
       "      <td>9.126884e+04</td>\n",
       "      <td>0.808840</td>\n",
       "      <td>11.187917</td>\n",
       "    </tr>\n",
       "    <tr>\n",
       "      <th>min</th>\n",
       "      <td>1998.000000</td>\n",
       "      <td>1.710000e+02</td>\n",
       "      <td>0.000000</td>\n",
       "      <td>0.440000</td>\n",
       "    </tr>\n",
       "    <tr>\n",
       "      <th>25%</th>\n",
       "      <td>2011.000000</td>\n",
       "      <td>3.400000e+04</td>\n",
       "      <td>5.000000</td>\n",
       "      <td>3.500000</td>\n",
       "    </tr>\n",
       "    <tr>\n",
       "      <th>50%</th>\n",
       "      <td>2014.000000</td>\n",
       "      <td>5.300000e+04</td>\n",
       "      <td>5.000000</td>\n",
       "      <td>5.640000</td>\n",
       "    </tr>\n",
       "    <tr>\n",
       "      <th>75%</th>\n",
       "      <td>2016.000000</td>\n",
       "      <td>7.300000e+04</td>\n",
       "      <td>5.000000</td>\n",
       "      <td>9.950000</td>\n",
       "    </tr>\n",
       "    <tr>\n",
       "      <th>max</th>\n",
       "      <td>2019.000000</td>\n",
       "      <td>6.500000e+06</td>\n",
       "      <td>10.000000</td>\n",
       "      <td>160.000000</td>\n",
       "    </tr>\n",
       "  </tbody>\n",
       "</table>\n",
       "</div>"
      ],
      "text/plain": [
       "              Year  Kilometers_Driven        Seats        Price\n",
       "count  6019.000000       6.019000e+03  5977.000000  6019.000000\n",
       "mean   2013.358199       5.873838e+04     5.278735     9.479468\n",
       "std       3.269742       9.126884e+04     0.808840    11.187917\n",
       "min    1998.000000       1.710000e+02     0.000000     0.440000\n",
       "25%    2011.000000       3.400000e+04     5.000000     3.500000\n",
       "50%    2014.000000       5.300000e+04     5.000000     5.640000\n",
       "75%    2016.000000       7.300000e+04     5.000000     9.950000\n",
       "max    2019.000000       6.500000e+06    10.000000   160.000000"
      ]
     },
     "execution_count": 6,
     "metadata": {},
     "output_type": "execute_result"
    }
   ],
   "source": [
    "train.describe()"
   ]
  },
  {
   "cell_type": "code",
   "execution_count": 7,
   "metadata": {},
   "outputs": [
    {
     "data": {
      "text/plain": [
       "<AxesSubplot:>"
      ]
     },
     "execution_count": 7,
     "metadata": {},
     "output_type": "execute_result"
    },
    {
     "data": {
      "image/png": "[encoded data removed]",
      "text/plain": [
       "<Figure size 432x288 with 1 Axes>"
      ]
     },
     "metadata": {
      "needs_background": "light"
     },
     "output_type": "display_data"
    }
   ],
   "source": [
    "train.isnull().sum().plot.bar()"
   ]
  },
  {
   "cell_type": "code",
   "execution_count": 122,
   "metadata": {},
   "outputs": [],
   "source": [
    "train0 = train"
   ]
  },
  {
   "cell_type": "code",
   "execution_count": 9,
   "metadata": {},
   "outputs": [
    {
     "data": {
      "image/png": "[encoded data removed]",
      "text/plain": [
       "<Figure size 432x288 with 1 Axes>"
      ]
     },
     "metadata": {
      "needs_background": "light"
     },
     "output_type": "display_data"
    },
    {
     "data": {
      "image/png": "[encoded data removed]",
      "text/plain": [
       "<Figure size 432x288 with 1 Axes>"
      ]
     },
     "metadata": {
      "needs_background": "light"
     },
     "output_type": "display_data"
    },
    {
     "data": {
      "image/png": "[encoded data removed]",
      "text/plain": [
       "<Figure size 432x288 with 1 Axes>"
      ]
     },
     "metadata": {
      "needs_background": "light"
     },
     "output_type": "display_data"
    },
    {
     "data": {
      "image/png": "[encoded data removed]",
      "text/plain": [
       "<Figure size 432x288 with 1 Axes>"
      ]
     },
     "metadata": {
      "needs_background": "light"
     },
     "output_type": "display_data"
    },
    {
     "data": {
      "image/png": "[encoded data removed]",
      "text/plain": [
       "<Figure size 432x288 with 1 Axes>"
      ]
     },
     "metadata": {
      "needs_background": "light"
     },
     "output_type": "display_data"
    }
   ],
   "source": [
    "corr = train.corr().abs().unstack().sort_values(kind=\"quicksort\").drop_duplicates()[-6:-1]\n",
    "for i in corr.index:\n",
    "    train.plot.scatter(x = i[0], y = i[1] )\n",
    "plt.show()"
   ]
  },
  {
   "cell_type": "markdown",
   "metadata": {},
   "source": [
    "# Задание 1.2 Подготовка признаков"
   ]
  },
  {
   "cell_type": "markdown",
   "metadata": {},
   "source": [
    "Над признаками этого датасета нужно поработать немного больше.\n",
    "1. Преобразуйте числовые признаки (Mileage, Power, Engine, New_Price) так, чтобы они были реально числами. Т.е. удалите лишнее и преобразуется в float\n",
    "2. Извлеките из имени машины как минимум марку в качестве отдельного признака. Если у вас есть идеи для других признаков на основе Name (и любых других вообще), то реализуйте их. Стоит ли использовать признак Name напрямую?\n",
    "3. Превратите выбранные категориальные признаки в числовые с помощью pd.get_dummies или любого другого способа, который вам нравится\n",
    "4. Что будем делать с New_Price?"
   ]
  },
  {
   "cell_type": "code",
   "execution_count": null,
   "metadata": {},
   "outputs": [],
   "source": []
  },
  {
   "cell_type": "code",
   "execution_count": 123,
   "metadata": {},
   "outputs": [
    {
     "data": {
      "text/html": [
       "<div>\n",
       "<style scoped>\n",
       "    .dataframe tbody tr th:only-of-type {\n",
       "        vertical-align: middle;\n",
       "    }\n",
       "\n",
       "    .dataframe tbody tr th {\n",
       "        vertical-align: top;\n",
       "    }\n",
       "\n",
       "    .dataframe thead th {\n",
       "        text-align: right;\n",
       "    }\n",
       "</style>\n",
       "<table border=\"1\" class=\"dataframe\">\n",
       "  <thead>\n",
       "    <tr style=\"text-align: right;\">\n",
       "      <th></th>\n",
       "      <th>Name</th>\n",
       "      <th>Location</th>\n",
       "      <th>Year</th>\n",
       "      <th>Kilometers_Driven</th>\n",
       "      <th>Fuel_Type</th>\n",
       "      <th>Transmission</th>\n",
       "      <th>Owner_Type</th>\n",
       "      <th>Mileage</th>\n",
       "      <th>Engine</th>\n",
       "      <th>Power</th>\n",
       "      <th>Seats</th>\n",
       "      <th>New_Price</th>\n",
       "      <th>Price</th>\n",
       "    </tr>\n",
       "  </thead>\n",
       "  <tbody>\n",
       "    <tr>\n",
       "      <th>0</th>\n",
       "      <td>Maruti Wagon R LXI CNG</td>\n",
       "      <td>Mumbai</td>\n",
       "      <td>2010</td>\n",
       "      <td>72000</td>\n",
       "      <td>CNG</td>\n",
       "      <td>Manual</td>\n",
       "      <td>First</td>\n",
       "      <td>37.24</td>\n",
       "      <td>998.0</td>\n",
       "      <td>58.16</td>\n",
       "      <td>5.0</td>\n",
       "      <td>0.00</td>\n",
       "      <td>1.75</td>\n",
       "    </tr>\n",
       "    <tr>\n",
       "      <th>1</th>\n",
       "      <td>Hyundai Creta 1.6 CRDi SX Option</td>\n",
       "      <td>Pune</td>\n",
       "      <td>2015</td>\n",
       "      <td>41000</td>\n",
       "      <td>Diesel</td>\n",
       "      <td>Manual</td>\n",
       "      <td>First</td>\n",
       "      <td>19.67</td>\n",
       "      <td>1582.0</td>\n",
       "      <td>126.20</td>\n",
       "      <td>5.0</td>\n",
       "      <td>0.00</td>\n",
       "      <td>12.50</td>\n",
       "    </tr>\n",
       "    <tr>\n",
       "      <th>2</th>\n",
       "      <td>Honda Jazz V</td>\n",
       "      <td>Chennai</td>\n",
       "      <td>2011</td>\n",
       "      <td>46000</td>\n",
       "      <td>Petrol</td>\n",
       "      <td>Manual</td>\n",
       "      <td>First</td>\n",
       "      <td>18.20</td>\n",
       "      <td>1199.0</td>\n",
       "      <td>88.70</td>\n",
       "      <td>5.0</td>\n",
       "      <td>8.61</td>\n",
       "      <td>4.50</td>\n",
       "    </tr>\n",
       "    <tr>\n",
       "      <th>3</th>\n",
       "      <td>Maruti Ertiga VDI</td>\n",
       "      <td>Chennai</td>\n",
       "      <td>2012</td>\n",
       "      <td>87000</td>\n",
       "      <td>Diesel</td>\n",
       "      <td>Manual</td>\n",
       "      <td>First</td>\n",
       "      <td>20.77</td>\n",
       "      <td>1248.0</td>\n",
       "      <td>88.76</td>\n",
       "      <td>7.0</td>\n",
       "      <td>0.00</td>\n",
       "      <td>6.00</td>\n",
       "    </tr>\n",
       "    <tr>\n",
       "      <th>4</th>\n",
       "      <td>Audi A4 New 2.0 TDI Multitronic</td>\n",
       "      <td>Coimbatore</td>\n",
       "      <td>2013</td>\n",
       "      <td>40670</td>\n",
       "      <td>Diesel</td>\n",
       "      <td>Automatic</td>\n",
       "      <td>Second</td>\n",
       "      <td>15.20</td>\n",
       "      <td>1968.0</td>\n",
       "      <td>140.80</td>\n",
       "      <td>5.0</td>\n",
       "      <td>0.00</td>\n",
       "      <td>17.74</td>\n",
       "    </tr>\n",
       "  </tbody>\n",
       "</table>\n",
       "</div>"
      ],
      "text/plain": [
       "                               Name    Location  Year  Kilometers_Driven  \\\n",
       "0            Maruti Wagon R LXI CNG      Mumbai  2010              72000   \n",
       "1  Hyundai Creta 1.6 CRDi SX Option        Pune  2015              41000   \n",
       "2                      Honda Jazz V     Chennai  2011              46000   \n",
       "3                 Maruti Ertiga VDI     Chennai  2012              87000   \n",
       "4   Audi A4 New 2.0 TDI Multitronic  Coimbatore  2013              40670   \n",
       "\n",
       "  Fuel_Type Transmission Owner_Type  Mileage  Engine   Power  Seats  \\\n",
       "0       CNG       Manual      First    37.24   998.0   58.16    5.0   \n",
       "1    Diesel       Manual      First    19.67  1582.0  126.20    5.0   \n",
       "2    Petrol       Manual      First    18.20  1199.0   88.70    5.0   \n",
       "3    Diesel       Manual      First    20.77  1248.0   88.76    7.0   \n",
       "4    Diesel    Automatic     Second    15.20  1968.0  140.80    5.0   \n",
       "\n",
       "   New_Price  Price  \n",
       "0       0.00   1.75  \n",
       "1       0.00  12.50  \n",
       "2       8.61   4.50  \n",
       "3       0.00   6.00  \n",
       "4       0.00  17.74  "
      ]
     },
     "execution_count": 123,
     "metadata": {},
     "output_type": "execute_result"
    }
   ],
   "source": [
    "# переделать с этими разными еднинцами измерения!!!!!\n",
    "train0.Mileage = train['Mileage'].apply(lambda x: float(x.split()[0])*1.4 if type(x) == str and x.endswith('km/kg') else float(x.split()[0]) if type(x) == str and x.endswith('kmpl') else 0 )\n",
    "\n",
    "train0.Power = train['Power'].apply(lambda x: float(x.split()[0]) if type(x) == str and x.split()[0]!= 'null' else 0)\n",
    "\n",
    "train0.Engine = train['Engine'].apply(lambda x: float(x.split()[0]) if type(x) == str else 0)\n",
    "\n",
    "train0.New_Price = train['New_Price'].apply(lambda x: float(x.split()[0]) if type(x) == str else 0)\n",
    "\n",
    "train0.Seats = train['Seats'].apply(lambda x: x if type(x) is not None else 0)\n",
    "\n",
    "train0.head()"
   ]
  },
  {
   "cell_type": "code",
   "execution_count": 11,
   "metadata": {},
   "outputs": [
    {
     "data": {
      "text/plain": [
       "count                       6019\n",
       "unique                      1876\n",
       "top       Mahindra XUV500 W8 2WD\n",
       "freq                          49\n",
       "Name: Name, dtype: object"
      ]
     },
     "execution_count": 11,
     "metadata": {},
     "output_type": "execute_result"
    }
   ],
   "source": [
    "train['Name'].describe() "
   ]
  },
  {
   "cell_type": "code",
   "execution_count": 124,
   "metadata": {},
   "outputs": [],
   "source": [
    "train0.Name = train.Name.apply(lambda x : x.split()[0])"
   ]
  },
  {
   "cell_type": "code",
   "execution_count": 13,
   "metadata": {},
   "outputs": [
    {
     "data": {
      "text/plain": [
       "<AxesSubplot:xlabel='Name'>"
      ]
     },
     "execution_count": 13,
     "metadata": {},
     "output_type": "execute_result"
    },
    {
     "data": {
      "image/png": "[encoded data removed]",
      "text/plain": [
       "<Figure size 432x288 with 1 Axes>"
      ]
     },
     "metadata": {
      "needs_background": "light"
     },
     "output_type": "display_data"
    }
   ],
   "source": [
    "train0.groupby(by ='Name').size().plot.bar()"
   ]
  },
  {
   "cell_type": "code",
   "execution_count": 125,
   "metadata": {},
   "outputs": [
    {
     "data": {
      "text/html": [
       "<div>\n",
       "<style scoped>\n",
       "    .dataframe tbody tr th:only-of-type {\n",
       "        vertical-align: middle;\n",
       "    }\n",
       "\n",
       "    .dataframe tbody tr th {\n",
       "        vertical-align: top;\n",
       "    }\n",
       "\n",
       "    .dataframe thead th {\n",
       "        text-align: right;\n",
       "    }\n",
       "</style>\n",
       "<table border=\"1\" class=\"dataframe\">\n",
       "  <thead>\n",
       "    <tr style=\"text-align: right;\">\n",
       "      <th></th>\n",
       "      <th>Year</th>\n",
       "      <th>Kilometers_Driven</th>\n",
       "      <th>Mileage</th>\n",
       "      <th>Engine</th>\n",
       "      <th>Power</th>\n",
       "      <th>Seats</th>\n",
       "      <th>New_Price</th>\n",
       "      <th>Price</th>\n",
       "      <th>Name_Ambassador</th>\n",
       "      <th>Name_Audi</th>\n",
       "      <th>...</th>\n",
       "      <th>Fuel_Type_Diesel</th>\n",
       "      <th>Fuel_Type_Electric</th>\n",
       "      <th>Fuel_Type_LPG</th>\n",
       "      <th>Fuel_Type_Petrol</th>\n",
       "      <th>Transmission_Automatic</th>\n",
       "      <th>Transmission_Manual</th>\n",
       "      <th>Owner_Type_First</th>\n",
       "      <th>Owner_Type_Fourth &amp; Above</th>\n",
       "      <th>Owner_Type_Second</th>\n",
       "      <th>Owner_Type_Third</th>\n",
       "    </tr>\n",
       "  </thead>\n",
       "  <tbody>\n",
       "    <tr>\n",
       "      <th>0</th>\n",
       "      <td>2010</td>\n",
       "      <td>72000</td>\n",
       "      <td>37.24</td>\n",
       "      <td>998.0</td>\n",
       "      <td>58.16</td>\n",
       "      <td>5.0</td>\n",
       "      <td>0.00</td>\n",
       "      <td>1.75</td>\n",
       "      <td>0</td>\n",
       "      <td>0</td>\n",
       "      <td>...</td>\n",
       "      <td>0</td>\n",
       "      <td>0</td>\n",
       "      <td>0</td>\n",
       "      <td>0</td>\n",
       "      <td>0</td>\n",
       "      <td>1</td>\n",
       "      <td>1</td>\n",
       "      <td>0</td>\n",
       "      <td>0</td>\n",
       "      <td>0</td>\n",
       "    </tr>\n",
       "    <tr>\n",
       "      <th>1</th>\n",
       "      <td>2015</td>\n",
       "      <td>41000</td>\n",
       "      <td>19.67</td>\n",
       "      <td>1582.0</td>\n",
       "      <td>126.20</td>\n",
       "      <td>5.0</td>\n",
       "      <td>0.00</td>\n",
       "      <td>12.50</td>\n",
       "      <td>0</td>\n",
       "      <td>0</td>\n",
       "      <td>...</td>\n",
       "      <td>1</td>\n",
       "      <td>0</td>\n",
       "      <td>0</td>\n",
       "      <td>0</td>\n",
       "      <td>0</td>\n",
       "      <td>1</td>\n",
       "      <td>1</td>\n",
       "      <td>0</td>\n",
       "      <td>0</td>\n",
       "      <td>0</td>\n",
       "    </tr>\n",
       "    <tr>\n",
       "      <th>2</th>\n",
       "      <td>2011</td>\n",
       "      <td>46000</td>\n",
       "      <td>18.20</td>\n",
       "      <td>1199.0</td>\n",
       "      <td>88.70</td>\n",
       "      <td>5.0</td>\n",
       "      <td>8.61</td>\n",
       "      <td>4.50</td>\n",
       "      <td>0</td>\n",
       "      <td>0</td>\n",
       "      <td>...</td>\n",
       "      <td>0</td>\n",
       "      <td>0</td>\n",
       "      <td>0</td>\n",
       "      <td>1</td>\n",
       "      <td>0</td>\n",
       "      <td>1</td>\n",
       "      <td>1</td>\n",
       "      <td>0</td>\n",
       "      <td>0</td>\n",
       "      <td>0</td>\n",
       "    </tr>\n",
       "    <tr>\n",
       "      <th>3</th>\n",
       "      <td>2012</td>\n",
       "      <td>87000</td>\n",
       "      <td>20.77</td>\n",
       "      <td>1248.0</td>\n",
       "      <td>88.76</td>\n",
       "      <td>7.0</td>\n",
       "      <td>0.00</td>\n",
       "      <td>6.00</td>\n",
       "      <td>0</td>\n",
       "      <td>0</td>\n",
       "      <td>...</td>\n",
       "      <td>1</td>\n",
       "      <td>0</td>\n",
       "      <td>0</td>\n",
       "      <td>0</td>\n",
       "      <td>0</td>\n",
       "      <td>1</td>\n",
       "      <td>1</td>\n",
       "      <td>0</td>\n",
       "      <td>0</td>\n",
       "      <td>0</td>\n",
       "    </tr>\n",
       "    <tr>\n",
       "      <th>4</th>\n",
       "      <td>2013</td>\n",
       "      <td>40670</td>\n",
       "      <td>15.20</td>\n",
       "      <td>1968.0</td>\n",
       "      <td>140.80</td>\n",
       "      <td>5.0</td>\n",
       "      <td>0.00</td>\n",
       "      <td>17.74</td>\n",
       "      <td>0</td>\n",
       "      <td>1</td>\n",
       "      <td>...</td>\n",
       "      <td>1</td>\n",
       "      <td>0</td>\n",
       "      <td>0</td>\n",
       "      <td>0</td>\n",
       "      <td>1</td>\n",
       "      <td>0</td>\n",
       "      <td>0</td>\n",
       "      <td>0</td>\n",
       "      <td>1</td>\n",
       "      <td>0</td>\n",
       "    </tr>\n",
       "  </tbody>\n",
       "</table>\n",
       "<p>5 rows × 61 columns</p>\n",
       "</div>"
      ],
      "text/plain": [
       "   Year  Kilometers_Driven  Mileage  Engine   Power  Seats  New_Price  Price  \\\n",
       "0  2010              72000    37.24   998.0   58.16    5.0       0.00   1.75   \n",
       "1  2015              41000    19.67  1582.0  126.20    5.0       0.00  12.50   \n",
       "2  2011              46000    18.20  1199.0   88.70    5.0       8.61   4.50   \n",
       "3  2012              87000    20.77  1248.0   88.76    7.0       0.00   6.00   \n",
       "4  2013              40670    15.20  1968.0  140.80    5.0       0.00  17.74   \n",
       "\n",
       "   Name_Ambassador  Name_Audi  ...  Fuel_Type_Diesel  Fuel_Type_Electric  \\\n",
       "0                0          0  ...                 0                   0   \n",
       "1                0          0  ...                 1                   0   \n",
       "2                0          0  ...                 0                   0   \n",
       "3                0          0  ...                 1                   0   \n",
       "4                0          1  ...                 1                   0   \n",
       "\n",
       "   Fuel_Type_LPG  Fuel_Type_Petrol  Transmission_Automatic  \\\n",
       "0              0                 0                       0   \n",
       "1              0                 0                       0   \n",
       "2              0                 1                       0   \n",
       "3              0                 0                       0   \n",
       "4              0                 0                       1   \n",
       "\n",
       "   Transmission_Manual  Owner_Type_First  Owner_Type_Fourth & Above  \\\n",
       "0                    1                 1                          0   \n",
       "1                    1                 1                          0   \n",
       "2                    1                 1                          0   \n",
       "3                    1                 1                          0   \n",
       "4                    0                 0                          0   \n",
       "\n",
       "   Owner_Type_Second  Owner_Type_Third  \n",
       "0                  0                 0  \n",
       "1                  0                 0  \n",
       "2                  0                 0  \n",
       "3                  0                 0  \n",
       "4                  1                 0  \n",
       "\n",
       "[5 rows x 61 columns]"
      ]
     },
     "execution_count": 125,
     "metadata": {},
     "output_type": "execute_result"
    }
   ],
   "source": [
    "train1 = pd.get_dummies(train0)\n",
    "train1.head()"
   ]
  },
  {
   "cell_type": "code",
   "execution_count": 126,
   "metadata": {},
   "outputs": [],
   "source": [
    "train1.Seats = train['Seats'].fillna(0)"
   ]
  },
  {
   "cell_type": "code",
   "execution_count": 160,
   "metadata": {},
   "outputs": [],
   "source": [
    "X = train1.drop(['Price'],axis = 1)\n",
    "scaler = StandardScaler()\n",
    "X = scaler.fit_transform(X)"
   ]
  },
  {
   "cell_type": "markdown",
   "metadata": {},
   "source": [
    "# Задание 1.3 Анализ целевой переменной"
   ]
  },
  {
   "cell_type": "markdown",
   "metadata": {},
   "source": [
    "\n",
    "\n",
    "**Проанализируйте целевую переменную в этом датасете**. Является ли она смещенной (skewed)? Для ответа на этот вопрос нарисуйте гистограмму с удачным количеством бинов.\n",
    "\n",
    "Если она смещена, то опробуйте на ней np.log1p и PowerTransformer. Нарисуйте гистограммы преобразованных целевых переменных. Сделайте выводы.\n",
    "\n",
    "Подготовьте целевые переменные и отделите ее от признаков. Для дальнейшей работы вам понадобится 2 варианта y:\n",
    "1. Оригинанальный **y** без каких-либо изменений;\n",
    "2. Y, который преобразован с помощью PowerTransformer. Назовем ее y_transformed. Кроме нее нам понадобится объект класса PowerTransformer, у которого вы вызывали fit_predict."
   ]
  },
  {
   "cell_type": "code",
   "execution_count": 17,
   "metadata": {},
   "outputs": [
    {
     "data": {
      "text/plain": [
       "<AxesSubplot:>"
      ]
     },
     "execution_count": 17,
     "metadata": {},
     "output_type": "execute_result"
    },
    {
     "data": {
      "image/png": "[encoded data removed]",
      "text/plain": [
       "<Figure size 432x288 with 1 Axes>"
      ]
     },
     "metadata": {
      "needs_background": "light"
     },
     "output_type": "display_data"
    }
   ],
   "source": [
    "train1.Price.hist(bins=5)"
   ]
  },
  {
   "cell_type": "code",
   "execution_count": 18,
   "metadata": {},
   "outputs": [
    {
     "data": {
      "text/plain": [
       "<AxesSubplot:>"
      ]
     },
     "execution_count": 18,
     "metadata": {},
     "output_type": "execute_result"
    },
    {
     "data": {
      "image/png": "[encoded data removed]",
      "text/plain": [
       "<Figure size 432x288 with 1 Axes>"
      ]
     },
     "metadata": {
      "needs_background": "light"
     },
     "output_type": "display_data"
    }
   ],
   "source": [
    "np.log1p(train1.Price).hist()"
   ]
  },
  {
   "cell_type": "code",
   "execution_count": 128,
   "metadata": {},
   "outputs": [
    {
     "data": {
      "text/plain": [
       "<AxesSubplot:>"
      ]
     },
     "execution_count": 128,
     "metadata": {},
     "output_type": "execute_result"
    },
    {
     "data": {
      "image/png": "[encoded data removed]",
      "text/plain": [
       "<Figure size 432x288 with 1 Axes>"
      ]
     },
     "metadata": {
      "needs_background": "light"
     },
     "output_type": "display_data"
    }
   ],
   "source": [
    "y = np.array(train1.Price).reshape(-1, 1)\n",
    "pt = PowerTransformer()\n",
    "y_transformed = pt.fit_transform(np.array(train1.Price).reshape(-1, 1)).flatten()\n",
    "pd.Series(pt.fit_transform(np.array(train1.Price).reshape(-1, 1)).flatten()).hist()"
   ]
  },
  {
   "cell_type": "code",
   "execution_count": 20,
   "metadata": {},
   "outputs": [],
   "source": [
    "#pt.fit_predict()?????"
   ]
  },
  {
   "cell_type": "markdown",
   "metadata": {},
   "source": [
    "# Часть 2. Регрессия с помощью решающих деревьев"
   ]
  },
  {
   "cell_type": "markdown",
   "metadata": {},
   "source": [
    "# Задание 2.1 Обучение решающих деревьев и кросс-валидация"
   ]
  },
  {
   "cell_type": "markdown",
   "metadata": {},
   "source": [
    "ВНИМАНИЕ! В этот раз мы больше не разделяем данные с помощью train_test_split, а используем cross_val_score или cross_val_predict. Примеры использования тут https://scikit-learn.org/stable/modules/cross_validation.html#computing-cross-validated-metrics. Вам нужно явно указать mse в качестве метрики, если используете score и явно вычислять mean_squared_error в случае predict.\n",
    "\n",
    "Проведите над этими данными следующие операции (не забывайте ВЕЗДЕ фиксировать random_state для воспроизводимости экспериментов. Без этого оценка за лабу **будет гореть**):\n",
    "1. Обучить решающее дерево без каких либо ограничений\n",
    "2. Обучить решающее дерево с ограничением глубины. Перебрать глубинут от 2 до 10 и нарисовать график изменения MSE в зависимости от глубины. Выбрать лучшую глубину\n",
    "3. Обучить решающее дерево с зафиксированным ограничением глубины с прошлого пункта и изменением минимального числа примеров для разделения от 2 до 150 с шагом 5. Построить аналогичный график и выбрать лучшее значение\n",
    "\n",
    "В каждом эксперименте вам нужно использовать cross_val_score/cross_val_predict с выбранным выше методом разбиения на фолды, чтобы измерить mean_squared_error. В качестве финального скора используйте среднее значение по всем фолдам. Также для каждого эксперимента оцените дисперсию оценки качества и сделайте выводы.\n",
    "\n",
    "Наконец, подумайте, есть ли еще параметры, значения которых стоит перебирать в этой задаче? Если ответ - \"да\", то проведите соответствующие эксперименты. Если ответ - \"нет\", то будьте готовы пояснить, почему.\n"
   ]
  },
  {
   "cell_type": "code",
   "execution_count": 21,
   "metadata": {},
   "outputs": [],
   "source": [
    "from sklearn.metrics import make_scorer"
   ]
  },
  {
   "cell_type": "code",
   "execution_count": 22,
   "metadata": {},
   "outputs": [
    {
     "data": {
      "text/plain": [
       "[<matplotlib.lines.Line2D at 0x7f96b6447100>]"
      ]
     },
     "execution_count": 22,
     "metadata": {},
     "output_type": "execute_result"
    },
    {
     "data": {
      "image/png": "[encoded data removed]",
      "text/plain": [
       "<Figure size 432x288 with 1 Axes>"
      ]
     },
     "metadata": {
      "needs_background": "light"
     },
     "output_type": "display_data"
    }
   ],
   "source": [
    "regressor1 = DecisionTreeRegressor(random_state = 0)\n",
    "plt.plot(cross_val_score(regressor1,X,y_transformed,scoring = make_scorer(mean_squared_error)))"
   ]
  },
  {
   "cell_type": "code",
   "execution_count": 23,
   "metadata": {},
   "outputs": [
    {
     "data": {
      "text/plain": [
       "[<matplotlib.lines.Line2D at 0x7f96b66a4760>]"
      ]
     },
     "execution_count": 23,
     "metadata": {},
     "output_type": "execute_result"
    },
    {
     "data": {
      "image/png": "[encoded data removed]",
      "text/plain": [
       "<Figure size 432x288 with 1 Axes>"
      ]
     },
     "metadata": {
      "needs_background": "light"
     },
     "output_type": "display_data"
    }
   ],
   "source": [
    "plt.figure()\n",
    "ax = []\n",
    "for i in range(2,11):\n",
    "    regressor2 = DecisionTreeRegressor(random_state = 0,max_depth = i)\n",
    "    ax.append(np.mean(cross_val_score(regressor2,X,y_transformed,scoring = make_scorer(mean_squared_error))))\n",
    "plt.plot(range(2,11),ax)"
   ]
  },
  {
   "cell_type": "code",
   "execution_count": 24,
   "metadata": {},
   "outputs": [
    {
     "data": {
      "image/png": "[encoded data removed]",
      "text/plain": [
       "<Figure size 720x720 with 9 Axes>"
      ]
     },
     "metadata": {
      "needs_background": "light"
     },
     "output_type": "display_data"
    }
   ],
   "source": [
    "fig, axs = plt.subplots(3, 3,figsize=(10,10))\n",
    "for i in range(2,11):\n",
    "    regressor2 = DecisionTreeRegressor(random_state = 0,max_depth = i)\n",
    "    axs[(i-2)//3,(i-2)%3].plot(cross_val_score(regressor2,X,y_transformed,scoring = make_scorer(mean_squared_error)))\n",
    "    axs[(i-2)//3,(i-2)%3].set_title('Depth = '+ str(i))"
   ]
  },
  {
   "cell_type": "code",
   "execution_count": 25,
   "metadata": {},
   "outputs": [
    {
     "data": {
      "text/plain": [
       "[<matplotlib.lines.Line2D at 0x7f96b6714f10>]"
      ]
     },
     "execution_count": 25,
     "metadata": {},
     "output_type": "execute_result"
    },
    {
     "data": {
      "image/png": "[encoded data removed]",
      "text/plain": [
       "<Figure size 432x288 with 1 Axes>"
      ]
     },
     "metadata": {
      "needs_background": "light"
     },
     "output_type": "display_data"
    }
   ],
   "source": [
    "# переделать \n",
    "plt.figure()\n",
    "ax = []\n",
    "for i in range(2,151,5):\n",
    "    regressor3 = DecisionTreeRegressor(random_state = 0,max_depth = 9,min_samples_split= i)\n",
    "    ax.append(np.mean(cross_val_score(regressor3,X,y_transformed,scoring = make_scorer(mean_squared_error))))\n",
    "plt.plot(range(2,151,5),ax)"
   ]
  },
  {
   "cell_type": "code",
   "execution_count": null,
   "metadata": {},
   "outputs": [],
   "source": []
  },
  {
   "cell_type": "markdown",
   "metadata": {},
   "source": [
    "# Задание 2.2 Визуализация решающих деревев"
   ]
  },
  {
   "cell_type": "markdown",
   "metadata": {},
   "source": [
    "Дополнительно ознакомьтесь с возможностью визуализации решающих деревьев и объяснении их работы\n",
    "\n",
    "Обучите дерево без использования признака Location и признаков на основе Name (иначе будет очень громоздкая картинка), с ограничением глубины 5-6 и нарисуйте его с помощью библиотеки eli5.\n",
    "\n",
    "Для отрисовки используйте функцию explain_decision_tree. Будьте готовы устно описать то, что происходит на полученной картинке. Если ваше лучшее дерево получилось слишком большим, то ограничьте его глубину до 4, чтобы на рисунок было удобно рассматривать.\n",
    "\n",
    "Для установки используйте команду **conda install -y -c conda-forge eli5** или установите ее через графический интерфейс.\n",
    "\n",
    "Либо используйте для отрисовки метод из самой библиотеки scikit-learn: https://scikit-learn.org/stable/modules/generated/sklearn.tree.plot_tree.html#sklearn.tree.plot_tree"
   ]
  },
  {
   "cell_type": "code",
   "execution_count": 26,
   "metadata": {},
   "outputs": [],
   "source": [
    "from sklearn.tree import plot_tree"
   ]
  },
  {
   "cell_type": "code",
   "execution_count": 27,
   "metadata": {},
   "outputs": [
    {
     "data": {
      "image/png": "[encoded data removed]",
      "text/plain": [
       "<Figure size 1440x1440 with 1 Axes>"
      ]
     },
     "metadata": {
      "needs_background": "light"
     },
     "output_type": "display_data"
    }
   ],
   "source": [
    "X2 = pd.get_dummies(train0.drop(['Location','Name','Price'],axis = 1).fillna(0))\n",
    "regressor4 = DecisionTreeRegressor(random_state = 0,max_depth = 4)\n",
    "regressor4.fit(X2,y_transformed)\n",
    "plt.figure(figsize=(20,20))\n",
    "plot_tree(regressor4)\n",
    "plt.show()"
   ]
  },
  {
   "cell_type": "code",
   "execution_count": 28,
   "metadata": {},
   "outputs": [
    {
     "data": {
      "text/html": [
       "\n",
       "    <style>\n",
       "    table.eli5-weights tr:hover {\n",
       "        filter: brightness(85%);\n",
       "    }\n",
       "</style>\n",
       "\n",
       "\n",
       "\n",
       "    \n",
       "\n",
       "    \n",
       "\n",
       "    \n",
       "\n",
       "    \n",
       "\n",
       "    \n",
       "\n",
       "    \n",
       "\n",
       "\n",
       "    \n",
       "\n",
       "    \n",
       "\n",
       "    \n",
       "\n",
       "    \n",
       "\n",
       "    \n",
       "\n",
       "    \n",
       "\n",
       "\n",
       "    \n",
       "\n",
       "    \n",
       "\n",
       "    \n",
       "\n",
       "    \n",
       "\n",
       "    \n",
       "        <table class=\"eli5-weights eli5-feature-importances\" style=\"border-collapse: collapse; border: none; margin-top: 0em; table-layout: auto;\">\n",
       "    <thead>\n",
       "    <tr style=\"border: none;\">\n",
       "        <th style=\"padding: 0 1em 0 0.5em; text-align: right; border: none;\">Weight</th>\n",
       "        <th style=\"padding: 0 0.5em 0 0.5em; text-align: left; border: none;\">Feature</th>\n",
       "    </tr>\n",
       "    </thead>\n",
       "    <tbody>\n",
       "    \n",
       "        <tr style=\"background-color: hsl(120, 100.00%, 80.00%); border: none;\">\n",
       "            <td style=\"padding: 0 1em 0 0.5em; text-align: right; border: none;\">\n",
       "                0.7212\n",
       "                \n",
       "            </td>\n",
       "            <td style=\"padding: 0 0.5em 0 0.5em; text-align: left; border: none;\">\n",
       "                x4\n",
       "            </td>\n",
       "        </tr>\n",
       "    \n",
       "        <tr style=\"background-color: hsl(120, 100.00%, 89.87%); border: none;\">\n",
       "            <td style=\"padding: 0 1em 0 0.5em; text-align: right; border: none;\">\n",
       "                0.2727\n",
       "                \n",
       "            </td>\n",
       "            <td style=\"padding: 0 0.5em 0 0.5em; text-align: left; border: none;\">\n",
       "                x0\n",
       "            </td>\n",
       "        </tr>\n",
       "    \n",
       "        <tr style=\"background-color: hsl(120, 100.00%, 99.29%); border: none;\">\n",
       "            <td style=\"padding: 0 1em 0 0.5em; text-align: right; border: none;\">\n",
       "                0.0061\n",
       "                \n",
       "            </td>\n",
       "            <td style=\"padding: 0 0.5em 0 0.5em; text-align: left; border: none;\">\n",
       "                x3\n",
       "            </td>\n",
       "        </tr>\n",
       "    \n",
       "        <tr style=\"background-color: hsl(0, 100.00%, 100.00%); border: none;\">\n",
       "            <td style=\"padding: 0 1em 0 0.5em; text-align: right; border: none;\">\n",
       "                0\n",
       "                \n",
       "            </td>\n",
       "            <td style=\"padding: 0 0.5em 0 0.5em; text-align: left; border: none;\">\n",
       "                x16\n",
       "            </td>\n",
       "        </tr>\n",
       "    \n",
       "        <tr style=\"background-color: hsl(0, 100.00%, 100.00%); border: none;\">\n",
       "            <td style=\"padding: 0 1em 0 0.5em; text-align: right; border: none;\">\n",
       "                0\n",
       "                \n",
       "            </td>\n",
       "            <td style=\"padding: 0 0.5em 0 0.5em; text-align: left; border: none;\">\n",
       "                x1\n",
       "            </td>\n",
       "        </tr>\n",
       "    \n",
       "        <tr style=\"background-color: hsl(0, 100.00%, 100.00%); border: none;\">\n",
       "            <td style=\"padding: 0 1em 0 0.5em; text-align: right; border: none;\">\n",
       "                0\n",
       "                \n",
       "            </td>\n",
       "            <td style=\"padding: 0 0.5em 0 0.5em; text-align: left; border: none;\">\n",
       "                x2\n",
       "            </td>\n",
       "        </tr>\n",
       "    \n",
       "        <tr style=\"background-color: hsl(0, 100.00%, 100.00%); border: none;\">\n",
       "            <td style=\"padding: 0 1em 0 0.5em; text-align: right; border: none;\">\n",
       "                0\n",
       "                \n",
       "            </td>\n",
       "            <td style=\"padding: 0 0.5em 0 0.5em; text-align: left; border: none;\">\n",
       "                x5\n",
       "            </td>\n",
       "        </tr>\n",
       "    \n",
       "        <tr style=\"background-color: hsl(0, 100.00%, 100.00%); border: none;\">\n",
       "            <td style=\"padding: 0 1em 0 0.5em; text-align: right; border: none;\">\n",
       "                0\n",
       "                \n",
       "            </td>\n",
       "            <td style=\"padding: 0 0.5em 0 0.5em; text-align: left; border: none;\">\n",
       "                x6\n",
       "            </td>\n",
       "        </tr>\n",
       "    \n",
       "        <tr style=\"background-color: hsl(0, 100.00%, 100.00%); border: none;\">\n",
       "            <td style=\"padding: 0 1em 0 0.5em; text-align: right; border: none;\">\n",
       "                0\n",
       "                \n",
       "            </td>\n",
       "            <td style=\"padding: 0 0.5em 0 0.5em; text-align: left; border: none;\">\n",
       "                x7\n",
       "            </td>\n",
       "        </tr>\n",
       "    \n",
       "        <tr style=\"background-color: hsl(0, 100.00%, 100.00%); border: none;\">\n",
       "            <td style=\"padding: 0 1em 0 0.5em; text-align: right; border: none;\">\n",
       "                0\n",
       "                \n",
       "            </td>\n",
       "            <td style=\"padding: 0 0.5em 0 0.5em; text-align: left; border: none;\">\n",
       "                x17\n",
       "            </td>\n",
       "        </tr>\n",
       "    \n",
       "        <tr style=\"background-color: hsl(0, 100.00%, 100.00%); border: none;\">\n",
       "            <td style=\"padding: 0 1em 0 0.5em; text-align: right; border: none;\">\n",
       "                0\n",
       "                \n",
       "            </td>\n",
       "            <td style=\"padding: 0 0.5em 0 0.5em; text-align: left; border: none;\">\n",
       "                x9\n",
       "            </td>\n",
       "        </tr>\n",
       "    \n",
       "        <tr style=\"background-color: hsl(0, 100.00%, 100.00%); border: none;\">\n",
       "            <td style=\"padding: 0 1em 0 0.5em; text-align: right; border: none;\">\n",
       "                0\n",
       "                \n",
       "            </td>\n",
       "            <td style=\"padding: 0 0.5em 0 0.5em; text-align: left; border: none;\">\n",
       "                x10\n",
       "            </td>\n",
       "        </tr>\n",
       "    \n",
       "        <tr style=\"background-color: hsl(0, 100.00%, 100.00%); border: none;\">\n",
       "            <td style=\"padding: 0 1em 0 0.5em; text-align: right; border: none;\">\n",
       "                0\n",
       "                \n",
       "            </td>\n",
       "            <td style=\"padding: 0 0.5em 0 0.5em; text-align: left; border: none;\">\n",
       "                x11\n",
       "            </td>\n",
       "        </tr>\n",
       "    \n",
       "        <tr style=\"background-color: hsl(0, 100.00%, 100.00%); border: none;\">\n",
       "            <td style=\"padding: 0 1em 0 0.5em; text-align: right; border: none;\">\n",
       "                0\n",
       "                \n",
       "            </td>\n",
       "            <td style=\"padding: 0 0.5em 0 0.5em; text-align: left; border: none;\">\n",
       "                x12\n",
       "            </td>\n",
       "        </tr>\n",
       "    \n",
       "        <tr style=\"background-color: hsl(0, 100.00%, 100.00%); border: none;\">\n",
       "            <td style=\"padding: 0 1em 0 0.5em; text-align: right; border: none;\">\n",
       "                0\n",
       "                \n",
       "            </td>\n",
       "            <td style=\"padding: 0 0.5em 0 0.5em; text-align: left; border: none;\">\n",
       "                x13\n",
       "            </td>\n",
       "        </tr>\n",
       "    \n",
       "        <tr style=\"background-color: hsl(0, 100.00%, 100.00%); border: none;\">\n",
       "            <td style=\"padding: 0 1em 0 0.5em; text-align: right; border: none;\">\n",
       "                0\n",
       "                \n",
       "            </td>\n",
       "            <td style=\"padding: 0 0.5em 0 0.5em; text-align: left; border: none;\">\n",
       "                x14\n",
       "            </td>\n",
       "        </tr>\n",
       "    \n",
       "        <tr style=\"background-color: hsl(0, 100.00%, 100.00%); border: none;\">\n",
       "            <td style=\"padding: 0 1em 0 0.5em; text-align: right; border: none;\">\n",
       "                0\n",
       "                \n",
       "            </td>\n",
       "            <td style=\"padding: 0 0.5em 0 0.5em; text-align: left; border: none;\">\n",
       "                x15\n",
       "            </td>\n",
       "        </tr>\n",
       "    \n",
       "        <tr style=\"background-color: hsl(0, 100.00%, 100.00%); border: none;\">\n",
       "            <td style=\"padding: 0 1em 0 0.5em; text-align: right; border: none;\">\n",
       "                0\n",
       "                \n",
       "            </td>\n",
       "            <td style=\"padding: 0 0.5em 0 0.5em; text-align: left; border: none;\">\n",
       "                x8\n",
       "            </td>\n",
       "        </tr>\n",
       "    \n",
       "    \n",
       "    </tbody>\n",
       "</table>\n",
       "    \n",
       "\n",
       "    \n",
       "\n",
       "\n",
       "    \n",
       "\n",
       "    \n",
       "\n",
       "    \n",
       "\n",
       "    \n",
       "\n",
       "    \n",
       "\n",
       "    \n",
       "        \n",
       "        <br>\n",
       "        <pre>x4 <= 135.550  (73.8%)\n",
       "    x0 <= 2011.500  (18.8%)\n",
       "        x4 <= 100.300  (13.6%)\n",
       "            x0 <= 2007.500  (4.0%)  ---> -1.886558250246776\n",
       "            x0 > 2007.500  (9.6%)  ---> -1.1677309157131355\n",
       "        x4 > 100.300  (5.2%)\n",
       "            x3 <= 1997.500  (3.8%)  ---> -0.7893667870600507\n",
       "            x3 > 1997.500  (1.4%)  ---> -0.10636709044394407\n",
       "    x0 > 2011.500  (55.1%)\n",
       "        x4 <= 87.000  (30.1%)\n",
       "            x4 <= 69.505  (10.2%)  ---> -0.7394837033614325\n",
       "            x4 > 69.505  (20.0%)  ---> -0.26310877533357513\n",
       "        x4 > 87.000  (24.9%)\n",
       "            x0 <= 2015.500  (15.3%)  ---> 0.0262402184146392\n",
       "            x0 > 2015.500  (9.7%)  ---> 0.49610363386125994\n",
       "x4 > 135.550  (26.2%)\n",
       "    x0 <= 2012.500  (9.0%)\n",
       "        x4 <= 164.850  (3.2%)\n",
       "            x0 <= 2009.500  (1.0%)  ---> -0.4101725387725998\n",
       "            x0 > 2009.500  (2.3%)  ---> 0.2648160226931612\n",
       "        x4 > 164.850  (5.7%)\n",
       "            x4 <= 233.050  (4.2%)  ---> 0.7351524990253071\n",
       "            x4 > 233.050  (1.5%)  ---> 1.3398492848685364\n",
       "    x0 > 2012.500  (17.2%)\n",
       "        x4 <= 164.350  (5.1%)\n",
       "            x0 <= 2015.500  (2.9%)  ---> 0.7173258680532935\n",
       "            x0 > 2015.500  (2.2%)  ---> 1.2051747931405543\n",
       "        x4 > 164.350  (12.1%)\n",
       "            x4 <= 221.000  (9.6%)  ---> 1.4916227368094432\n",
       "            x4 > 221.000  (2.5%)  ---> 2.001756379843984</pre>\n",
       "    \n",
       "\n",
       "\n",
       "\n"
      ],
      "text/plain": [
       "Explanation(estimator='DecisionTreeRegressor(max_depth=4, random_state=0)', description='\\nDecision tree feature importances; values are numbers 0 <= x <= 1;\\nall values sum to 1.\\n', error=None, method='decision tree', is_regression=False, targets=None, feature_importances=FeatureImportances(importances=[FeatureWeight(feature='x4', weight=0.7211843783278953, std=None, value=None), FeatureWeight(feature='x0', weight=0.2727474138374611, std=None, value=None), FeatureWeight(feature='x3', weight=0.006068207834643598, std=None, value=None), FeatureWeight(feature='x16', weight=0.0, std=None, value=None), FeatureWeight(feature='x1', weight=0.0, std=None, value=None), FeatureWeight(feature='x2', weight=0.0, std=None, value=None), FeatureWeight(feature='x5', weight=0.0, std=None, value=None), FeatureWeight(feature='x6', weight=0.0, std=None, value=None), FeatureWeight(feature='x7', weight=0.0, std=None, value=None), FeatureWeight(feature='x17', weight=0.0, std=None, value=None), FeatureWeight(feature='x9', weight=0.0, std=None, value=None), FeatureWeight(feature='x10', weight=0.0, std=None, value=None), FeatureWeight(feature='x11', weight=0.0, std=None, value=None), FeatureWeight(feature='x12', weight=0.0, std=None, value=None), FeatureWeight(feature='x13', weight=0.0, std=None, value=None), FeatureWeight(feature='x14', weight=0.0, std=None, value=None), FeatureWeight(feature='x15', weight=0.0, std=None, value=None), FeatureWeight(feature='x8', weight=0.0, std=None, value=None)], remaining=0), decision_tree=TreeInfo(criterion='mse', tree=NodeInfo(id=0, is_leaf=False, value=[6.62592315842912e-16], value_ratio=[1.0], impurity=0.9999999999999967, samples=6019, sample_ratio=1.0, feature_name='x4', feature_id=4, threshold=135.5500030517578, left=NodeInfo(id=1, is_leaf=False, value=[-0.39778083647718643], value_ratio=[1.0], impurity=0.5706886637450959, samples=4445, sample_ratio=0.7384947665725203, feature_name='x0', feature_id=0, threshold=2011.5, left=NodeInfo(id=2, is_leaf=False, value=[-1.162042794430723], value_ratio=[1.0], impurity=0.5219728037777138, samples=1130, sample_ratio=0.18773882704768233, feature_name='x4', feature_id=4, threshold=100.29999923706055, left=NodeInfo(id=3, is_leaf=False, value=[-1.3782698041365968], value_ratio=[1.0], impurity=0.43442501468759276, samples=816, sample_ratio=0.13557069280611397, feature_name='x0', feature_id=0, threshold=2007.5, left=NodeInfo(id=4, is_leaf=True, value=[-1.886558250246776], value_ratio=[1.0], impurity=0.34715700951444006, samples=239, sample_ratio=0.039707592623359364, feature_name=None, feature_id=None, threshold=None, left=None, right=None), right=NodeInfo(id=5, is_leaf=True, value=[-1.1677309157131355], value_ratio=[1.0], impurity=0.31923131266209603, samples=577, sample_ratio=0.09586310018275461, feature_name=None, feature_id=None, threshold=None, left=None, right=None)), right=NodeInfo(id=6, is_leaf=False, value=[-0.6001280176154606], value_ratio=[1.0], impurity=0.31223616126239323, samples=314, sample_ratio=0.05216813424156837, feature_name='x3', feature_id=3, threshold=1997.5, left=NodeInfo(id=7, is_leaf=True, value=[-0.7893667870600507], value_ratio=[1.0], impurity=0.2221879981571253, samples=227, sample_ratio=0.03771390596444592, feature_name=None, feature_id=None, threshold=None, left=None, right=None), right=NodeInfo(id=8, is_leaf=True, value=[-0.10636709044394407], value_ratio=[1.0], impurity=0.20995085096308777, samples=87, sample_ratio=0.014454228277122446, feature_name=None, feature_id=None, threshold=None, left=None, right=None))), right=NodeInfo(id=9, is_leaf=False, value=[-0.13726318565139417], value_ratio=[1.0], impurity=0.32032149703337126, samples=3315, sample_ratio=0.550755939524838, feature_name='x4', feature_id=4, threshold=87.0, left=NodeInfo(id=10, is_leaf=False, value=[-0.4235636160309421], value_ratio=[1.0], impurity=0.22492101351513114, samples=1814, sample_ratio=0.3013789666057485, feature_name='x4', feature_id=4, threshold=69.50500106811523, left=NodeInfo(id=11, is_leaf=True, value=[-0.7394837033614325], value_ratio=[1.0], impurity=0.21605497887519354, samples=611, sample_ratio=0.10151187904967603, feature_name=None, feature_id=None, threshold=None, left=None, right=None), right=NodeInfo(id=12, is_leaf=True, value=[-0.26310877533357513], value_ratio=[1.0], impurity=0.15298738205105444, samples=1203, sample_ratio=0.19986708755607244, feature_name=None, feature_id=None, threshold=None, left=None, right=None)), right=NodeInfo(id=13, is_leaf=False, value=[0.20873880016372628], value_ratio=[1.0], impurity=0.2168377273810386, samples=1501, sample_ratio=0.24937697291908956, feature_name='x0', feature_id=0, threshold=2015.5, left=NodeInfo(id=14, is_leaf=True, value=[0.0262402184146392], value_ratio=[1.0], impurity=0.19786783217614703, samples=918, sample_ratio=0.15251702940687822, feature_name=None, feature_id=None, threshold=None, left=None, right=None), right=NodeInfo(id=15, is_leaf=True, value=[0.49610363386125994], value_ratio=[1.0], impurity=0.11168576894528529, samples=583, sample_ratio=0.09685994351221133, feature_name=None, feature_id=None, threshold=None, left=None, right=None)))), right=NodeInfo(id=16, is_leaf=False, value=[1.1233391474848082], value_ratio=[1.0], impurity=0.5036481336211192, samples=1574, sample_ratio=0.26150523342747967, feature_name='x0', feature_id=0, threshold=2012.5, left=NodeInfo(id=17, is_leaf=False, value=[0.593724531373709], value_ratio=[1.0], impurity=0.5198602757034498, samples=541, sample_ratio=0.08988204020601429, feature_name='x4', feature_id=4, threshold=164.8499984741211, left=NodeInfo(id=18, is_leaf=False, value=[0.06058871435223861], value_ratio=[1.0], impurity=0.3785855729175051, samples=195, sample_ratio=0.032397408207343416, feature_name='x0', feature_id=0, threshold=2009.5, left=NodeInfo(id=19, is_leaf=True, value=[-0.4101725387725998], value_ratio=[1.0], impurity=0.3273705727434896, samples=59, sample_ratio=0.00980229273965775, feature_name=None, feature_id=None, threshold=None, left=None, right=None), right=NodeInfo(id=20, is_leaf=True, value=[0.2648160226931612], value_ratio=[1.0], impurity=0.262952747982757, samples=136, sample_ratio=0.022595115467685663, feature_name=None, feature_id=None, threshold=None, left=None, right=None)), right=NodeInfo(id=21, is_leaf=False, value=[0.8941912490592191], value_ratio=[1.0], impurity=0.3490105942088979, samples=346, sample_ratio=0.057484631998670876, feature_name='x4', feature_id=4, threshold=233.0500030517578, left=NodeInfo(id=22, is_leaf=True, value=[0.7351524990253071], value_ratio=[1.0], impurity=0.2738900409944043, samples=255, sample_ratio=0.04236584150191062, feature_name=None, feature_id=None, threshold=None, left=None, right=None), right=NodeInfo(id=23, is_leaf=True, value=[1.3398492848685364], value_ratio=[1.0], impurity=0.290025261487334, samples=91, sample_ratio=0.01511879049676026, feature_name=None, feature_id=None, threshold=None, left=None, right=None))), right=NodeInfo(id=24, is_leaf=False, value=[1.4007074991944943], value_ratio=[1.0], impurity=0.27132601824363367, samples=1033, sample_ratio=0.17162319322146535, feature_name='x4', feature_id=4, threshold=164.3499984741211, left=NodeInfo(id=25, is_leaf=False, value=[0.9259454741761353], value_ratio=[1.0], impurity=0.21336261583053018, samples=304, sample_ratio=0.050506728692473836, feature_name='x0', feature_id=0, threshold=2015.5, left=NodeInfo(id=26, is_leaf=True, value=[0.7173258680532935], value_ratio=[1.0], impurity=0.17649179211991906, samples=174, sample_ratio=0.028908456554244892, feature_name=None, feature_id=None, threshold=None, left=None, right=None), right=NodeInfo(id=27, is_leaf=True, value=[1.2051747931405543], value_ratio=[1.0], impurity=0.12649107214893784, samples=130, sample_ratio=0.02159827213822894, feature_name=None, feature_id=None, threshold=None, left=None, right=None)), right=NodeInfo(id=28, is_leaf=False, value=[1.598687822384593], value_ratio=[1.0], impurity=0.16230756610379826, samples=729, sample_ratio=0.12111646452899152, feature_name='x4', feature_id=4, threshold=221.0, left=NodeInfo(id=29, is_leaf=True, value=[1.4916227368094432], value_ratio=[1.0], impurity=0.11625347545458231, samples=576, sample_ratio=0.09569695962784516, feature_name=None, feature_id=None, threshold=None, left=None, right=None), right=NodeInfo(id=30, is_leaf=True, value=[2.001756379843984], value_ratio=[1.0], impurity=0.1300688404678576, samples=153, sample_ratio=0.02541950490114637, feature_name=None, feature_id=None, threshold=None, left=None, right=None))))), graphviz='digraph Tree {\\nnode [shape=box] ;\\n0 [label=\"x4 <= 135.55\\\\nmse = 1.0\\\\nsamples = 100.0%\\\\nvalue = 0.0\"] ;\\n1 [label=\"x0 <= 2011.5\\\\nmse = 0.571\\\\nsamples = 73.8%\\\\nvalue = -0.398\"] ;\\n0 -> 1 [labeldistance=2.5, labelangle=45, headlabel=\"True\"] ;\\n2 [label=\"x4 <= 100.3\\\\nmse = 0.522\\\\nsamples = 18.8%\\\\nvalue = -1.162\"] ;\\n1 -> 2 ;\\n3 [label=\"x0 <= 2007.5\\\\nmse = 0.434\\\\nsamples = 13.6%\\\\nvalue = -1.378\"] ;\\n2 -> 3 ;\\n4 [label=\"mse = 0.347\\\\nsamples = 4.0%\\\\nvalue = -1.887\"] ;\\n3 -> 4 ;\\n5 [label=\"mse = 0.319\\\\nsamples = 9.6%\\\\nvalue = -1.168\"] ;\\n3 -> 5 ;\\n6 [label=\"x3 <= 1997.5\\\\nmse = 0.312\\\\nsamples = 5.2%\\\\nvalue = -0.6\"] ;\\n2 -> 6 ;\\n7 [label=\"mse = 0.222\\\\nsamples = 3.8%\\\\nvalue = -0.789\"] ;\\n6 -> 7 ;\\n8 [label=\"mse = 0.21\\\\nsamples = 1.4%\\\\nvalue = -0.106\"] ;\\n6 -> 8 ;\\n9 [label=\"x4 <= 87.0\\\\nmse = 0.32\\\\nsamples = 55.1%\\\\nvalue = -0.137\"] ;\\n1 -> 9 ;\\n10 [label=\"x4 <= 69.505\\\\nmse = 0.225\\\\nsamples = 30.1%\\\\nvalue = -0.424\"] ;\\n9 -> 10 ;\\n11 [label=\"mse = 0.216\\\\nsamples = 10.2%\\\\nvalue = -0.739\"] ;\\n10 -> 11 ;\\n12 [label=\"mse = 0.153\\\\nsamples = 20.0%\\\\nvalue = -0.263\"] ;\\n10 -> 12 ;\\n13 [label=\"x0 <= 2015.5\\\\nmse = 0.217\\\\nsamples = 24.9%\\\\nvalue = 0.209\"] ;\\n9 -> 13 ;\\n14 [label=\"mse = 0.198\\\\nsamples = 15.3%\\\\nvalue = 0.026\"] ;\\n13 -> 14 ;\\n15 [label=\"mse = 0.112\\\\nsamples = 9.7%\\\\nvalue = 0.496\"] ;\\n13 -> 15 ;\\n16 [label=\"x0 <= 2012.5\\\\nmse = 0.504\\\\nsamples = 26.2%\\\\nvalue = 1.123\"] ;\\n0 -> 16 [labeldistance=2.5, labelangle=-45, headlabel=\"False\"] ;\\n17 [label=\"x4 <= 164.85\\\\nmse = 0.52\\\\nsamples = 9.0%\\\\nvalue = 0.594\"] ;\\n16 -> 17 ;\\n18 [label=\"x0 <= 2009.5\\\\nmse = 0.379\\\\nsamples = 3.2%\\\\nvalue = 0.061\"] ;\\n17 -> 18 ;\\n19 [label=\"mse = 0.327\\\\nsamples = 1.0%\\\\nvalue = -0.41\"] ;\\n18 -> 19 ;\\n20 [label=\"mse = 0.263\\\\nsamples = 2.3%\\\\nvalue = 0.265\"] ;\\n18 -> 20 ;\\n21 [label=\"x4 <= 233.05\\\\nmse = 0.349\\\\nsamples = 5.7%\\\\nvalue = 0.894\"] ;\\n17 -> 21 ;\\n22 [label=\"mse = 0.274\\\\nsamples = 4.2%\\\\nvalue = 0.735\"] ;\\n21 -> 22 ;\\n23 [label=\"mse = 0.29\\\\nsamples = 1.5%\\\\nvalue = 1.34\"] ;\\n21 -> 23 ;\\n24 [label=\"x4 <= 164.35\\\\nmse = 0.271\\\\nsamples = 17.2%\\\\nvalue = 1.401\"] ;\\n16 -> 24 ;\\n25 [label=\"x0 <= 2015.5\\\\nmse = 0.213\\\\nsamples = 5.1%\\\\nvalue = 0.926\"] ;\\n24 -> 25 ;\\n26 [label=\"mse = 0.176\\\\nsamples = 2.9%\\\\nvalue = 0.717\"] ;\\n25 -> 26 ;\\n27 [label=\"mse = 0.126\\\\nsamples = 2.2%\\\\nvalue = 1.205\"] ;\\n25 -> 27 ;\\n28 [label=\"x4 <= 221.0\\\\nmse = 0.162\\\\nsamples = 12.1%\\\\nvalue = 1.599\"] ;\\n24 -> 28 ;\\n29 [label=\"mse = 0.116\\\\nsamples = 9.6%\\\\nvalue = 1.492\"] ;\\n28 -> 29 ;\\n30 [label=\"mse = 0.13\\\\nsamples = 2.5%\\\\nvalue = 2.002\"] ;\\n28 -> 30 ;\\n}', is_classification=False), highlight_spaces=None, transition_features=None, image=None)"
      ]
     },
     "execution_count": 28,
     "metadata": {},
     "output_type": "execute_result"
    }
   ],
   "source": [
    "explain_decision_tree(regressor4)"
   ]
  },
  {
   "cell_type": "markdown",
   "metadata": {},
   "source": [
    "# Часть 3. Регрессия с помощью линейных моделей"
   ]
  },
  {
   "cell_type": "markdown",
   "metadata": {},
   "source": [
    "В этом разделе вам предстоит поработать с линейной регрессией, поиграть с регуляризацией, градиентным спуском и функционалами потерь. Используем тот же датасет, что и выше. Пока начинаем работать с исходной целевой переменной. Преобразованную оставим для соответствующего задания.\n",
    "\n",
    "Дополнительно в этом разделе необходимо будет ознакомиться с GridSearchCV, чтобы перебирать параметры не независимо, а вместе. Совместный перебор разных гиперпараметров необходим в реальных задачах, так как параметры влияют друг на друга, а независимый перебор как в задании выше может привести к выбору конфигурации, которая значительно отличается от оптимальной."
   ]
  },
  {
   "cell_type": "markdown",
   "metadata": {},
   "source": [
    "# Часть 3.1 Перебор гиперпараметров"
   ]
  },
  {
   "cell_type": "markdown",
   "metadata": {},
   "source": [
    "Ниже представлен пример набора гиперпараметров для передачи в GridSearchCV. Это словарь, в котором ключ - название параметра, а значение - список из параметров для перебора Обратите внимание, что общее число операций будет равно произведению длин всех списков параметров. Так что будьте аккуратны и не делайте их слишком много.\n",
    "\n",
    "В качестве модели используйте либо ElasticNet (проще), либо SGDRegressor(чуть сложнее) на ваш выбор.\n",
    "\n",
    "Список ниже указан только для примера. Один из параметров перебирать бессмысленно, так как он не влияет на модель. Поэтому:\n",
    "1. Найдите его и удалите\n",
    "2. Добавите параметры, которые важны для настройки, расширьте диапазон уже включенных параметров, если нужно. Будьте готовы объяснить ваш выбор.\n",
    "3. Проведите поиск по сетке(возможно, придется сходить попить чай, пока будет вычисляться), обучите модель с лучшими параметрам и сравните ее качество с лучшим решающим дерево из предыдущего задания\n",
    "4. **Hint**: Вполне возможно, что huber loss в данной задаче хороший выбор. Не забудьте проверить и его тоже\n",
    "\n",
    "\n",
    "**Не забывайте стандартизировать признаки перед обучением линейных моделей!!**"
   ]
  },
  {
   "cell_type": "code",
   "execution_count": 29,
   "metadata": {},
   "outputs": [],
   "source": [
    "# обратите внимание, что некоторые значения параметров бессмысленно перебирать при конкретных значениях других\n",
    "# Для оптимизации времени (это только по вашему желанию) вам предлагается разобраться, что делать в этой ситуации\n",
    "\n",
    "grid = {'penalty': ['l2', 'elasticnet'],\n",
    "        'alpha': [1e-4, 1e-5, 1e-6, 5e-4, ],\n",
    "        'l1_ratio': [0, 0.1, 0.15],\n",
    "        'loss': ['huber'],\n",
    "    }"
   ]
  },
  {
   "cell_type": "code",
   "execution_count": 30,
   "metadata": {},
   "outputs": [],
   "source": [
    "search = GridSearchCV(SGDRegressor(random_state=33,shuffle=True), param_grid=grid, return_train_score=True,\n",
    "                      cv=KFold(5, random_state=33,shuffle=True), verbose=1,\n",
    "                      scoring='neg_mean_absolute_error', n_jobs=-1)"
   ]
  },
  {
   "cell_type": "code",
   "execution_count": 31,
   "metadata": {},
   "outputs": [
    {
     "name": "stdout",
     "output_type": "stream",
     "text": [
      "Fitting 5 folds for each of 24 candidates, totalling 120 fits\n"
     ]
    },
    {
     "data": {
      "text/plain": [
       "GridSearchCV(cv=KFold(n_splits=5, random_state=33, shuffle=True),\n",
       "             estimator=SGDRegressor(random_state=33), n_jobs=-1,\n",
       "             param_grid={'alpha': [0.0001, 1e-05, 1e-06, 0.0005],\n",
       "                         'l1_ratio': [0, 0.1, 0.15], 'loss': ['huber'],\n",
       "                         'penalty': ['l2', 'elasticnet']},\n",
       "             return_train_score=True, scoring='neg_mean_absolute_error',\n",
       "             verbose=1)"
      ]
     },
     "execution_count": 31,
     "metadata": {},
     "output_type": "execute_result"
    }
   ],
   "source": [
    "search.fit(X,y_transformed)"
   ]
  },
  {
   "cell_type": "code",
   "execution_count": 32,
   "metadata": {},
   "outputs": [
    {
     "name": "stdout",
     "output_type": "stream",
     "text": [
      "{'alpha': 0.0001, 'l1_ratio': 0.15, 'loss': 'huber', 'penalty': 'elasticnet'}\n"
     ]
    }
   ],
   "source": [
    "print(search.best_params_) "
   ]
  },
  {
   "cell_type": "code",
   "execution_count": 33,
   "metadata": {},
   "outputs": [
    {
     "data": {
      "text/plain": [
       "-0.2290343780441838"
      ]
     },
     "execution_count": 33,
     "metadata": {},
     "output_type": "execute_result"
    }
   ],
   "source": [
    "search.score(X,y_transformed)"
   ]
  },
  {
   "cell_type": "code",
   "execution_count": 34,
   "metadata": {},
   "outputs": [
    {
     "data": {
      "text/plain": [
       "[<matplotlib.lines.Line2D at 0x7f96b5172bb0>]"
      ]
     },
     "execution_count": 34,
     "metadata": {},
     "output_type": "execute_result"
    },
    {
     "data": {
      "image/png": "[encoded data removed]",
      "text/plain": [
       "<Figure size 432x288 with 1 Axes>"
      ]
     },
     "metadata": {
      "needs_background": "light"
     },
     "output_type": "display_data"
    }
   ],
   "source": [
    "best = search.best_estimator_\n",
    "plt.plot(cross_val_score(best,X,y_transformed,scoring = make_scorer(mean_squared_error)))"
   ]
  },
  {
   "cell_type": "markdown",
   "metadata": {},
   "source": [
    "#### Обучите модель с лучшими предсказаниями и сделайте cross_val_predict. Постройте распределение предсказаний и целевой переменной. Сравните. Вычислите среднюю абсолютную и среднюю квадратичную ошибку модели.\n",
    "\n",
    "Объясните вашу модель при помощи библиотеки eli5 (explain_linear_regressor_weights)"
   ]
  },
  {
   "cell_type": "code",
   "execution_count": 35,
   "metadata": {},
   "outputs": [
    {
     "data": {
      "text/html": [
       "\n",
       "    <style>\n",
       "    table.eli5-weights tr:hover {\n",
       "        filter: brightness(85%);\n",
       "    }\n",
       "</style>\n",
       "\n",
       "\n",
       "\n",
       "    \n",
       "\n",
       "    \n",
       "\n",
       "    \n",
       "\n",
       "    \n",
       "\n",
       "    \n",
       "\n",
       "    \n",
       "\n",
       "\n",
       "    \n",
       "\n",
       "    \n",
       "\n",
       "    \n",
       "\n",
       "    \n",
       "        \n",
       "\n",
       "    \n",
       "\n",
       "        \n",
       "            \n",
       "                \n",
       "                \n",
       "    \n",
       "        <p style=\"margin-bottom: 0.5em; margin-top: 0em\">\n",
       "            <b>\n",
       "    \n",
       "        y\n",
       "    \n",
       "</b>\n",
       "\n",
       "top features\n",
       "        </p>\n",
       "    \n",
       "    <table class=\"eli5-weights\"\n",
       "           style=\"border-collapse: collapse; border: none; margin-top: 0em; table-layout: auto; margin-bottom: 2em;\">\n",
       "        <thead>\n",
       "        <tr style=\"border: none;\">\n",
       "            \n",
       "                <th style=\"padding: 0 1em 0 0.5em; text-align: right; border: none;\" title=\"Feature weights. Note that weights do not account for feature value scales, so if feature values have different scales, features with highest weights might not be the most important.\">\n",
       "                    Weight<sup>?</sup>\n",
       "                </th>\n",
       "            \n",
       "            <th style=\"padding: 0 0.5em 0 0.5em; text-align: left; border: none;\">Feature</th>\n",
       "            \n",
       "        </tr>\n",
       "        </thead>\n",
       "        <tbody>\n",
       "        \n",
       "            <tr style=\"background-color: hsl(120, 100.00%, 80.00%); border: none;\">\n",
       "    <td style=\"padding: 0 1em 0 0.5em; text-align: right; border: none;\">\n",
       "        +0.490\n",
       "    </td>\n",
       "    <td style=\"padding: 0 0.5em 0 0.5em; text-align: left; border: none;\">\n",
       "        x0\n",
       "    </td>\n",
       "    \n",
       "</tr>\n",
       "        \n",
       "            <tr style=\"background-color: hsl(120, 100.00%, 86.71%); border: none;\">\n",
       "    <td style=\"padding: 0 1em 0 0.5em; text-align: right; border: none;\">\n",
       "        +0.273\n",
       "    </td>\n",
       "    <td style=\"padding: 0 0.5em 0 0.5em; text-align: left; border: none;\">\n",
       "        x4\n",
       "    </td>\n",
       "    \n",
       "</tr>\n",
       "        \n",
       "            <tr style=\"background-color: hsl(120, 100.00%, 90.85%); border: none;\">\n",
       "    <td style=\"padding: 0 1em 0 0.5em; text-align: right; border: none;\">\n",
       "        +0.160\n",
       "    </td>\n",
       "    <td style=\"padding: 0 0.5em 0 0.5em; text-align: left; border: none;\">\n",
       "        x3\n",
       "    </td>\n",
       "    \n",
       "</tr>\n",
       "        \n",
       "            <tr style=\"background-color: hsl(120, 100.00%, 93.21%); border: none;\">\n",
       "    <td style=\"padding: 0 1em 0 0.5em; text-align: right; border: none;\">\n",
       "        +0.105\n",
       "    </td>\n",
       "    <td style=\"padding: 0 0.5em 0 0.5em; text-align: left; border: none;\">\n",
       "        x26\n",
       "    </td>\n",
       "    \n",
       "</tr>\n",
       "        \n",
       "            <tr style=\"background-color: hsl(120, 100.00%, 93.55%); border: none;\">\n",
       "    <td style=\"padding: 0 1em 0 0.5em; text-align: right; border: none;\">\n",
       "        +0.097\n",
       "    </td>\n",
       "    <td style=\"padding: 0 0.5em 0 0.5em; text-align: left; border: none;\">\n",
       "        x8\n",
       "    </td>\n",
       "    \n",
       "</tr>\n",
       "        \n",
       "            <tr style=\"background-color: hsl(120, 100.00%, 93.60%); border: none;\">\n",
       "    <td style=\"padding: 0 1em 0 0.5em; text-align: right; border: none;\">\n",
       "        +0.096\n",
       "    </td>\n",
       "    <td style=\"padding: 0 0.5em 0 0.5em; text-align: left; border: none;\">\n",
       "        x9\n",
       "    </td>\n",
       "    \n",
       "</tr>\n",
       "        \n",
       "            <tr style=\"background-color: hsl(120, 100.00%, 94.16%); border: none;\">\n",
       "    <td style=\"padding: 0 1em 0 0.5em; text-align: right; border: none;\">\n",
       "        +0.084\n",
       "    </td>\n",
       "    <td style=\"padding: 0 0.5em 0 0.5em; text-align: left; border: none;\">\n",
       "        x50\n",
       "    </td>\n",
       "    \n",
       "</tr>\n",
       "        \n",
       "            <tr style=\"background-color: hsl(120, 100.00%, 95.29%); border: none;\">\n",
       "    <td style=\"padding: 0 1em 0 0.5em; text-align: right; border: none;\">\n",
       "        +0.062\n",
       "    </td>\n",
       "    <td style=\"padding: 0 0.5em 0 0.5em; text-align: left; border: none;\">\n",
       "        x27\n",
       "    </td>\n",
       "    \n",
       "</tr>\n",
       "        \n",
       "            <tr style=\"background-color: hsl(120, 100.00%, 95.51%); border: none;\">\n",
       "    <td style=\"padding: 0 1em 0 0.5em; text-align: right; border: none;\">\n",
       "        +0.058\n",
       "    </td>\n",
       "    <td style=\"padding: 0 0.5em 0 0.5em; text-align: left; border: none;\">\n",
       "        x23\n",
       "    </td>\n",
       "    \n",
       "</tr>\n",
       "        \n",
       "            <tr style=\"background-color: hsl(120, 100.00%, 96.09%); border: none;\">\n",
       "    <td style=\"padding: 0 1em 0 0.5em; text-align: right; border: none;\">\n",
       "        +0.048\n",
       "    </td>\n",
       "    <td style=\"padding: 0 0.5em 0 0.5em; text-align: left; border: none;\">\n",
       "        x43\n",
       "    </td>\n",
       "    \n",
       "</tr>\n",
       "        \n",
       "            <tr style=\"background-color: hsl(120, 100.00%, 96.11%); border: none;\">\n",
       "    <td style=\"padding: 0 1em 0 0.5em; text-align: right; border: none;\">\n",
       "        +0.047\n",
       "    </td>\n",
       "    <td style=\"padding: 0 0.5em 0 0.5em; text-align: left; border: none;\">\n",
       "        x39\n",
       "    </td>\n",
       "    \n",
       "</tr>\n",
       "        \n",
       "            <tr style=\"background-color: hsl(120, 100.00%, 96.28%); border: none;\">\n",
       "    <td style=\"padding: 0 1em 0 0.5em; text-align: right; border: none;\">\n",
       "        +0.044\n",
       "    </td>\n",
       "    <td style=\"padding: 0 0.5em 0 0.5em; text-align: left; border: none;\">\n",
       "        x35\n",
       "    </td>\n",
       "    \n",
       "</tr>\n",
       "        \n",
       "        \n",
       "            <tr style=\"background-color: hsl(120, 100.00%, 96.28%); border: none;\">\n",
       "                <td colspan=\"2\" style=\"padding: 0 0.5em 0 0.5em; text-align: center; border: none; white-space: nowrap;\">\n",
       "                    <i>&hellip; 17 more positive &hellip;</i>\n",
       "                </td>\n",
       "            </tr>\n",
       "        \n",
       "\n",
       "        \n",
       "            <tr style=\"background-color: hsl(0, 100.00%, 96.73%); border: none;\">\n",
       "                <td colspan=\"2\" style=\"padding: 0 0.5em 0 0.5em; text-align: center; border: none; white-space: nowrap;\">\n",
       "                    <i>&hellip; 23 more negative &hellip;</i>\n",
       "                </td>\n",
       "            </tr>\n",
       "        \n",
       "        \n",
       "            <tr style=\"background-color: hsl(0, 100.00%, 96.73%); border: none;\">\n",
       "    <td style=\"padding: 0 1em 0 0.5em; text-align: right; border: none;\">\n",
       "        -0.037\n",
       "    </td>\n",
       "    <td style=\"padding: 0 0.5em 0 0.5em; text-align: left; border: none;\">\n",
       "        x17\n",
       "    </td>\n",
       "    \n",
       "</tr>\n",
       "        \n",
       "            <tr style=\"background-color: hsl(0, 100.00%, 96.56%); border: none;\">\n",
       "    <td style=\"padding: 0 1em 0 0.5em; text-align: right; border: none;\">\n",
       "        -0.040\n",
       "    </td>\n",
       "    <td style=\"padding: 0 0.5em 0 0.5em; text-align: left; border: none;\">\n",
       "        x15\n",
       "    </td>\n",
       "    \n",
       "</tr>\n",
       "        \n",
       "            <tr style=\"background-color: hsl(0, 100.00%, 96.30%); border: none;\">\n",
       "    <td style=\"padding: 0 1em 0 0.5em; text-align: right; border: none;\">\n",
       "        -0.044\n",
       "    </td>\n",
       "    <td style=\"padding: 0 0.5em 0 0.5em; text-align: left; border: none;\">\n",
       "        x1\n",
       "    </td>\n",
       "    \n",
       "</tr>\n",
       "        \n",
       "            <tr style=\"background-color: hsl(0, 100.00%, 94.49%); border: none;\">\n",
       "    <td style=\"padding: 0 1em 0 0.5em; text-align: right; border: none;\">\n",
       "        -0.078\n",
       "    </td>\n",
       "    <td style=\"padding: 0 0.5em 0 0.5em; text-align: left; border: none;\">\n",
       "        x11\n",
       "    </td>\n",
       "    \n",
       "</tr>\n",
       "        \n",
       "            <tr style=\"background-color: hsl(0, 100.00%, 94.40%); border: none;\">\n",
       "    <td style=\"padding: 0 1em 0 0.5em; text-align: right; border: none;\">\n",
       "        -0.079\n",
       "    </td>\n",
       "    <td style=\"padding: 0 0.5em 0 0.5em; text-align: left; border: none;\">\n",
       "        x46\n",
       "    </td>\n",
       "    \n",
       "</tr>\n",
       "        \n",
       "            <tr style=\"background-color: hsl(0, 100.00%, 94.13%); border: none;\">\n",
       "    <td style=\"padding: 0 1em 0 0.5em; text-align: right; border: none;\">\n",
       "        -0.085\n",
       "    </td>\n",
       "    <td style=\"padding: 0 0.5em 0 0.5em; text-align: left; border: none;\">\n",
       "        x53\n",
       "    </td>\n",
       "    \n",
       "</tr>\n",
       "        \n",
       "            <tr style=\"background-color: hsl(0, 100.00%, 93.45%); border: none;\">\n",
       "    <td style=\"padding: 0 1em 0 0.5em; text-align: right; border: none;\">\n",
       "        -0.099\n",
       "    </td>\n",
       "    <td style=\"padding: 0 0.5em 0 0.5em; text-align: left; border: none;\">\n",
       "        x2\n",
       "    </td>\n",
       "    \n",
       "</tr>\n",
       "        \n",
       "            <tr style=\"background-color: hsl(0, 100.00%, 92.58%); border: none;\">\n",
       "    <td style=\"padding: 0 1em 0 0.5em; text-align: right; border: none;\">\n",
       "        -0.119\n",
       "    </td>\n",
       "    <td style=\"padding: 0 0.5em 0 0.5em; text-align: left; border: none;\">\n",
       "        x34\n",
       "    </td>\n",
       "    \n",
       "</tr>\n",
       "        \n",
       "\n",
       "        </tbody>\n",
       "    </table>\n",
       "\n",
       "            \n",
       "        \n",
       "\n",
       "        \n",
       "\n",
       "\n",
       "\n",
       "    \n",
       "\n",
       "    \n",
       "\n",
       "    \n",
       "\n",
       "    \n",
       "\n",
       "\n",
       "    \n",
       "\n",
       "    \n",
       "\n",
       "    \n",
       "\n",
       "    \n",
       "\n",
       "    \n",
       "\n",
       "    \n",
       "\n",
       "\n",
       "    \n",
       "\n",
       "    \n",
       "\n",
       "    \n",
       "\n",
       "    \n",
       "\n",
       "    \n",
       "\n",
       "    \n",
       "\n",
       "\n",
       "\n"
      ],
      "text/plain": [
       "Explanation(estimator=\"SGDRegressor(loss='huber', penalty='elasticnet', random_state=33)\", description=\"\\nFeatures with largest coefficients.\\nCaveats:\\n1. Be careful with features which are not\\n   independent - weights don't show their importance.\\n2. If scale of input features is different then scale of coefficients\\n   will also be different, making direct comparison between coefficient values\\n   incorrect.\\n3. Depending on regularization, rare features sometimes may have high\\n   coefficients; this doesn't mean they contribute much to the\\n   classification result for most examples.\\n\", error=None, method='linear model', is_regression=True, targets=[TargetExplanation(target='y', feature_weights=FeatureWeights(pos=[FeatureWeight(feature='x0', weight=0.48970226212984436, std=None, value=None), FeatureWeight(feature='x4', weight=0.27298272918920596, std=None, value=None), FeatureWeight(feature='x3', weight=0.16036349079284437, std=None, value=None), FeatureWeight(feature='x26', weight=0.10472136204577029, std=None, value=None), FeatureWeight(feature='x8', weight=0.09729646923486908, std=None, value=None), FeatureWeight(feature='x9', weight=0.09620563802657169, std=None, value=None), FeatureWeight(feature='x50', weight=0.08430269648418515, std=None, value=None), FeatureWeight(feature='x27', weight=0.06199237897959947, std=None, value=None), FeatureWeight(feature='x23', weight=0.05798531663313322, std=None, value=None), FeatureWeight(feature='x43', weight=0.04762757523254577, std=None, value=None), FeatureWeight(feature='x39', weight=0.04716077429219357, std=None, value=None), FeatureWeight(feature='x35', weight=0.04435027825964639, std=None, value=None)], neg=[FeatureWeight(feature='x34', weight=-0.11874576833560271, std=None, value=None), FeatureWeight(feature='x2', weight=-0.0993424740238886, std=None, value=None), FeatureWeight(feature='x53', weight=-0.0850608578935651, std=None, value=None), FeatureWeight(feature='x46', weight=-0.07941784751882566, std=None, value=None), FeatureWeight(feature='x11', weight=-0.07756422974587872, std=None, value=None), FeatureWeight(feature='x1', weight=-0.0440130943441824, std=None, value=None), FeatureWeight(feature='x15', weight=-0.039579013463203104, std=None, value=None), FeatureWeight(feature='x17', weight=-0.0369116922032431, std=None, value=None)], pos_remaining=17, neg_remaining=23), proba=None, score=None, weighted_spans=None, heatmap=None)], feature_importances=None, decision_tree=None, highlight_spaces=None, transition_features=None, image=None)"
      ]
     },
     "execution_count": 35,
     "metadata": {},
     "output_type": "execute_result"
    }
   ],
   "source": [
    "cross_val_predict(best,X,y_transformed)\n",
    "explain_linear_regressor_weights(best)"
   ]
  },
  {
   "cell_type": "code",
   "execution_count": 36,
   "metadata": {},
   "outputs": [
    {
     "data": {
      "text/plain": [
       "Index(['Year', 'Kilometers_Driven', 'Mileage', 'Engine', 'Power', 'Seats',\n",
       "       'New_Price', 'Name_Ambassador', 'Name_Audi', 'Name_BMW', 'Name_Bentley',\n",
       "       'Name_Chevrolet', 'Name_Datsun', 'Name_Fiat', 'Name_Force', 'Name_Ford',\n",
       "       'Name_Honda', 'Name_Hyundai', 'Name_ISUZU', 'Name_Isuzu', 'Name_Jaguar',\n",
       "       'Name_Jeep', 'Name_Lamborghini', 'Name_Land', 'Name_Mahindra',\n",
       "       'Name_Maruti', 'Name_Mercedes-Benz', 'Name_Mini', 'Name_Mitsubishi',\n",
       "       'Name_Nissan', 'Name_Porsche', 'Name_Renault', 'Name_Skoda',\n",
       "       'Name_Smart', 'Name_Tata', 'Name_Toyota', 'Name_Volkswagen',\n",
       "       'Name_Volvo', 'Location_Ahmedabad', 'Location_Bangalore',\n",
       "       'Location_Chennai', 'Location_Coimbatore', 'Location_Delhi',\n",
       "       'Location_Hyderabad', 'Location_Jaipur', 'Location_Kochi',\n",
       "       'Location_Kolkata', 'Location_Mumbai', 'Location_Pune', 'Fuel_Type_CNG',\n",
       "       'Fuel_Type_Diesel', 'Fuel_Type_Electric', 'Fuel_Type_LPG',\n",
       "       'Fuel_Type_Petrol', 'Transmission_Automatic', 'Transmission_Manual',\n",
       "       'Owner_Type_First', 'Owner_Type_Fourth & Above', 'Owner_Type_Second',\n",
       "       'Owner_Type_Third'],\n",
       "      dtype='object')"
      ]
     },
     "execution_count": 36,
     "metadata": {},
     "output_type": "execute_result"
    }
   ],
   "source": [
    "train1.drop('Price',axis = 1).columns"
   ]
  },
  {
   "cell_type": "code",
   "execution_count": 37,
   "metadata": {},
   "outputs": [
    {
     "data": {
      "text/plain": [
       "<AxesSubplot:xlabel='Attribute'>"
      ]
     },
     "execution_count": 37,
     "metadata": {},
     "output_type": "execute_result"
    },
    {
     "data": {
      "image/png": "[encoded data removed]",
      "text/plain": [
       "<Figure size 1440x1440 with 1 Axes>"
      ]
     },
     "metadata": {
      "needs_background": "light"
     },
     "output_type": "display_data"
    }
   ],
   "source": [
    "data = { 'Weight': best.coef_, 'Attribute': train1.drop('Price',axis = 1).columns}\n",
    "pd.DataFrame(data).sort_values(by = 'Weight').plot.bar(x = 'Attribute',figsize = (20,20))"
   ]
  },
  {
   "cell_type": "code",
   "execution_count": 38,
   "metadata": {},
   "outputs": [
    {
     "data": {
      "text/plain": [
       "<AxesSubplot:>"
      ]
     },
     "execution_count": 38,
     "metadata": {},
     "output_type": "execute_result"
    },
    {
     "data": {
      "image/png": "[encoded data removed]",
      "text/plain": [
       "<Figure size 432x288 with 1 Axes>"
      ]
     },
     "metadata": {
      "needs_background": "light"
     },
     "output_type": "display_data"
    }
   ],
   "source": [
    "pd.Series(best.predict(X)).hist()"
   ]
  },
  {
   "cell_type": "code",
   "execution_count": 39,
   "metadata": {},
   "outputs": [
    {
     "data": {
      "text/plain": [
       "<AxesSubplot:>"
      ]
     },
     "execution_count": 39,
     "metadata": {},
     "output_type": "execute_result"
    },
    {
     "data": {
      "image/png": "[encoded data removed]",
      "text/plain": [
       "<Figure size 432x288 with 1 Axes>"
      ]
     },
     "metadata": {
      "needs_background": "light"
     },
     "output_type": "display_data"
    }
   ],
   "source": [
    "pd.Series(y_transformed).hist()"
   ]
  },
  {
   "cell_type": "markdown",
   "metadata": {},
   "source": [
    "# Часть 3.2 Ограничение предсказаний линейной регрессии "
   ]
  },
  {
   "cell_type": "markdown",
   "metadata": {},
   "source": [
    "Мы обсуждали на лекции, что линейные модели без тормозов. Они не могут ограничивать диапазон своих предсказаний. В этом задании вам может быть полезно быстро им помочь, ограничив их после предсказания, что в теории может привести к улучшению общего качества.\n",
    "\n",
    "Нужно сделать следующее:\n",
    "- Определить, есть ли такая проблема в датасете, т.е. есть ли отрицательные предсказания или предсказания, которые сильно больше тех, что встречаются в обучающей выборки.  Если такого нет, то переходите дальше (это в теории может зависеть от ваших решений во время выполнения работы).\n",
    "- Взять лучшую моделю, полученную на поиске, применить cross_val_predict (вместо cross_val_score) и использовать np.clip перед подачей предсказаний в метрику, сравнить со значениями без клиппинга и сделать выводы."
   ]
  },
  {
   "cell_type": "code",
   "execution_count": 40,
   "metadata": {},
   "outputs": [
    {
     "data": {
      "text/plain": [
       "0.10262984091979653"
      ]
     },
     "execution_count": 40,
     "metadata": {},
     "output_type": "execute_result"
    }
   ],
   "source": [
    "mean_squared_error(y_transformed,np.clip(cross_val_predict(best,X,y_transformed),min(y_transformed),max(y_transformed)))"
   ]
  },
  {
   "cell_type": "code",
   "execution_count": 41,
   "metadata": {},
   "outputs": [
    {
     "data": {
      "text/plain": [
       "0.10438349682383262"
      ]
     },
     "execution_count": 41,
     "metadata": {},
     "output_type": "execute_result"
    }
   ],
   "source": [
    "mean_squared_error(y_transformed,cross_val_predict(best,X,y_transformed))"
   ]
  },
  {
   "cell_type": "code",
   "execution_count": null,
   "metadata": {},
   "outputs": [],
   "source": []
  },
  {
   "cell_type": "markdown",
   "metadata": {},
   "source": [
    "# Часть 3.3 * (На 10) Еще помогаем линейной регрессии соревноваться"
   ]
  },
  {
   "cell_type": "markdown",
   "metadata": {},
   "source": [
    "Ничто не гарантирует, что перебор параметров выбрал бы именно эти, если бы np.clip проходил прямо внутри модели во время перебора. Чтобы наверняка выбрать лучшую модель, переопределите класс ElasticNet (или SGDRegressor) так, чтобы сразу после предикта предсказания за пределами диапазона датасета заменялись на минимум и максимум соответственно и проведите новый поиск по сетке.\n",
    "\n",
    "Я уверен, что если до этого задания кто и доберется, то он наверняка без проблем сможет разобраться, как это реализовать. Если же вдруг будут вопросы, то милости прошу в slack."
   ]
  },
  {
   "cell_type": "code",
   "execution_count": 42,
   "metadata": {},
   "outputs": [],
   "source": [
    "class SGDRegressor0(SGDRegressor):\n",
    "    def fit(self, X, y, sample_weight=None, check_input=True):\n",
    "        self.max = max(y)\n",
    "        self.min = min(y)\n",
    "        super().fit( X, y, sample_weight, check_input)\n",
    "        return self\n",
    "    def predict(self, X):\n",
    "        y = super().predict(X)\n",
    "        return np.clip(y,self.min,self.max)"
   ]
  },
  {
   "cell_type": "code",
   "execution_count": 43,
   "metadata": {},
   "outputs": [],
   "source": [
    "search33 = GridSearchCV(SGDRegressor0(random_state=33, shuffle = True), param_grid=grid, return_train_score=True,\n",
    "                      cv=KFold(5, random_state=33,shuffle=True), verbose=1,\n",
    "                      scoring='neg_mean_absolute_error', n_jobs=-1)\n",
    "search30 = GridSearchCV(SGDRegressor(random_state=33, shuffle = True), param_grid=grid, return_train_score=True,\n",
    "                      cv=KFold(5, random_state=33,shuffle=True), verbose=1,\n",
    "                      scoring='neg_mean_absolute_error', n_jobs=-1)"
   ]
  },
  {
   "cell_type": "code",
   "execution_count": 44,
   "metadata": {},
   "outputs": [
    {
     "name": "stdout",
     "output_type": "stream",
     "text": [
      "Fitting 5 folds for each of 24 candidates, totalling 120 fits\n",
      "Fitting 5 folds for each of 24 candidates, totalling 120 fits\n"
     ]
    },
    {
     "data": {
      "text/plain": [
       "GridSearchCV(cv=KFold(n_splits=5, random_state=33, shuffle=True),\n",
       "             estimator=SGDRegressor(random_state=33), n_jobs=-1,\n",
       "             param_grid={'alpha': [0.0001, 1e-05, 1e-06, 0.0005],\n",
       "                         'l1_ratio': [0, 0.1, 0.15], 'loss': ['huber'],\n",
       "                         'penalty': ['l2', 'elasticnet']},\n",
       "             return_train_score=True, scoring='neg_mean_absolute_error',\n",
       "             verbose=1)"
      ]
     },
     "execution_count": 44,
     "metadata": {},
     "output_type": "execute_result"
    }
   ],
   "source": [
    "search33.fit(X,y_transformed)\n",
    "search30.fit(X,y_transformed)"
   ]
  },
  {
   "cell_type": "code",
   "execution_count": 45,
   "metadata": {},
   "outputs": [
    {
     "name": "stdout",
     "output_type": "stream",
     "text": [
      "SGDRegressor0: 198.6053095356058\n",
      "SGDRegressor: 198.2121919499256\n"
     ]
    }
   ],
   "source": [
    "print(\"SGDRegressor0: \"+ str(mean_squared_error(y,search33.predict(X))))\n",
    "print(\"SGDRegressor: \"+ str(mean_squared_error(y,search30.predict(X))))"
   ]
  },
  {
   "cell_type": "markdown",
   "metadata": {},
   "source": [
    "# Часть 3.4. Преобразования целевой переменной"
   ]
  },
  {
   "cell_type": "markdown",
   "metadata": {},
   "source": [
    "В этом задании вам необходимо сравнить качество работы линейной регрессии без и с преобразованием целевой переменной на основе наработок из задания 1.3\n",
    "\n",
    "Для этого нужно взять взять заранее сохраненную целевую переменную y_transformed. А затем провести grid search снова. Лучшая модель в этом случае будет предсказывать преобразованную целевую переменную. Вернуться к изначальной необходимо, применив к предсказаниям inverse_transform у обученного объекта PowerTransformer.\n",
    "\n",
    "**ВНИМАНИЕ**!! Без обратного преобразования результаты моделей несравнимы. Почему?\n",
    "\n",
    "\n",
    "В конце концов, постройте гистограмму предсказаний в случаях с преобразованием и без него. Сравните с гистограммой целевой переменной. В каком случае распределение предсказаний выглядит более похожим на настоящее?"
   ]
  },
  {
   "cell_type": "code",
   "execution_count": 46,
   "metadata": {},
   "outputs": [
    {
     "name": "stdout",
     "output_type": "stream",
     "text": [
      "\n"
     ]
    },
    {
     "data": {
      "image/png": "[encoded data removed]",
      "text/plain": [
       "<Figure size 432x288 with 1 Axes>"
      ]
     },
     "metadata": {
      "needs_background": "light"
     },
     "output_type": "display_data"
    }
   ],
   "source": [
    "pd.Series(best.predict(X)).hist()\n",
    "print()"
   ]
  },
  {
   "cell_type": "code",
   "execution_count": 47,
   "metadata": {},
   "outputs": [
    {
     "data": {
      "text/plain": [
       "<AxesSubplot:>"
      ]
     },
     "execution_count": 47,
     "metadata": {},
     "output_type": "execute_result"
    },
    {
     "data": {
      "image/png": "[encoded data removed]",
      "text/plain": [
       "<Figure size 432x288 with 1 Axes>"
      ]
     },
     "metadata": {
      "needs_background": "light"
     },
     "output_type": "display_data"
    }
   ],
   "source": [
    "pd.Series(pt.inverse_transform(best.predict(X).reshape(-1,1)).flatten()).hist()"
   ]
  },
  {
   "cell_type": "code",
   "execution_count": 48,
   "metadata": {},
   "outputs": [
    {
     "data": {
      "text/plain": [
       "<AxesSubplot:>"
      ]
     },
     "execution_count": 48,
     "metadata": {},
     "output_type": "execute_result"
    },
    {
     "data": {
      "image/png": "[encoded data removed]",
      "text/plain": [
       "<Figure size 432x288 with 1 Axes>"
      ]
     },
     "metadata": {
      "needs_background": "light"
     },
     "output_type": "display_data"
    }
   ],
   "source": [
    "pd.Series(y_transformed).hist()"
   ]
  },
  {
   "cell_type": "markdown",
   "metadata": {},
   "source": [
    "# Часть 3.5. Полноценный подбор гиперпараметров для решающего дерева"
   ]
  },
  {
   "cell_type": "markdown",
   "metadata": {},
   "source": [
    "Название говорит само за себя. Проведите процедуру поиска по сетке важный параметров для дерева на этой же задаче. Объясните выбор своих параметров и будьте готовы отвечать на вопросы о их значении."
   ]
  },
  {
   "cell_type": "code",
   "execution_count": 49,
   "metadata": {},
   "outputs": [],
   "source": [
    "grid0 = {'criterion':[\"squared_error\",\"absolute_error\"],\n",
    "         'splitter':['best','random'],\n",
    "         'max_leaf_nodes':[10,50,100],\n",
    "    }\n",
    "search0 = GridSearchCV(DecisionTreeRegressor(random_state=33), param_grid=grid0, return_train_score=True,\n",
    "                      cv=KFold(5, random_state=33,shuffle=True), verbose=1,\n",
    "                      scoring='neg_mean_absolute_error', n_jobs=-1)"
   ]
  },
  {
   "cell_type": "code",
   "execution_count": 50,
   "metadata": {},
   "outputs": [
    {
     "data": {
      "text/plain": [
       "dict_keys(['ccp_alpha', 'criterion', 'max_depth', 'max_features', 'max_leaf_nodes', 'min_impurity_decrease', 'min_impurity_split', 'min_samples_leaf', 'min_samples_split', 'min_weight_fraction_leaf', 'random_state', 'splitter'])"
      ]
     },
     "execution_count": 50,
     "metadata": {},
     "output_type": "execute_result"
    }
   ],
   "source": [
    "search0.estimator.get_params().keys()"
   ]
  },
  {
   "cell_type": "code",
   "execution_count": 51,
   "metadata": {},
   "outputs": [
    {
     "name": "stdout",
     "output_type": "stream",
     "text": [
      "Fitting 5 folds for each of 18 candidates, totalling 90 fits\n"
     ]
    },
    {
     "name": "stderr",
     "output_type": "stream",
     "text": [
      "/Users/natalliazzz/opt/anaconda3/lib/python3.8/site-packages/sklearn/model_selection/_search.py:918: UserWarning: One or more of the test scores are non-finite: [        nan         nan         nan         nan         nan         nan\n",
      " -0.36627541 -0.44317695 -0.27893578 -0.32874177 -0.25176385 -0.28875504\n",
      "         nan         nan         nan         nan         nan         nan]\n",
      "  warnings.warn(\n",
      "/Users/natalliazzz/opt/anaconda3/lib/python3.8/site-packages/sklearn/model_selection/_search.py:918: UserWarning: One or more of the train scores are non-finite: [        nan         nan         nan         nan         nan         nan\n",
      " -0.36440003 -0.44399792 -0.25832969 -0.31324984 -0.2232414  -0.26275801\n",
      "         nan         nan         nan         nan         nan         nan]\n",
      "  warnings.warn(\n"
     ]
    },
    {
     "data": {
      "text/plain": [
       "GridSearchCV(cv=KFold(n_splits=5, random_state=33, shuffle=True),\n",
       "             estimator=DecisionTreeRegressor(random_state=33), n_jobs=-1,\n",
       "             param_grid={'criterion': ['squared_error', 'mse',\n",
       "                                       'absolute_error'],\n",
       "                         'max_leaf_nodes': [10, 50, 100],\n",
       "                         'splitter': ['best', 'random']},\n",
       "             return_train_score=True, scoring='neg_mean_absolute_error',\n",
       "             verbose=1)"
      ]
     },
     "execution_count": 51,
     "metadata": {},
     "output_type": "execute_result"
    }
   ],
   "source": [
    "search0.fit(X,y_transformed)"
   ]
  },
  {
   "cell_type": "code",
   "execution_count": 52,
   "metadata": {},
   "outputs": [
    {
     "data": {
      "text/plain": [
       "DecisionTreeRegressor(max_leaf_nodes=100, random_state=33)"
      ]
     },
     "execution_count": 52,
     "metadata": {},
     "output_type": "execute_result"
    }
   ],
   "source": [
    "search0.best_estimator_"
   ]
  },
  {
   "cell_type": "code",
   "execution_count": 53,
   "metadata": {},
   "outputs": [
    {
     "data": {
      "text/plain": [
       "0.08730844915364039"
      ]
     },
     "execution_count": 53,
     "metadata": {},
     "output_type": "execute_result"
    }
   ],
   "source": [
    "mean_squared_error(y_transformed,search0.predict(X))"
   ]
  },
  {
   "cell_type": "code",
   "execution_count": 54,
   "metadata": {},
   "outputs": [
    {
     "data": {
      "text/plain": [
       "0.12344704620060439"
      ]
     },
     "execution_count": 54,
     "metadata": {},
     "output_type": "execute_result"
    }
   ],
   "source": [
    "mean_squared_error(y_transformed,cross_val_predict(regressor1,X,y_transformed))"
   ]
  },
  {
   "cell_type": "markdown",
   "metadata": {},
   "source": [
    "## Часть 3.5.1 (На оценку 9). Рандомизированный поиск гиперпараметров"
   ]
  },
  {
   "cell_type": "markdown",
   "metadata": {},
   "source": [
    "Вы уже должны были ощутить на себе, что grid_search может занимать слишком много времени, так как перебирает все вохможные комбинации параметров, даже если в этом нет смысла. Тут может быть полезен RandomizedSearchCV. В этом случае вместо сетки параметров мы для дискретных параметров указываем диапазон, из которого нужно выбирать случайные значения, а дле непрерывных параметров (например, коэффициент регуляризации) указываем распределение, из которого нужно сэмплировать. \n",
    "\n",
    "В рамках этого подзадания вам нужно заменить во всем задании 3.4 GridSearchCV на RandomizedSearchCV и проанализировать полученные результаты. Пример использования прямо на странице документации метода: https://scikit-learn.org/stable/modules/generated/sklearn.model_selection.RandomizedSearchCV.html#examples-using-sklearn-model-selection-randomizedsearchcv"
   ]
  },
  {
   "cell_type": "code",
   "execution_count": 55,
   "metadata": {},
   "outputs": [
    {
     "name": "stdout",
     "output_type": "stream",
     "text": [
      "Fitting 5 folds for each of 10 candidates, totalling 50 fits\n"
     ]
    },
    {
     "name": "stderr",
     "output_type": "stream",
     "text": [
      "/Users/natalliazzz/opt/anaconda3/lib/python3.8/site-packages/sklearn/model_selection/_search.py:918: UserWarning: One or more of the test scores are non-finite: [        nan         nan         nan -0.25176385 -0.32874177 -0.27893578\n",
      "         nan         nan         nan         nan]\n",
      "  warnings.warn(\n",
      "/Users/natalliazzz/opt/anaconda3/lib/python3.8/site-packages/sklearn/model_selection/_search.py:918: UserWarning: One or more of the train scores are non-finite: [        nan         nan         nan -0.2232414  -0.31324984 -0.25832969\n",
      "         nan         nan         nan         nan]\n",
      "  warnings.warn(\n"
     ]
    },
    {
     "data": {
      "text/plain": [
       "DecisionTreeRegressor(max_leaf_nodes=100, random_state=33)"
      ]
     },
     "execution_count": 55,
     "metadata": {},
     "output_type": "execute_result"
    }
   ],
   "source": [
    "random_search = RandomizedSearchCV(DecisionTreeRegressor(random_state=33), param_distributions=grid0, return_train_score=True,\n",
    "                      cv=KFold(5, random_state=33,shuffle=True), verbose=1,\n",
    "                      scoring='neg_mean_absolute_error', n_jobs=-1)\n",
    "random_search.fit(X,y_transformed)\n",
    "random_search.best_estimator_"
   ]
  },
  {
   "cell_type": "code",
   "execution_count": 56,
   "metadata": {},
   "outputs": [
    {
     "data": {
      "text/plain": [
       "0.08730844915364039"
      ]
     },
     "execution_count": 56,
     "metadata": {},
     "output_type": "execute_result"
    }
   ],
   "source": [
    "mean_squared_error(y_transformed,random_search.predict(X))"
   ]
  },
  {
   "cell_type": "code",
   "execution_count": 57,
   "metadata": {},
   "outputs": [
    {
     "data": {
      "text/plain": [
       "0.08730844915364039"
      ]
     },
     "execution_count": 57,
     "metadata": {},
     "output_type": "execute_result"
    }
   ],
   "source": [
    "mean_squared_error(y_transformed,search0.predict(X))"
   ]
  },
  {
   "cell_type": "code",
   "execution_count": 58,
   "metadata": {},
   "outputs": [
    {
     "name": "stdout",
     "output_type": "stream",
     "text": [
      "Fitting 5 folds for each of 10 candidates, totalling 50 fits\n"
     ]
    },
    {
     "data": {
      "text/plain": [
       "SGDRegressor(l1_ratio=0.1, loss='huber', penalty='elasticnet', random_state=33)"
      ]
     },
     "execution_count": 58,
     "metadata": {},
     "output_type": "execute_result"
    }
   ],
   "source": [
    "random_search0 = RandomizedSearchCV(SGDRegressor(random_state=33,shuffle=True), param_distributions=grid, return_train_score=True,\n",
    "                      cv=KFold(5, random_state=33,shuffle=True), verbose=1,\n",
    "                      scoring='neg_mean_absolute_error', n_jobs=-1)\n",
    "random_search0.fit(X,y_transformed)\n",
    "random_search0.best_estimator_"
   ]
  },
  {
   "cell_type": "code",
   "execution_count": 59,
   "metadata": {},
   "outputs": [
    {
     "data": {
      "text/plain": [
       "0.09947312919576701"
      ]
     },
     "execution_count": 59,
     "metadata": {},
     "output_type": "execute_result"
    }
   ],
   "source": [
    "mean_squared_error(y_transformed,random_search0.predict(X))"
   ]
  },
  {
   "cell_type": "code",
   "execution_count": 60,
   "metadata": {},
   "outputs": [
    {
     "data": {
      "text/plain": [
       "0.09945561454693726"
      ]
     },
     "execution_count": 60,
     "metadata": {},
     "output_type": "execute_result"
    }
   ],
   "source": [
    "mean_squared_error(y_transformed,search.predict(X))"
   ]
  },
  {
   "cell_type": "markdown",
   "metadata": {},
   "source": [
    "# Часть 3.6* (На 10). Первые шаги в смешивании моделей"
   ]
  },
  {
   "cell_type": "markdown",
   "metadata": {},
   "source": [
    "По результатам работы выше у вас получилось 2 модели разной природы. Известно, что смешивание разных моделей улучшает качество работы, так как они предсказывают **по-разному**.\n",
    "Самый простой способ смешивания - усреднение предсказаний с весами. Ваша задача - сделать такое усреднение и подобрать лучшие веса. Важно, чтобы для двух моделей использовалась **ИДЕНТИЧНАЯ** схема разбиения на фолды."
   ]
  },
  {
   "cell_type": "code",
   "execution_count": 61,
   "metadata": {},
   "outputs": [
    {
     "data": {
      "text/plain": [
       "6019"
      ]
     },
     "execution_count": 61,
     "metadata": {},
     "output_type": "execute_result"
    }
   ],
   "source": [
    "y_transformed.size"
   ]
  },
  {
   "cell_type": "code",
   "execution_count": 70,
   "metadata": {},
   "outputs": [
    {
     "name": "stdout",
     "output_type": "stream",
     "text": [
      "SGDRegressor(loss='huber', penalty='elasticnet', random_state=33)\n",
      "DecisionTreeRegressor(max_leaf_nodes=100, random_state=33)\n",
      "a1:0.4044216770151075\n",
      "a2:0.5955783229848925\n"
     ]
    },
    {
     "data": {
      "image/png": "[encoded data removed]",
      "text/plain": [
       "<Figure size 432x288 with 1 Axes>"
      ]
     },
     "metadata": {
      "needs_background": "light"
     },
     "output_type": "display_data"
    }
   ],
   "source": [
    "# model1 = search.best_estimator_.fit(X, y_transformed)\n",
    "# model2 = search0.best_estimator_.fit(X, y_transformed)\n",
    "# y1 = model1.predict(X)\n",
    "# y2 = model2.predict(X)\n",
    "print(search.best_estimator_)\n",
    "print(search0.best_estimator_)\n",
    "y1 = search.predict(X)\n",
    "y2 = search0.predict(X)\n",
    "a1 = a2 = 0.5;\n",
    "n = y_transformed.size\n",
    "er = []\n",
    "for i in range(0,5):\n",
    "    er.append(mean_squared_error(y_transformed, (a1*y1+a2*y2)/(a1+a2)))\n",
    "#     print(str(i+1)+':'+str(er[i]))\n",
    "    a1 = a1 - 0.02* (2/n)*(np.sum((a1*y1+a2*y2)/(a1+a2)-y_transformed)*(a2/((a1+a2)**2)*np.sum(y1 - y2)))\n",
    "    a2 = a2 - 0.02* (2/n)*(np.sum((a1*y1+a2*y2)/(a1+a2)-y_transformed)*(a1/((a1+a2)**2)*np.sum(y2 - y1)))\n",
    "plt.plot(er)\n",
    "print('a1:' + str(a1/(a1+a2)))\n",
    "print('a2:' + str(a2/(a1+a2)))"
   ]
  },
  {
   "cell_type": "markdown",
   "metadata": {},
   "source": [
    "# Часть 4. Возможность исправить проблемы с прошлыми или будущими лабами. Либо узнать что-то новое для тех, у кого проблем нет"
   ]
  },
  {
   "cell_type": "markdown",
   "metadata": {},
   "source": [
    "Отдельное задание для того, чтобы поправить среднюю оценку. К лабе оно напрямую не относится. Этим же заданием хорошим, но ленивым студентам  дается возможность исправить возможные проблемы. Если его выполнить и защитить, то можно получить дополнительную десятку, которая, очевидно, хорошо повлияет на оценку. Выполнять можно до конца ноября. \n",
    "\n",
    "У вас есть 3 варианта на выбор:\n",
    "1. Реализовать линейную регрессию с регуляризацией в общем виде(ElasticNet), которая обучается с помощью стохастического градиентного спуска.\n",
    "2. Реализовать решающее дерево вместе с процессом обучением. Конкретный вариант дерева остается на ваш выбор(например, CART). Работаем только с классификацией, а в качестве критерия рассматриваем индекс Джини или энтропийный критерий.\n",
    "3. Вариант для самых суровых. Существует еще один любопытный вариант решающих деревьев: linear tree. Это такие решающие деревья, в которых к листьях вместо константы находятся линейные модели, лучше всего приблежающие данные, которые до этого листа дошли. Хитро, не правда ли? Таким образом, для выполнения этого пунка нужна как реализация линейных моделей, так и реализация решающих деревьев. Линейную модель можно взять из sklearn, а вот дерево придется написать самостоятельно. Детали смотреть в https://arxiv.org/abs/1802.05640 .\n",
    "\n",
    "После выполнения задания проверьте вашу реализацию на датасете из этой лабы и сравните результаты.\n",
    "\n",
    "P.S. Все варианты выполнять точно не нужно, за это никаких дополнительных плюшек не будет. Пожалейте себя. Вариант 3 рекомендуется выполнять только в случае внутреннего ощущения крайней творческой необходимости.\n",
    "\n",
    "\n",
    "Самое главное: код должен быть написан и защищен вами. Сдать слегка измененный код из интернета сдать не получится."
   ]
  },
  {
   "cell_type": "code",
   "execution_count": 174,
   "metadata": {},
   "outputs": [],
   "source": [
    "class MyElasticNet():\n",
    "    \n",
    "    def __init__(self,l1_ratio = 0.5,max_iterations = 100, alpha = 1, tol = 0.0001, learning_rate = 0.01):\n",
    "        self.lambda1 = l1_ratio\n",
    "        self.lambda2 = 1 - l1_ratio\n",
    "        self.alpha = alpha\n",
    "        self.tol = tol\n",
    "        self.max_iter = max_iterations\n",
    "        self.learning_rate = learning_rate\n",
    "        \n",
    "    def fit(self,X,y):\n",
    "        self.weights = np.random.rand(X.shape[0],1)\n",
    "        self.bias = np.random.rand(1)\n",
    "        iteration = 0\n",
    "        self.error = [self.count_elasticnet_function(X,y)]\n",
    "        self.shape = X.shape[1]\n",
    "        while self.count_elasticnet_function(X,y) > self.tol and iteration < self.max_iter:\n",
    "            iteration += 1\n",
    "            index = np.random.randint(X.shape[1])\n",
    "            self.error.append(self.count_elasticnet_function(X,y))\n",
    "            self.count_gradient(X[:,index],y[index])\n",
    "            self.bias -= self.learning_rate*self.db\n",
    "            self.weights -= self.learning_rate*self.dw.T\n",
    "        \n",
    "    def count_gradient(self,X,y):\n",
    "        self.db = -2 * np.sum(y - (np.dot(self.weights.T,X)+ self.bias)) + self.lambda1*np.sign(self.bias) + 2*self.lambda2*self.bias\n",
    "        self.dw = -2*np.multiply(X,(y - (np.dot(self.weights.T,X)+ self.bias))) + self.alpha*self.lambda1*np.sign(self.weights).T + self.alpha*2*self.lambda2*self.weights.T\n",
    "        \n",
    "            \n",
    "    def count_elasticnet_function(self,X,y):\n",
    "        return  np.mean(np.sum((y - np.dot(self.weights.T,X) + self.bias)**2).T + self.alpha*self.lambda1* np.abs(self.weights)+ (self.alpha*self.lambda2* (self.weights)**2))\n",
    "        \n",
    "    def predict(self,X):\n",
    "        return np.dot(self.weights.T,X)+ self.bias\n",
    "        \n",
    "    def graph(self):\n",
    "        plt.plot(np.array(self.error).flatten())\n",
    "        plt.show()\n",
    "    "
   ]
  },
  {
   "cell_type": "code",
   "execution_count": 192,
   "metadata": {},
   "outputs": [
    {
     "data": {
      "image/png": "[encoded data removed]",
      "text/plain": [
       "<Figure size 432x288 with 1 Axes>"
      ]
     },
     "metadata": {
      "needs_background": "light"
     },
     "output_type": "display_data"
    }
   ],
   "source": [
    "en = MyElasticNet(tol = 1e-10,max_iterations = 100)\n",
    "en.fit(X.T,y_transformed)\n",
    "en.graph()"
   ]
  },
  {
   "cell_type": "code",
   "execution_count": 193,
   "metadata": {},
   "outputs": [
    {
     "data": {
      "text/plain": [
       "3430.8324115214755"
      ]
     },
     "execution_count": 193,
     "metadata": {},
     "output_type": "execute_result"
    }
   ],
   "source": [
    "en.count_elasticnet_function(X.T,y_transformed)"
   ]
  },
  {
   "cell_type": "code",
   "execution_count": null,
   "metadata": {},
   "outputs": [],
   "source": []
  }
 ],
 "metadata": {
  "kernelspec": {
   "display_name": "Python 3 (ipykernel)",
   "language": "python",
   "name": "python3"
  },
  "language_info": {
   "codemirror_mode": {
    "name": "ipython",
    "version": 3
   },
   "file_extension": ".py",
   "mimetype": "text/x-python",
   "name": "python",
   "nbconvert_exporter": "python",
   "pygments_lexer": "ipython3",
   "version": "3.8.8"
  }
 },
 "nbformat": 4,
 "nbformat_minor": 4
}
